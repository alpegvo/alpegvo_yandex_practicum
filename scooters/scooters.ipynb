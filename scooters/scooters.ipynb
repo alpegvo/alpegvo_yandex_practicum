{
 "cells": [
  {
   "cell_type": "markdown",
   "id": "56c8bf8a-03b9-4aac-af5e-a64070de27c2",
   "metadata": {},
   "source": [
    "# Проект: \"Анализ данных сервиса проката самокатов\"\n",
    "\n",
    "**В проекте проанализированы данные сервиса проката самокатов, а именно: информация о пользователях из нескольких городов и об их поездках. Проверен ряд гипотез, которые могут помочь сервису зарабатывать больше. На момент выгрузки данных, клиенты сервиса могли использовать его двумя способами:**\n",
    "\n",
    "**1. Без подписки - free.** При этом абонентская плата отсутствует, минута поездки стоит 8 рублей, стоимость старта - 50 рублей.\n",
    "\n",
    "**2. По подписке - ultra.** Абонентская плата - 199 руб/месяц, минута поездки стоит 6 рублей, старт бесплатный.\n",
    "\n",
    "\n",
    "**Данные представлены тремя датасетами:**\n",
    "\n",
    "**1. Пользователи** - `users.csv`, в котором содержится информация о:\n",
    "\n",
    "`user_id` - уникальном идентификаторе пользователя\n",
    "\n",
    "`name` - имени пользователя\n",
    "\n",
    "`age` - возрасте\n",
    "\n",
    "`city` - городе\n",
    "\n",
    "`subscription_type` - типе подписки (free, ultra)\n",
    "\n",
    "**2. Поездки** - `rides.csv` с данными о:\n",
    "\n",
    "`user_id` - уникальном идентификаторе пользователя\n",
    "\n",
    "`distance` - расстоянии, которое пользователь проехал в текущей сессии (в метрах)\n",
    "\n",
    "`duration` - продолжительности сессии (в минутах) — время с того момента, как пользователь нажал кнопку «Начать поездку» до момента, как он нажал кнопку «Завершить поездку»\n",
    "\n",
    "`date` - дате совершения поездки\n",
    "\n",
    "**3. Подписки** - `subscriptions.csv`. Содержит информацию о:\n",
    "\n",
    "`subscription_type` - типе подписки\n",
    "\n",
    "`minute_price` - стоимости одной минуты поездки по данной подписке\n",
    "\n",
    "`start_ride_price` - стоимости начала поездки\n",
    "\n",
    "`subscription_fee` - стоимости ежемесячного платежа\n"
   ]
  },
  {
   "cell_type": "markdown",
   "id": "fb8ec2b9-0812-456e-a852-aa80e86b9caf",
   "metadata": {},
   "source": [
    "**План выполнения проекта:**\n",
    "\n",
    "1. Ознакомиться с данными в предоставленных датасетах, проверить, что они содержат заявленную информацию\n",
    "2. Выполнить предобработку данных - проверить на наличие пропусков, явных и неявных дубликатов\n",
    "3. Провести исследовательский анализ данных: \n",
    "- Оценить частоту встречаемости городов в датасете `users`;\n",
    "- Вычислить соотношение пользователей, которые пользуются сервисом с подпиской и без подписки;\n",
    "- Проверить как распределены пользователи сервиса по возрастам;\n",
    "- Оценить распределение длительности поездок\n",
    "4. Выполнить объединение данных из датасетов `users`, `rides` и `subscriptions` и создать отдельные таблицы данных для пользователей с подпиской и без нее. Используя подготовленные таблицы, оценить расстояние и время поездок в обеих группах.\n",
    "5. Выполнить подсчет выручки, предварительно создав сводные таблицы, содержащие данные о помесячной выручке для каждого клиента.\n",
    "6. Проверить гипотезы о том, что:\n",
    "- пользователи с подпиской тратят больше времени на поездки, чем пользователи без подписки; \n",
    "- расстояние, которое проезжают пользователи с подпиской за одну поездку не превышает 3130 метров;\n",
    "- помесячная выручка от пользователей с подпиской по месяцам выше, чем от пользователей без подписки.\n",
    "+ ответить на вопрос о том, какой статистический тест можно использовать для оценки того, снизилось ли количество обращений пользователей в техподдержку после обновления сервера.\n",
    "7. Дать ответы на вопросы о том:\n",
    "\n",
    "- какое минимальное количество промокодов на бесплатную месячную подписку нужно раздать, чтобы с вероятностью 95% или больше как минимум 100 человек продлили бы подписку (при условии, что вероятность продления подписки пользователем, получившим промокод, 10%)\n",
    "\n",
    "- какова вероятность того, что из 1 млн разосланных push-уведомлений будет открыто не более 399.5 тыс уведомлений (при условии, что вероятность открытия уведомления 40%)\n",
    "\n",
    "8. Сделать выводы по результатм проекта\n"
   ]
  },
  {
   "cell_type": "markdown",
   "id": "bc50207a-7017-4d09-84f4-59063925be86",
   "metadata": {},
   "source": [
    "## Первичный анализ датасетов\n",
    "\n",
    "**Импортируем библиотеки, необходимые для работы:**"
   ]
  },
  {
   "cell_type": "code",
   "execution_count": 1,
   "id": "c8d1d597-13b5-4425-b765-bf047f0c4da8",
   "metadata": {},
   "outputs": [],
   "source": [
    "import pandas as pd\n",
    "import matplotlib.pyplot as plt\n",
    "import numpy as np\n",
    "from scipy import stats as st\n",
    "from math import factorial\n",
    "from math import sqrt\n",
    "from scipy.stats import binom\n",
    "\n",
    "import warnings\n",
    "warnings.filterwarnings(\"ignore\")"
   ]
  },
  {
   "cell_type": "markdown",
   "id": "c0f4c2bb-3265-4fee-a79b-457867eb2f57",
   "metadata": {},
   "source": [
    "**Загрузим данные из csv-файлов в датафреймы с названиями `users` ,`rides` и `subscriptions`:**"
   ]
  },
  {
   "cell_type": "code",
   "execution_count": 2,
   "id": "fd0b85cc-9f42-435c-b5dc-04b69b01f262",
   "metadata": {},
   "outputs": [],
   "source": [
    "users = pd.read_csv('/datasets/users.csv')"
   ]
  },
  {
   "cell_type": "code",
   "execution_count": 3,
   "id": "d3446410-b909-4c10-aba2-c14e07a663d2",
   "metadata": {},
   "outputs": [
    {
     "name": "stdout",
     "output_type": "stream",
     "text": [
      "<class 'pandas.core.frame.DataFrame'>\n",
      "RangeIndex: 1565 entries, 0 to 1564\n",
      "Data columns (total 5 columns):\n",
      " #   Column             Non-Null Count  Dtype \n",
      "---  ------             --------------  ----- \n",
      " 0   user_id            1565 non-null   int64 \n",
      " 1   name               1565 non-null   object\n",
      " 2   age                1565 non-null   int64 \n",
      " 3   city               1565 non-null   object\n",
      " 4   subscription_type  1565 non-null   object\n",
      "dtypes: int64(2), object(3)\n",
      "memory usage: 61.3+ KB\n"
     ]
    }
   ],
   "source": [
    "users.info()"
   ]
  },
  {
   "cell_type": "code",
   "execution_count": 4,
   "id": "cac0b15b-7ddd-42e2-8e30-3d5e34b6cdf2",
   "metadata": {},
   "outputs": [],
   "source": [
    "rides = pd.read_csv('/datasets/rides.csv')"
   ]
  },
  {
   "cell_type": "code",
   "execution_count": 5,
   "id": "5d24ccb3-10e9-444c-ab0f-2343fb88b88e",
   "metadata": {},
   "outputs": [
    {
     "name": "stdout",
     "output_type": "stream",
     "text": [
      "<class 'pandas.core.frame.DataFrame'>\n",
      "RangeIndex: 18068 entries, 0 to 18067\n",
      "Data columns (total 4 columns):\n",
      " #   Column    Non-Null Count  Dtype  \n",
      "---  ------    --------------  -----  \n",
      " 0   user_id   18068 non-null  int64  \n",
      " 1   distance  18068 non-null  float64\n",
      " 2   duration  18068 non-null  float64\n",
      " 3   date      18068 non-null  object \n",
      "dtypes: float64(2), int64(1), object(1)\n",
      "memory usage: 564.8+ KB\n"
     ]
    }
   ],
   "source": [
    "rides.info()"
   ]
  },
  {
   "cell_type": "code",
   "execution_count": 6,
   "id": "75161e1f-f920-4980-b7c6-8cc6a389aeae",
   "metadata": {},
   "outputs": [],
   "source": [
    "subscriptions = pd.read_csv('/datasets/subscriptions.csv')"
   ]
  },
  {
   "cell_type": "code",
   "execution_count": 7,
   "id": "934fc3d2-6441-4cb6-b242-05963f94112b",
   "metadata": {},
   "outputs": [
    {
     "name": "stdout",
     "output_type": "stream",
     "text": [
      "<class 'pandas.core.frame.DataFrame'>\n",
      "RangeIndex: 2 entries, 0 to 1\n",
      "Data columns (total 4 columns):\n",
      " #   Column             Non-Null Count  Dtype \n",
      "---  ------             --------------  ----- \n",
      " 0   subscription_type  2 non-null      object\n",
      " 1   minute_price       2 non-null      int64 \n",
      " 2   start_ride_price   2 non-null      int64 \n",
      " 3   subscription_fee   2 non-null      int64 \n",
      "dtypes: int64(3), object(1)\n",
      "memory usage: 192.0+ bytes\n"
     ]
    }
   ],
   "source": [
    "subscriptions.info()"
   ]
  },
  {
   "cell_type": "markdown",
   "id": "a547ded8-caf1-4e87-8368-88dfbfa27024",
   "metadata": {},
   "source": [
    "**Датафреймы сформированы и, судя по их описанию, в них нет пропущенных значений. На этапе пердобработки необходимо будет проверить их на наличие явных и неявных дубликатов, а пока посмотрим на первые несколько строк каждого из датафреймов:**"
   ]
  },
  {
   "cell_type": "code",
   "execution_count": 8,
   "id": "071197d1-bc9e-4a03-a057-793fa109f2a2",
   "metadata": {},
   "outputs": [
    {
     "data": {
      "text/html": [
       "<div>\n",
       "<style scoped>\n",
       "    .dataframe tbody tr th:only-of-type {\n",
       "        vertical-align: middle;\n",
       "    }\n",
       "\n",
       "    .dataframe tbody tr th {\n",
       "        vertical-align: top;\n",
       "    }\n",
       "\n",
       "    .dataframe thead th {\n",
       "        text-align: right;\n",
       "    }\n",
       "</style>\n",
       "<table border=\"1\" class=\"dataframe\">\n",
       "  <thead>\n",
       "    <tr style=\"text-align: right;\">\n",
       "      <th></th>\n",
       "      <th>user_id</th>\n",
       "      <th>name</th>\n",
       "      <th>age</th>\n",
       "      <th>city</th>\n",
       "      <th>subscription_type</th>\n",
       "    </tr>\n",
       "  </thead>\n",
       "  <tbody>\n",
       "    <tr>\n",
       "      <th>0</th>\n",
       "      <td>1</td>\n",
       "      <td>Кира</td>\n",
       "      <td>22</td>\n",
       "      <td>Тюмень</td>\n",
       "      <td>ultra</td>\n",
       "    </tr>\n",
       "    <tr>\n",
       "      <th>1</th>\n",
       "      <td>2</td>\n",
       "      <td>Станислав</td>\n",
       "      <td>31</td>\n",
       "      <td>Омск</td>\n",
       "      <td>ultra</td>\n",
       "    </tr>\n",
       "    <tr>\n",
       "      <th>2</th>\n",
       "      <td>3</td>\n",
       "      <td>Алексей</td>\n",
       "      <td>20</td>\n",
       "      <td>Москва</td>\n",
       "      <td>ultra</td>\n",
       "    </tr>\n",
       "    <tr>\n",
       "      <th>3</th>\n",
       "      <td>4</td>\n",
       "      <td>Константин</td>\n",
       "      <td>26</td>\n",
       "      <td>Ростов-на-Дону</td>\n",
       "      <td>ultra</td>\n",
       "    </tr>\n",
       "    <tr>\n",
       "      <th>4</th>\n",
       "      <td>5</td>\n",
       "      <td>Адель</td>\n",
       "      <td>28</td>\n",
       "      <td>Омск</td>\n",
       "      <td>ultra</td>\n",
       "    </tr>\n",
       "  </tbody>\n",
       "</table>\n",
       "</div>"
      ],
      "text/plain": [
       "   user_id        name  age            city subscription_type\n",
       "0        1        Кира   22          Тюмень             ultra\n",
       "1        2   Станислав   31            Омск             ultra\n",
       "2        3     Алексей   20          Москва             ultra\n",
       "3        4  Константин   26  Ростов-на-Дону             ultra\n",
       "4        5       Адель   28            Омск             ultra"
      ]
     },
     "execution_count": 8,
     "metadata": {},
     "output_type": "execute_result"
    }
   ],
   "source": [
    "users.head()"
   ]
  },
  {
   "cell_type": "markdown",
   "id": "7033ea9c-c477-401b-a77c-a24452d9504f",
   "metadata": {},
   "source": [
    "**Выглядит красиво, и все даже упорядочено по `user_id`**"
   ]
  },
  {
   "cell_type": "code",
   "execution_count": 9,
   "id": "43d5db52-b98f-4976-b445-73e0a504d4d2",
   "metadata": {},
   "outputs": [
    {
     "data": {
      "text/html": [
       "<div>\n",
       "<style scoped>\n",
       "    .dataframe tbody tr th:only-of-type {\n",
       "        vertical-align: middle;\n",
       "    }\n",
       "\n",
       "    .dataframe tbody tr th {\n",
       "        vertical-align: top;\n",
       "    }\n",
       "\n",
       "    .dataframe thead th {\n",
       "        text-align: right;\n",
       "    }\n",
       "</style>\n",
       "<table border=\"1\" class=\"dataframe\">\n",
       "  <thead>\n",
       "    <tr style=\"text-align: right;\">\n",
       "      <th></th>\n",
       "      <th>user_id</th>\n",
       "      <th>distance</th>\n",
       "      <th>duration</th>\n",
       "      <th>date</th>\n",
       "    </tr>\n",
       "  </thead>\n",
       "  <tbody>\n",
       "    <tr>\n",
       "      <th>0</th>\n",
       "      <td>1</td>\n",
       "      <td>4409.919140</td>\n",
       "      <td>25.599769</td>\n",
       "      <td>2021-01-01</td>\n",
       "    </tr>\n",
       "    <tr>\n",
       "      <th>1</th>\n",
       "      <td>1</td>\n",
       "      <td>2617.592153</td>\n",
       "      <td>15.816871</td>\n",
       "      <td>2021-01-18</td>\n",
       "    </tr>\n",
       "    <tr>\n",
       "      <th>2</th>\n",
       "      <td>1</td>\n",
       "      <td>754.159807</td>\n",
       "      <td>6.232113</td>\n",
       "      <td>2021-04-20</td>\n",
       "    </tr>\n",
       "    <tr>\n",
       "      <th>3</th>\n",
       "      <td>1</td>\n",
       "      <td>2694.783254</td>\n",
       "      <td>18.511000</td>\n",
       "      <td>2021-08-11</td>\n",
       "    </tr>\n",
       "    <tr>\n",
       "      <th>4</th>\n",
       "      <td>1</td>\n",
       "      <td>4028.687306</td>\n",
       "      <td>26.265803</td>\n",
       "      <td>2021-08-28</td>\n",
       "    </tr>\n",
       "  </tbody>\n",
       "</table>\n",
       "</div>"
      ],
      "text/plain": [
       "   user_id     distance   duration        date\n",
       "0        1  4409.919140  25.599769  2021-01-01\n",
       "1        1  2617.592153  15.816871  2021-01-18\n",
       "2        1   754.159807   6.232113  2021-04-20\n",
       "3        1  2694.783254  18.511000  2021-08-11\n",
       "4        1  4028.687306  26.265803  2021-08-28"
      ]
     },
     "execution_count": 9,
     "metadata": {},
     "output_type": "execute_result"
    }
   ],
   "source": [
    "rides.head()"
   ]
  },
  {
   "cell_type": "markdown",
   "id": "78ebe1d2-1fc3-4a3f-8c8a-c5f564892f2c",
   "metadata": {},
   "source": [
    "**Судя по всему, расстояние записано в метрах, длительность поездки в минутах. Дата записана, как тип `object`. При предобработке нужно будет привести ее к типу даты pandas**"
   ]
  },
  {
   "cell_type": "code",
   "execution_count": 10,
   "id": "39cb20f4-0d02-480b-b166-3b14d16b920f",
   "metadata": {},
   "outputs": [
    {
     "data": {
      "text/html": [
       "<div>\n",
       "<style scoped>\n",
       "    .dataframe tbody tr th:only-of-type {\n",
       "        vertical-align: middle;\n",
       "    }\n",
       "\n",
       "    .dataframe tbody tr th {\n",
       "        vertical-align: top;\n",
       "    }\n",
       "\n",
       "    .dataframe thead th {\n",
       "        text-align: right;\n",
       "    }\n",
       "</style>\n",
       "<table border=\"1\" class=\"dataframe\">\n",
       "  <thead>\n",
       "    <tr style=\"text-align: right;\">\n",
       "      <th></th>\n",
       "      <th>subscription_type</th>\n",
       "      <th>minute_price</th>\n",
       "      <th>start_ride_price</th>\n",
       "      <th>subscription_fee</th>\n",
       "    </tr>\n",
       "  </thead>\n",
       "  <tbody>\n",
       "    <tr>\n",
       "      <th>0</th>\n",
       "      <td>free</td>\n",
       "      <td>8</td>\n",
       "      <td>50</td>\n",
       "      <td>0</td>\n",
       "    </tr>\n",
       "    <tr>\n",
       "      <th>1</th>\n",
       "      <td>ultra</td>\n",
       "      <td>6</td>\n",
       "      <td>0</td>\n",
       "      <td>199</td>\n",
       "    </tr>\n",
       "  </tbody>\n",
       "</table>\n",
       "</div>"
      ],
      "text/plain": [
       "  subscription_type  minute_price  start_ride_price  subscription_fee\n",
       "0              free             8                50                 0\n",
       "1             ultra             6                 0               199"
      ]
     },
     "execution_count": 10,
     "metadata": {},
     "output_type": "execute_result"
    }
   ],
   "source": [
    "subscriptions.head()"
   ]
  },
  {
   "cell_type": "markdown",
   "id": "0e895a77-7864-437f-b336-59260c71d16f",
   "metadata": {},
   "source": [
    "**Здесь все правильно:** \n",
    "\n",
    "**free - без абоненткой платы, старт - 50 рублей, цена минуты - 8 рублей** \n",
    "\n",
    "**ultra - абонентская плата 199 руб/месяц, старт - бесплатно, цена минуты - 6 рублей**"
   ]
  },
  {
   "cell_type": "markdown",
   "id": "d17af69d-32dc-4d8b-901c-f2b11e7116c6",
   "metadata": {},
   "source": [
    "## Предобработка данных"
   ]
  },
  {
   "cell_type": "markdown",
   "id": "55660d18-b1bb-4a52-8950-9d4fa5e5fe9e",
   "metadata": {},
   "source": [
    "### Предобработка данных о дате поездки в датафрейме `rides`\n",
    "\n",
    "**Приведем столбец `date` датафрейма `rides` к типу даты pandas:**"
   ]
  },
  {
   "cell_type": "code",
   "execution_count": 11,
   "id": "9aaa3165-78cb-4cbb-8038-f2eb34467c38",
   "metadata": {},
   "outputs": [],
   "source": [
    "rides['date'] = pd.to_datetime(rides['date'], format = '%Y-%m-%d')"
   ]
  },
  {
   "cell_type": "code",
   "execution_count": 12,
   "id": "f6b581a6-6847-406e-9d57-10f1594e41d8",
   "metadata": {},
   "outputs": [
    {
     "name": "stdout",
     "output_type": "stream",
     "text": [
      "<class 'pandas.core.frame.DataFrame'>\n",
      "RangeIndex: 18068 entries, 0 to 18067\n",
      "Data columns (total 4 columns):\n",
      " #   Column    Non-Null Count  Dtype         \n",
      "---  ------    --------------  -----         \n",
      " 0   user_id   18068 non-null  int64         \n",
      " 1   distance  18068 non-null  float64       \n",
      " 2   duration  18068 non-null  float64       \n",
      " 3   date      18068 non-null  datetime64[ns]\n",
      "dtypes: datetime64[ns](1), float64(2), int64(1)\n",
      "memory usage: 564.8 KB\n"
     ]
    }
   ],
   "source": [
    "rides.info()"
   ]
  },
  {
   "cell_type": "markdown",
   "id": "c805d63b-0fa4-40bc-92c4-91443d959522",
   "metadata": {},
   "source": [
    "**Посмотрим, данные за какой промежуток времени представлены в датафрейме `rides`:** "
   ]
  },
  {
   "cell_type": "code",
   "execution_count": 13,
   "id": "24677473-a741-424d-b71c-7ee924b1e912",
   "metadata": {},
   "outputs": [
    {
     "name": "stdout",
     "output_type": "stream",
     "text": [
      "2021-01-01 00:00:00\n",
      "2021-12-30 00:00:00\n"
     ]
    }
   ],
   "source": [
    "print(rides['date'].min())\n",
    "print(rides['date'].max())"
   ]
  },
  {
   "cell_type": "markdown",
   "id": "cf50c7f5-02f3-408d-bc3c-3d5b5f474a4b",
   "metadata": {},
   "source": [
    "**Данные за весь 2021 год без одного дня - 31 декабря**"
   ]
  },
  {
   "cell_type": "markdown",
   "id": "78a87dfb-458f-4c42-9a2c-81b1ffbca52c",
   "metadata": {},
   "source": [
    "**Создадим в датафрейме `rides` новый столбец с данными о том, в каком месяце была совершена конкретная поездка:**"
   ]
  },
  {
   "cell_type": "code",
   "execution_count": 14,
   "id": "706a6b4f-30fb-44d8-8dd2-c1cd891c7ec6",
   "metadata": {},
   "outputs": [],
   "source": [
    "rides['month'] = rides['date'].dt.month"
   ]
  },
  {
   "cell_type": "code",
   "execution_count": 15,
   "id": "8ea86b1f-c626-47ef-bb20-85e66d8dfea2",
   "metadata": {},
   "outputs": [
    {
     "name": "stdout",
     "output_type": "stream",
     "text": [
      "<class 'pandas.core.frame.DataFrame'>\n",
      "RangeIndex: 18068 entries, 0 to 18067\n",
      "Data columns (total 5 columns):\n",
      " #   Column    Non-Null Count  Dtype         \n",
      "---  ------    --------------  -----         \n",
      " 0   user_id   18068 non-null  int64         \n",
      " 1   distance  18068 non-null  float64       \n",
      " 2   duration  18068 non-null  float64       \n",
      " 3   date      18068 non-null  datetime64[ns]\n",
      " 4   month     18068 non-null  int64         \n",
      "dtypes: datetime64[ns](1), float64(2), int64(2)\n",
      "memory usage: 705.9 KB\n"
     ]
    }
   ],
   "source": [
    "rides.info()"
   ]
  },
  {
   "cell_type": "markdown",
   "id": "10e7b5d5-3c19-41bd-8b08-62603962d1a5",
   "metadata": {},
   "source": [
    "### Проверка датафреймов на пропущенные значения и дубликаты\n",
    "\n",
    "**Сначала проверим, есть ли пропущенные значения:**"
   ]
  },
  {
   "cell_type": "code",
   "execution_count": 16,
   "id": "d32ad0bf-04f1-4f7c-8e56-605063de16e9",
   "metadata": {},
   "outputs": [
    {
     "data": {
      "text/plain": [
       "user_id              0\n",
       "name                 0\n",
       "age                  0\n",
       "city                 0\n",
       "subscription_type    0\n",
       "dtype: int64"
      ]
     },
     "execution_count": 16,
     "metadata": {},
     "output_type": "execute_result"
    }
   ],
   "source": [
    "users.isna().sum()"
   ]
  },
  {
   "cell_type": "code",
   "execution_count": 17,
   "id": "148a47a1-9343-4c3d-8607-5a5c4c1e9845",
   "metadata": {},
   "outputs": [
    {
     "data": {
      "text/plain": [
       "user_id     0\n",
       "distance    0\n",
       "duration    0\n",
       "date        0\n",
       "month       0\n",
       "dtype: int64"
      ]
     },
     "execution_count": 17,
     "metadata": {},
     "output_type": "execute_result"
    }
   ],
   "source": [
    "rides.isna().sum()"
   ]
  },
  {
   "cell_type": "markdown",
   "id": "1e8ef996-eebb-4a35-ba15-a82ca1504e46",
   "metadata": {},
   "source": [
    "**Проверим, есть ли явные дубликаты в датафреймах:**"
   ]
  },
  {
   "cell_type": "code",
   "execution_count": 18,
   "id": "b5416ad7-0b32-4fe0-9737-2470606b15c9",
   "metadata": {},
   "outputs": [
    {
     "data": {
      "text/plain": [
       "0"
      ]
     },
     "execution_count": 18,
     "metadata": {},
     "output_type": "execute_result"
    }
   ],
   "source": [
    "rides.duplicated().sum()"
   ]
  },
  {
   "cell_type": "code",
   "execution_count": 19,
   "id": "30f949ae-0867-485b-bb8a-63f898f4c256",
   "metadata": {},
   "outputs": [
    {
     "data": {
      "text/plain": [
       "31"
      ]
     },
     "execution_count": 19,
     "metadata": {},
     "output_type": "execute_result"
    }
   ],
   "source": [
    "users.duplicated().sum()"
   ]
  },
  {
   "cell_type": "markdown",
   "id": "862880f3-e8ae-495c-b1cd-9d86f1f1c80f",
   "metadata": {},
   "source": [
    "**В датафрейме `users` обнаружились полностью дублирующие друг-друга строки. Уберем их:**"
   ]
  },
  {
   "cell_type": "code",
   "execution_count": 20,
   "id": "2ed19595-08e2-431c-94ed-8ec5a21cad19",
   "metadata": {},
   "outputs": [
    {
     "name": "stdout",
     "output_type": "stream",
     "text": [
      "<class 'pandas.core.frame.DataFrame'>\n",
      "RangeIndex: 1534 entries, 0 to 1533\n",
      "Data columns (total 5 columns):\n",
      " #   Column             Non-Null Count  Dtype \n",
      "---  ------             --------------  ----- \n",
      " 0   user_id            1534 non-null   int64 \n",
      " 1   name               1534 non-null   object\n",
      " 2   age                1534 non-null   int64 \n",
      " 3   city               1534 non-null   object\n",
      " 4   subscription_type  1534 non-null   object\n",
      "dtypes: int64(2), object(3)\n",
      "memory usage: 60.0+ KB\n"
     ]
    }
   ],
   "source": [
    "users = users.drop_duplicates().reset_index(drop = True)\n",
    "users.info()"
   ]
  },
  {
   "cell_type": "markdown",
   "id": "140394fc-75da-4cde-84ec-0f3da516de62",
   "metadata": {},
   "source": [
    "**Строчек в датафрейме стало на 31 меньше. Проверим, что явных дубликатов не осталось:**"
   ]
  },
  {
   "cell_type": "code",
   "execution_count": 21,
   "id": "998a8d32-508f-44de-818f-b6bf61402ebd",
   "metadata": {},
   "outputs": [
    {
     "data": {
      "text/plain": [
       "0"
      ]
     },
     "execution_count": 21,
     "metadata": {},
     "output_type": "execute_result"
    }
   ],
   "source": [
    "users.duplicated().sum()"
   ]
  },
  {
   "cell_type": "markdown",
   "id": "7f760a47-d6df-439f-8a5f-5909bbec9f6c",
   "metadata": {},
   "source": [
    "**Теперь проверим нет неявных дубликатов в столбцах датафрейма `users` с названием города и типом подписки:**"
   ]
  },
  {
   "cell_type": "code",
   "execution_count": 22,
   "id": "f6d7aa40-d727-45b4-be32-18ef69876e5a",
   "metadata": {},
   "outputs": [
    {
     "data": {
      "text/plain": [
       "array(['Тюмень', 'Омск', 'Москва', 'Ростов-на-Дону', 'Краснодар',\n",
       "       'Пятигорск', 'Екатеринбург', 'Сочи'], dtype=object)"
      ]
     },
     "execution_count": 22,
     "metadata": {},
     "output_type": "execute_result"
    }
   ],
   "source": [
    "users['city'].unique()"
   ]
  },
  {
   "cell_type": "code",
   "execution_count": 23,
   "id": "3db6b7d7-d561-4db3-88d9-9731e6bcd19a",
   "metadata": {},
   "outputs": [
    {
     "data": {
      "text/plain": [
       "array(['ultra', 'free'], dtype=object)"
      ]
     },
     "execution_count": 23,
     "metadata": {},
     "output_type": "execute_result"
    }
   ],
   "source": [
    "users['subscription_type'].unique()"
   ]
  },
  {
   "cell_type": "markdown",
   "id": "75380c23-449f-49bf-a945-c1d57ff50a89",
   "metadata": {},
   "source": [
    "**Проверим, нет ли дубликатов в `user_id`**"
   ]
  },
  {
   "cell_type": "code",
   "execution_count": 24,
   "id": "74bb7ff1-40ae-4ffb-9e81-a262cad159d5",
   "metadata": {},
   "outputs": [
    {
     "data": {
      "text/plain": [
       "1534"
      ]
     },
     "execution_count": 24,
     "metadata": {},
     "output_type": "execute_result"
    }
   ],
   "source": [
    "user_ids = users['user_id'].unique()\n",
    "len(set(user_ids))"
   ]
  },
  {
   "cell_type": "markdown",
   "id": "84db2e13-913b-4349-9461-90a471fcb073",
   "metadata": {},
   "source": [
    "**Дубликатов в `user_id` нет. Проверять столбцы `name` и `age` на дубликаты не имеет смылса, поскольку и в том и в другом столбце данные могут повторяться - могут быть два человека с одним именем или одного возраста**"
   ]
  },
  {
   "cell_type": "markdown",
   "id": "efd7c1b8-4fed-46d7-be05-05184df57466",
   "metadata": {},
   "source": [
    "## Исследовательский анализ данных"
   ]
  },
  {
   "cell_type": "markdown",
   "id": "036a180e-1b57-4feb-9e65-f015525aa218",
   "metadata": {},
   "source": [
    "### Частота встречаемости городов\n",
    "\n",
    "**По датафрейму `users` оценим, сколько людей из предоставленной выборки пользуется услугами GoFast в каждом из представленных городов. Для этого создадим сводную таблицу:**"
   ]
  },
  {
   "cell_type": "code",
   "execution_count": 25,
   "id": "fb45f22d-5001-44e7-ab60-4c36e929dd7d",
   "metadata": {},
   "outputs": [],
   "source": [
    "city_pivot = users.pivot_table(index='city', values='user_id', aggfunc='count')\n",
    "city_pivot.columns = ['number_of_users']"
   ]
  },
  {
   "cell_type": "markdown",
   "id": "c4068fb2-1d3e-4e2c-89ae-941a01ae6932",
   "metadata": {},
   "source": [
    "**Чтобы вычислить частоту встречаемости городов раздедим число пользователей в каждом городе на общее число пользователей в выборке:**"
   ]
  },
  {
   "cell_type": "code",
   "execution_count": 26,
   "id": "a80c1182-0bbe-46c2-99b0-71bfa166c85a",
   "metadata": {},
   "outputs": [],
   "source": [
    "city_pivot = city_pivot/len(users)"
   ]
  },
  {
   "cell_type": "markdown",
   "id": "be5f3666-d2cf-4508-a8ee-c0f926adf47a",
   "metadata": {},
   "source": [
    "**Отсортируем по убыванию:**"
   ]
  },
  {
   "cell_type": "code",
   "execution_count": 27,
   "id": "7cf34cde-7831-468e-8cb9-a9dd0263c138",
   "metadata": {},
   "outputs": [
    {
     "data": {
      "text/html": [
       "<div>\n",
       "<style scoped>\n",
       "    .dataframe tbody tr th:only-of-type {\n",
       "        vertical-align: middle;\n",
       "    }\n",
       "\n",
       "    .dataframe tbody tr th {\n",
       "        vertical-align: top;\n",
       "    }\n",
       "\n",
       "    .dataframe thead th {\n",
       "        text-align: right;\n",
       "    }\n",
       "</style>\n",
       "<table border=\"1\" class=\"dataframe\">\n",
       "  <thead>\n",
       "    <tr style=\"text-align: right;\">\n",
       "      <th></th>\n",
       "      <th>number_of_users</th>\n",
       "    </tr>\n",
       "    <tr>\n",
       "      <th>city</th>\n",
       "      <th></th>\n",
       "    </tr>\n",
       "  </thead>\n",
       "  <tbody>\n",
       "    <tr>\n",
       "      <th>Пятигорск</th>\n",
       "      <td>0.142764</td>\n",
       "    </tr>\n",
       "    <tr>\n",
       "      <th>Екатеринбург</th>\n",
       "      <td>0.132986</td>\n",
       "    </tr>\n",
       "    <tr>\n",
       "      <th>Ростов-на-Дону</th>\n",
       "      <td>0.129074</td>\n",
       "    </tr>\n",
       "    <tr>\n",
       "      <th>Краснодар</th>\n",
       "      <td>0.125815</td>\n",
       "    </tr>\n",
       "    <tr>\n",
       "      <th>Сочи</th>\n",
       "      <td>0.123207</td>\n",
       "    </tr>\n",
       "    <tr>\n",
       "      <th>Омск</th>\n",
       "      <td>0.119296</td>\n",
       "    </tr>\n",
       "    <tr>\n",
       "      <th>Тюмень</th>\n",
       "      <td>0.117340</td>\n",
       "    </tr>\n",
       "    <tr>\n",
       "      <th>Москва</th>\n",
       "      <td>0.109518</td>\n",
       "    </tr>\n",
       "  </tbody>\n",
       "</table>\n",
       "</div>"
      ],
      "text/plain": [
       "                number_of_users\n",
       "city                           \n",
       "Пятигорск              0.142764\n",
       "Екатеринбург           0.132986\n",
       "Ростов-на-Дону         0.129074\n",
       "Краснодар              0.125815\n",
       "Сочи                   0.123207\n",
       "Омск                   0.119296\n",
       "Тюмень                 0.117340\n",
       "Москва                 0.109518"
      ]
     },
     "execution_count": 27,
     "metadata": {},
     "output_type": "execute_result"
    }
   ],
   "source": [
    "city_pivot = city_pivot.sort_values(by='number_of_users', ascending=False)\n",
    "city_pivot"
   ]
  },
  {
   "cell_type": "code",
   "execution_count": 28,
   "id": "cf47ab66-088e-43e8-9b88-6226ed0f53c8",
   "metadata": {},
   "outputs": [
    {
     "data": {
      "image/png": "[encoded data removed]",
      "text/plain": [
       "<Figure size 720x432 with 1 Axes>"
      ]
     },
     "metadata": {
      "needs_background": "light"
     },
     "output_type": "display_data"
    }
   ],
   "source": [
    "city_pivot.plot(y='number_of_users', kind='bar', color='lightsalmon', legend=None, figsize=(10,6))\n",
    "plt.title(label='Частота встречаемости городов в предоставленной выборке', loc='center', fontsize=16, fontweight='regular', pad=20)\n",
    "plt.ylabel('Частота', fontsize=15)\n",
    "plt.xlabel('Город', fontsize=15)\n",
    "plt.xticks(rotation=45, fontsize=14)\n",
    "plt.yticks(fontsize=14)\n",
    "plt.show()"
   ]
  },
  {
   "cell_type": "markdown",
   "id": "6b435fb4-1d5a-41b0-930f-6ae039ac7ea1",
   "metadata": {},
   "source": [
    "**Получается, что доли пользователей из каждого города в выборке находятся в диапазоне от 10 до 14 %. Тут можно сделать два предположения - так специально была сделана выборка данных, или же у компании действительно не сильно различается число пользователей в огромной Москве и сравнительно небольшом Пятигорске.**  "
   ]
  },
  {
   "cell_type": "markdown",
   "id": "f56bcd60-805e-4d78-96a7-65f62b330814",
   "metadata": {},
   "source": [
    "### Соотношение пользователей с подпиской и без подписки"
   ]
  },
  {
   "cell_type": "markdown",
   "id": "55e107df-1f38-4125-828f-62232b802d77",
   "metadata": {},
   "source": [
    "**Посчитаем, сколько пользователей подписались на тариф ultra, а сколько катаются на самокатах без подписки:**"
   ]
  },
  {
   "cell_type": "code",
   "execution_count": 29,
   "id": "92712b33-943c-4368-af75-9fa03811f092",
   "metadata": {},
   "outputs": [
    {
     "data": {
      "text/html": [
       "<div>\n",
       "<style scoped>\n",
       "    .dataframe tbody tr th:only-of-type {\n",
       "        vertical-align: middle;\n",
       "    }\n",
       "\n",
       "    .dataframe tbody tr th {\n",
       "        vertical-align: top;\n",
       "    }\n",
       "\n",
       "    .dataframe thead th {\n",
       "        text-align: right;\n",
       "    }\n",
       "</style>\n",
       "<table border=\"1\" class=\"dataframe\">\n",
       "  <thead>\n",
       "    <tr style=\"text-align: right;\">\n",
       "      <th></th>\n",
       "      <th>number_of_users</th>\n",
       "    </tr>\n",
       "    <tr>\n",
       "      <th>subscription_type</th>\n",
       "      <th></th>\n",
       "    </tr>\n",
       "  </thead>\n",
       "  <tbody>\n",
       "    <tr>\n",
       "      <th>free</th>\n",
       "      <td>835</td>\n",
       "    </tr>\n",
       "    <tr>\n",
       "      <th>ultra</th>\n",
       "      <td>699</td>\n",
       "    </tr>\n",
       "  </tbody>\n",
       "</table>\n",
       "</div>"
      ],
      "text/plain": [
       "                   number_of_users\n",
       "subscription_type                 \n",
       "free                           835\n",
       "ultra                          699"
      ]
     },
     "execution_count": 29,
     "metadata": {},
     "output_type": "execute_result"
    }
   ],
   "source": [
    "subscription_pivot = users.pivot_table(index='subscription_type', values='user_id', aggfunc='count')\n",
    "subscription_pivot.columns = ['number_of_users']\n",
    "subscription_pivot"
   ]
  },
  {
   "cell_type": "markdown",
   "id": "a72ed46f-627f-40dc-be14-987c8d4f32e0",
   "metadata": {},
   "source": [
    "**Разделим полученные значения на общее число пользователей:**"
   ]
  },
  {
   "cell_type": "code",
   "execution_count": 30,
   "id": "94ca8b71-d98f-4dd9-93f1-e8864ca1d818",
   "metadata": {},
   "outputs": [
    {
     "data": {
      "text/html": [
       "<div>\n",
       "<style scoped>\n",
       "    .dataframe tbody tr th:only-of-type {\n",
       "        vertical-align: middle;\n",
       "    }\n",
       "\n",
       "    .dataframe tbody tr th {\n",
       "        vertical-align: top;\n",
       "    }\n",
       "\n",
       "    .dataframe thead th {\n",
       "        text-align: right;\n",
       "    }\n",
       "</style>\n",
       "<table border=\"1\" class=\"dataframe\">\n",
       "  <thead>\n",
       "    <tr style=\"text-align: right;\">\n",
       "      <th></th>\n",
       "      <th>users_share</th>\n",
       "    </tr>\n",
       "    <tr>\n",
       "      <th>subscription_type</th>\n",
       "      <th></th>\n",
       "    </tr>\n",
       "  </thead>\n",
       "  <tbody>\n",
       "    <tr>\n",
       "      <th>free</th>\n",
       "      <td>0.544329</td>\n",
       "    </tr>\n",
       "    <tr>\n",
       "      <th>ultra</th>\n",
       "      <td>0.455671</td>\n",
       "    </tr>\n",
       "  </tbody>\n",
       "</table>\n",
       "</div>"
      ],
      "text/plain": [
       "                   users_share\n",
       "subscription_type             \n",
       "free                  0.544329\n",
       "ultra                 0.455671"
      ]
     },
     "execution_count": 30,
     "metadata": {},
     "output_type": "execute_result"
    }
   ],
   "source": [
    "subscription_pivot = subscription_pivot/len(users)\n",
    "subscription_pivot.columns = ['users_share']\n",
    "subscription_pivot"
   ]
  },
  {
   "cell_type": "markdown",
   "id": "c103cb1f-1f79-4315-9653-d912474e0435",
   "metadata": {},
   "source": [
    "**Построим столбчатую гистограмму:**"
   ]
  },
  {
   "cell_type": "code",
   "execution_count": 31,
   "id": "a1c66ff9-a9e7-4d01-a536-f0dd0006f293",
   "metadata": {},
   "outputs": [
    {
     "data": {
      "image/png": "[encoded data removed]",
      "text/plain": [
       "<Figure size 432x432 with 1 Axes>"
      ]
     },
     "metadata": {
      "needs_background": "light"
     },
     "output_type": "display_data"
    }
   ],
   "source": [
    "subscription_pivot.plot(y='users_share', kind='bar', color='lightsalmon', legend=None, figsize=(6,6))\n",
    "plt.title(label='Распределение пользователей по типу подписки\\n в предоставленной выборке', loc='center', fontsize=16, fontweight='regular', pad=20)\n",
    "plt.ylabel('Доля пользователей', fontsize=15)\n",
    "plt.xlabel('Тип подписки', fontsize=15)\n",
    "plt.xticks(rotation=0, fontsize=14)\n",
    "plt.yticks(fontsize=14)\n",
    "plt.show()"
   ]
  },
  {
   "cell_type": "markdown",
   "id": "1e45a4aa-4a65-4223-9e80-313b8a8d8137",
   "metadata": {},
   "source": [
    "**Среди пользователей около 54% пользуются опцией free и около 46% - подпиской ultra** "
   ]
  },
  {
   "cell_type": "markdown",
   "id": "feb38914-01e2-46ff-8556-c31fa4327967",
   "metadata": {},
   "source": [
    "### Возраст пользователей"
   ]
  },
  {
   "cell_type": "markdown",
   "id": "a5f2d42a-3a40-4a87-89ca-402a35c6f5af",
   "metadata": {},
   "source": [
    "**Посмотрим каково распределение пользователей GoFast по возрасту. Для этого сначала оценим основные параметры данных в столбце `age`:**"
   ]
  },
  {
   "cell_type": "code",
   "execution_count": 32,
   "id": "b9d3bdb6-76d2-4e1a-b987-f60d28fa1c1c",
   "metadata": {},
   "outputs": [
    {
     "data": {
      "text/plain": [
       "count    1534.000000\n",
       "mean       24.903520\n",
       "std         4.572367\n",
       "min        12.000000\n",
       "25%        22.000000\n",
       "50%        25.000000\n",
       "75%        28.000000\n",
       "max        43.000000\n",
       "Name: age, dtype: float64"
      ]
     },
     "execution_count": 32,
     "metadata": {},
     "output_type": "execute_result"
    }
   ],
   "source": [
    "users['age'].describe()"
   ]
  },
  {
   "cell_type": "markdown",
   "id": "61f1786e-4e12-4e0e-b217-36d2e9d9f5fd",
   "metadata": {},
   "source": [
    "**Средний возраст клиента GoFast 25 лет, минимальный - 12 лет, максимальный - 43 года. Медиана совпадает со средним, значит можно ожидать относительно симметричное распределение по возрастам. Построим гистограмму:**"
   ]
  },
  {
   "cell_type": "code",
   "execution_count": 33,
   "id": "93172cb4-cac6-4a4c-86b6-76d5aee9c82c",
   "metadata": {},
   "outputs": [
    {
     "data": {
      "image/png": "[encoded data removed]",
      "text/plain": [
       "<Figure size 576x432 with 1 Axes>"
      ]
     },
     "metadata": {
      "needs_background": "light"
     },
     "output_type": "display_data"
    }
   ],
   "source": [
    "users['age'].hist(bins=31, range=(12,43), figsize=(8,6))\n",
    "plt.xlabel('Возраст пользователей, лет', fontsize=15)\n",
    "plt.ylabel('Чиcло пользователей', fontsize=15)\n",
    "plt.title('Распределение пользователей по возрастам', fontsize=16)\n",
    "plt.show()"
   ]
  },
  {
   "cell_type": "markdown",
   "id": "6fc82ff4-905e-47b0-9bba-d3659300ac67",
   "metadata": {},
   "source": [
    "**Распределение пользователей по возрастам имеет форму нормального: центр распределения находится в точке с возрастом 25 лет. Основную массу пользователей составляют люди в возрасте от 20 до 30 лет.**"
   ]
  },
  {
   "cell_type": "markdown",
   "id": "73a5dc37-7274-4f9a-8d1d-f2d984926470",
   "metadata": {},
   "source": [
    "### Расстояние, которое пользователь преодолел за одну поездку\n",
    "\n",
    "**Посмотрим как распределены поездки по расстоянию, которое преодолевает пользователь сервиса за один раз:**"
   ]
  },
  {
   "cell_type": "code",
   "execution_count": 34,
   "id": "92cafab4-6d24-409a-a8d4-4e28e61e2a8e",
   "metadata": {},
   "outputs": [
    {
     "data": {
      "text/plain": [
       "count    18068.000000\n",
       "mean      3070.659976\n",
       "std       1116.831209\n",
       "min          0.855683\n",
       "25%       2543.226360\n",
       "50%       3133.609994\n",
       "75%       3776.222735\n",
       "max       7211.007745\n",
       "Name: distance, dtype: float64"
      ]
     },
     "execution_count": 34,
     "metadata": {},
     "output_type": "execute_result"
    }
   ],
   "source": [
    "rides['distance'].describe()"
   ]
  },
  {
   "cell_type": "markdown",
   "id": "ef893715-af44-4f12-a2ed-3d07c9694bb7",
   "metadata": {},
   "source": [
    "**Средняя поездка - 3070 метров, максимальная 7221 м, минимальная - меньше метра. Опять-таки, среднее мало отличается от медианы, что указывает на симметричность распределения. Построим его:**"
   ]
  },
  {
   "cell_type": "code",
   "execution_count": 35,
   "id": "72628ec9-3778-4e74-b38e-6c1266ff3a27",
   "metadata": {},
   "outputs": [
    {
     "data": {
      "image/png": "[encoded data removed]",
      "text/plain": [
       "<Figure size 576x432 with 1 Axes>"
      ]
     },
     "metadata": {
      "needs_background": "light"
     },
     "output_type": "display_data"
    }
   ],
   "source": [
    "rides['distance'].hist(bins=100, range=(0,7300), figsize=(8,6))\n",
    "plt.xlabel('Расстояние одной поездки, м', fontsize=15)\n",
    "plt.ylabel('Чиcло поездок', fontsize=15)\n",
    "plt.title('Распределение расстояний, преодолеваемых пользователями\\n за одну поездку', fontsize=16)\n",
    "plt.show()"
   ]
  },
  {
   "cell_type": "markdown",
   "id": "473c41cf-64c5-45fa-8056-6cde5bff8997",
   "metadata": {},
   "source": [
    "**Распределение имеет два пика: один большой, соответствующий расстоянию поездки около 3000 м, и один маленький, с пиком в районе 600 метров. Можно предположить, что все поездки делятся на два типа - длинные и короткие и каждый из пиков отражает средние значения для первых и вторых. Короткие поездки могут быть пробными заездами, а также поездками от дома до магазина и т.п.**  "
   ]
  },
  {
   "cell_type": "markdown",
   "id": "29d181e1-0dab-4223-ad7b-553f09c178f1",
   "metadata": {},
   "source": [
    "### Продолжительность поездок"
   ]
  },
  {
   "cell_type": "markdown",
   "id": "c151dc99-6ad9-44dc-ad46-9780ca12d215",
   "metadata": {},
   "source": [
    "**Теперь изучим, каково распределение поездок по продолжительности:**"
   ]
  },
  {
   "cell_type": "code",
   "execution_count": 36,
   "id": "5c6bfddf-2215-40fa-ad40-c7e3c087fcfb",
   "metadata": {},
   "outputs": [
    {
     "data": {
      "text/plain": [
       "count    18068.000000\n",
       "mean        17.805011\n",
       "std          6.091051\n",
       "min          0.500000\n",
       "25%         13.597563\n",
       "50%         17.678395\n",
       "75%         21.724800\n",
       "max         40.823963\n",
       "Name: duration, dtype: float64"
      ]
     },
     "execution_count": 36,
     "metadata": {},
     "output_type": "execute_result"
    }
   ],
   "source": [
    "rides['duration'].describe()"
   ]
  },
  {
   "cell_type": "markdown",
   "id": "10093e5c-de24-4826-bf1d-041b2ded276f",
   "metadata": {},
   "source": [
    "**Средняя поездка длится немногим менее 18 минут. Самая короткая около 30 секунд, самая длинная - почти 41 минуту. 75% поездок длятся не больше 22 минут. Теперь посмотрим на распределение:**"
   ]
  },
  {
   "cell_type": "code",
   "execution_count": 37,
   "id": "e315fc15-50e3-4e3b-bcf0-02ac8d43d278",
   "metadata": {},
   "outputs": [
    {
     "data": {
      "image/png": "[encoded data removed]",
      "text/plain": [
       "<Figure size 576x432 with 1 Axes>"
      ]
     },
     "metadata": {
      "needs_background": "light"
     },
     "output_type": "display_data"
    }
   ],
   "source": [
    "rides['duration'].hist(bins=41, range=(0,41), figsize=(8,6))\n",
    "plt.xlabel('Длительность поездки, минут', fontsize=15)\n",
    "plt.ylabel('Чиcло поездок', fontsize=15)\n",
    "plt.title('Распределение длительностей одной поездки', fontsize=16)\n",
    "plt.show()"
   ]
  },
  {
   "cell_type": "markdown",
   "id": "12116054-4835-4733-8e49-1415f277b0ba",
   "metadata": {},
   "source": [
    "**Распределение длительностей выглядит как типичное нормальное распределение с центром на 18 минутах. Есть выделяющийся небольшой пичок с заездами длительностью до 1 минуты. Скорее всего это пробные заезды или заезды начатые/законченные по ошибке.**"
   ]
  },
  {
   "cell_type": "markdown",
   "id": "2005f915-8642-488b-9edc-c0c8ea605ffa",
   "metadata": {},
   "source": [
    "## Объединение данных"
   ]
  },
  {
   "cell_type": "markdown",
   "id": "76d19a3d-8037-458f-8db8-17df3e578c87",
   "metadata": {},
   "source": [
    "### Создание общей таблицы данных"
   ]
  },
  {
   "cell_type": "markdown",
   "id": "b4a020a8-d2dd-4ae4-89ac-11d84fd2c34b",
   "metadata": {},
   "source": [
    "**Для удобства последующей работы с данными объединим датафреймы `users`, `rides` и `subscriptions` в один датафрейм `df`. Чтобы не потерять при объединениии данные о поездках, будем действовать следующим образом: сначала к датафрейму `rides` левым join-ом присоединим данные из `users` по столбцу `user_id`. Затем к получившемуся датафрейму присоединим данные из словаря `subscriptions` по столбцу `subscription_type`:**"
   ]
  },
  {
   "cell_type": "code",
   "execution_count": 38,
   "id": "71450f45-6e3e-4e0a-969f-8e6b60a36f56",
   "metadata": {},
   "outputs": [],
   "source": [
    "df = rides.merge(users, on='user_id', how = 'left')"
   ]
  },
  {
   "cell_type": "code",
   "execution_count": 39,
   "id": "766237ac-d10c-4cef-9a7d-cf1a698c408a",
   "metadata": {},
   "outputs": [
    {
     "data": {
      "text/html": [
       "<div>\n",
       "<style scoped>\n",
       "    .dataframe tbody tr th:only-of-type {\n",
       "        vertical-align: middle;\n",
       "    }\n",
       "\n",
       "    .dataframe tbody tr th {\n",
       "        vertical-align: top;\n",
       "    }\n",
       "\n",
       "    .dataframe thead th {\n",
       "        text-align: right;\n",
       "    }\n",
       "</style>\n",
       "<table border=\"1\" class=\"dataframe\">\n",
       "  <thead>\n",
       "    <tr style=\"text-align: right;\">\n",
       "      <th></th>\n",
       "      <th>user_id</th>\n",
       "      <th>distance</th>\n",
       "      <th>duration</th>\n",
       "      <th>date</th>\n",
       "      <th>month</th>\n",
       "      <th>name</th>\n",
       "      <th>age</th>\n",
       "      <th>city</th>\n",
       "      <th>subscription_type</th>\n",
       "    </tr>\n",
       "  </thead>\n",
       "  <tbody>\n",
       "    <tr>\n",
       "      <th>0</th>\n",
       "      <td>1</td>\n",
       "      <td>4409.919140</td>\n",
       "      <td>25.599769</td>\n",
       "      <td>2021-01-01</td>\n",
       "      <td>1</td>\n",
       "      <td>Кира</td>\n",
       "      <td>22</td>\n",
       "      <td>Тюмень</td>\n",
       "      <td>ultra</td>\n",
       "    </tr>\n",
       "    <tr>\n",
       "      <th>1</th>\n",
       "      <td>1</td>\n",
       "      <td>2617.592153</td>\n",
       "      <td>15.816871</td>\n",
       "      <td>2021-01-18</td>\n",
       "      <td>1</td>\n",
       "      <td>Кира</td>\n",
       "      <td>22</td>\n",
       "      <td>Тюмень</td>\n",
       "      <td>ultra</td>\n",
       "    </tr>\n",
       "    <tr>\n",
       "      <th>2</th>\n",
       "      <td>1</td>\n",
       "      <td>754.159807</td>\n",
       "      <td>6.232113</td>\n",
       "      <td>2021-04-20</td>\n",
       "      <td>4</td>\n",
       "      <td>Кира</td>\n",
       "      <td>22</td>\n",
       "      <td>Тюмень</td>\n",
       "      <td>ultra</td>\n",
       "    </tr>\n",
       "    <tr>\n",
       "      <th>3</th>\n",
       "      <td>1</td>\n",
       "      <td>2694.783254</td>\n",
       "      <td>18.511000</td>\n",
       "      <td>2021-08-11</td>\n",
       "      <td>8</td>\n",
       "      <td>Кира</td>\n",
       "      <td>22</td>\n",
       "      <td>Тюмень</td>\n",
       "      <td>ultra</td>\n",
       "    </tr>\n",
       "    <tr>\n",
       "      <th>4</th>\n",
       "      <td>1</td>\n",
       "      <td>4028.687306</td>\n",
       "      <td>26.265803</td>\n",
       "      <td>2021-08-28</td>\n",
       "      <td>8</td>\n",
       "      <td>Кира</td>\n",
       "      <td>22</td>\n",
       "      <td>Тюмень</td>\n",
       "      <td>ultra</td>\n",
       "    </tr>\n",
       "    <tr>\n",
       "      <th>...</th>\n",
       "      <td>...</td>\n",
       "      <td>...</td>\n",
       "      <td>...</td>\n",
       "      <td>...</td>\n",
       "      <td>...</td>\n",
       "      <td>...</td>\n",
       "      <td>...</td>\n",
       "      <td>...</td>\n",
       "      <td>...</td>\n",
       "    </tr>\n",
       "    <tr>\n",
       "      <th>18063</th>\n",
       "      <td>1534</td>\n",
       "      <td>3781.098080</td>\n",
       "      <td>19.822962</td>\n",
       "      <td>2021-11-04</td>\n",
       "      <td>11</td>\n",
       "      <td>Альберт</td>\n",
       "      <td>25</td>\n",
       "      <td>Краснодар</td>\n",
       "      <td>free</td>\n",
       "    </tr>\n",
       "    <tr>\n",
       "      <th>18064</th>\n",
       "      <td>1534</td>\n",
       "      <td>2840.423057</td>\n",
       "      <td>21.409799</td>\n",
       "      <td>2021-11-16</td>\n",
       "      <td>11</td>\n",
       "      <td>Альберт</td>\n",
       "      <td>25</td>\n",
       "      <td>Краснодар</td>\n",
       "      <td>free</td>\n",
       "    </tr>\n",
       "    <tr>\n",
       "      <th>18065</th>\n",
       "      <td>1534</td>\n",
       "      <td>3826.185507</td>\n",
       "      <td>18.435051</td>\n",
       "      <td>2021-11-18</td>\n",
       "      <td>11</td>\n",
       "      <td>Альберт</td>\n",
       "      <td>25</td>\n",
       "      <td>Краснодар</td>\n",
       "      <td>free</td>\n",
       "    </tr>\n",
       "    <tr>\n",
       "      <th>18066</th>\n",
       "      <td>1534</td>\n",
       "      <td>2902.308661</td>\n",
       "      <td>16.674362</td>\n",
       "      <td>2021-11-27</td>\n",
       "      <td>11</td>\n",
       "      <td>Альберт</td>\n",
       "      <td>25</td>\n",
       "      <td>Краснодар</td>\n",
       "      <td>free</td>\n",
       "    </tr>\n",
       "    <tr>\n",
       "      <th>18067</th>\n",
       "      <td>1534</td>\n",
       "      <td>2371.711192</td>\n",
       "      <td>15.893917</td>\n",
       "      <td>2021-12-29</td>\n",
       "      <td>12</td>\n",
       "      <td>Альберт</td>\n",
       "      <td>25</td>\n",
       "      <td>Краснодар</td>\n",
       "      <td>free</td>\n",
       "    </tr>\n",
       "  </tbody>\n",
       "</table>\n",
       "<p>18068 rows × 9 columns</p>\n",
       "</div>"
      ],
      "text/plain": [
       "       user_id     distance   duration       date  month     name  age  \\\n",
       "0            1  4409.919140  25.599769 2021-01-01      1     Кира   22   \n",
       "1            1  2617.592153  15.816871 2021-01-18      1     Кира   22   \n",
       "2            1   754.159807   6.232113 2021-04-20      4     Кира   22   \n",
       "3            1  2694.783254  18.511000 2021-08-11      8     Кира   22   \n",
       "4            1  4028.687306  26.265803 2021-08-28      8     Кира   22   \n",
       "...        ...          ...        ...        ...    ...      ...  ...   \n",
       "18063     1534  3781.098080  19.822962 2021-11-04     11  Альберт   25   \n",
       "18064     1534  2840.423057  21.409799 2021-11-16     11  Альберт   25   \n",
       "18065     1534  3826.185507  18.435051 2021-11-18     11  Альберт   25   \n",
       "18066     1534  2902.308661  16.674362 2021-11-27     11  Альберт   25   \n",
       "18067     1534  2371.711192  15.893917 2021-12-29     12  Альберт   25   \n",
       "\n",
       "            city subscription_type  \n",
       "0         Тюмень             ultra  \n",
       "1         Тюмень             ultra  \n",
       "2         Тюмень             ultra  \n",
       "3         Тюмень             ultra  \n",
       "4         Тюмень             ultra  \n",
       "...          ...               ...  \n",
       "18063  Краснодар              free  \n",
       "18064  Краснодар              free  \n",
       "18065  Краснодар              free  \n",
       "18066  Краснодар              free  \n",
       "18067  Краснодар              free  \n",
       "\n",
       "[18068 rows x 9 columns]"
      ]
     },
     "execution_count": 39,
     "metadata": {},
     "output_type": "execute_result"
    }
   ],
   "source": [
    "df"
   ]
  },
  {
   "cell_type": "code",
   "execution_count": 40,
   "id": "a2ba518d-76e1-4e8e-8f6f-096c6e5581e2",
   "metadata": {},
   "outputs": [],
   "source": [
    "df = df.merge(subscriptions, on='subscription_type', how='left')"
   ]
  },
  {
   "cell_type": "code",
   "execution_count": 41,
   "id": "aaa5e8f9-6e9d-42fc-8f9e-1ab691a82d57",
   "metadata": {},
   "outputs": [
    {
     "data": {
      "text/html": [
       "<div>\n",
       "<style scoped>\n",
       "    .dataframe tbody tr th:only-of-type {\n",
       "        vertical-align: middle;\n",
       "    }\n",
       "\n",
       "    .dataframe tbody tr th {\n",
       "        vertical-align: top;\n",
       "    }\n",
       "\n",
       "    .dataframe thead th {\n",
       "        text-align: right;\n",
       "    }\n",
       "</style>\n",
       "<table border=\"1\" class=\"dataframe\">\n",
       "  <thead>\n",
       "    <tr style=\"text-align: right;\">\n",
       "      <th></th>\n",
       "      <th>user_id</th>\n",
       "      <th>distance</th>\n",
       "      <th>duration</th>\n",
       "      <th>date</th>\n",
       "      <th>month</th>\n",
       "      <th>name</th>\n",
       "      <th>age</th>\n",
       "      <th>city</th>\n",
       "      <th>subscription_type</th>\n",
       "      <th>minute_price</th>\n",
       "      <th>start_ride_price</th>\n",
       "      <th>subscription_fee</th>\n",
       "    </tr>\n",
       "  </thead>\n",
       "  <tbody>\n",
       "    <tr>\n",
       "      <th>0</th>\n",
       "      <td>1</td>\n",
       "      <td>4409.919140</td>\n",
       "      <td>25.599769</td>\n",
       "      <td>2021-01-01</td>\n",
       "      <td>1</td>\n",
       "      <td>Кира</td>\n",
       "      <td>22</td>\n",
       "      <td>Тюмень</td>\n",
       "      <td>ultra</td>\n",
       "      <td>6</td>\n",
       "      <td>0</td>\n",
       "      <td>199</td>\n",
       "    </tr>\n",
       "    <tr>\n",
       "      <th>1</th>\n",
       "      <td>1</td>\n",
       "      <td>2617.592153</td>\n",
       "      <td>15.816871</td>\n",
       "      <td>2021-01-18</td>\n",
       "      <td>1</td>\n",
       "      <td>Кира</td>\n",
       "      <td>22</td>\n",
       "      <td>Тюмень</td>\n",
       "      <td>ultra</td>\n",
       "      <td>6</td>\n",
       "      <td>0</td>\n",
       "      <td>199</td>\n",
       "    </tr>\n",
       "    <tr>\n",
       "      <th>2</th>\n",
       "      <td>1</td>\n",
       "      <td>754.159807</td>\n",
       "      <td>6.232113</td>\n",
       "      <td>2021-04-20</td>\n",
       "      <td>4</td>\n",
       "      <td>Кира</td>\n",
       "      <td>22</td>\n",
       "      <td>Тюмень</td>\n",
       "      <td>ultra</td>\n",
       "      <td>6</td>\n",
       "      <td>0</td>\n",
       "      <td>199</td>\n",
       "    </tr>\n",
       "    <tr>\n",
       "      <th>3</th>\n",
       "      <td>1</td>\n",
       "      <td>2694.783254</td>\n",
       "      <td>18.511000</td>\n",
       "      <td>2021-08-11</td>\n",
       "      <td>8</td>\n",
       "      <td>Кира</td>\n",
       "      <td>22</td>\n",
       "      <td>Тюмень</td>\n",
       "      <td>ultra</td>\n",
       "      <td>6</td>\n",
       "      <td>0</td>\n",
       "      <td>199</td>\n",
       "    </tr>\n",
       "    <tr>\n",
       "      <th>4</th>\n",
       "      <td>1</td>\n",
       "      <td>4028.687306</td>\n",
       "      <td>26.265803</td>\n",
       "      <td>2021-08-28</td>\n",
       "      <td>8</td>\n",
       "      <td>Кира</td>\n",
       "      <td>22</td>\n",
       "      <td>Тюмень</td>\n",
       "      <td>ultra</td>\n",
       "      <td>6</td>\n",
       "      <td>0</td>\n",
       "      <td>199</td>\n",
       "    </tr>\n",
       "    <tr>\n",
       "      <th>...</th>\n",
       "      <td>...</td>\n",
       "      <td>...</td>\n",
       "      <td>...</td>\n",
       "      <td>...</td>\n",
       "      <td>...</td>\n",
       "      <td>...</td>\n",
       "      <td>...</td>\n",
       "      <td>...</td>\n",
       "      <td>...</td>\n",
       "      <td>...</td>\n",
       "      <td>...</td>\n",
       "      <td>...</td>\n",
       "    </tr>\n",
       "    <tr>\n",
       "      <th>18063</th>\n",
       "      <td>1534</td>\n",
       "      <td>3781.098080</td>\n",
       "      <td>19.822962</td>\n",
       "      <td>2021-11-04</td>\n",
       "      <td>11</td>\n",
       "      <td>Альберт</td>\n",
       "      <td>25</td>\n",
       "      <td>Краснодар</td>\n",
       "      <td>free</td>\n",
       "      <td>8</td>\n",
       "      <td>50</td>\n",
       "      <td>0</td>\n",
       "    </tr>\n",
       "    <tr>\n",
       "      <th>18064</th>\n",
       "      <td>1534</td>\n",
       "      <td>2840.423057</td>\n",
       "      <td>21.409799</td>\n",
       "      <td>2021-11-16</td>\n",
       "      <td>11</td>\n",
       "      <td>Альберт</td>\n",
       "      <td>25</td>\n",
       "      <td>Краснодар</td>\n",
       "      <td>free</td>\n",
       "      <td>8</td>\n",
       "      <td>50</td>\n",
       "      <td>0</td>\n",
       "    </tr>\n",
       "    <tr>\n",
       "      <th>18065</th>\n",
       "      <td>1534</td>\n",
       "      <td>3826.185507</td>\n",
       "      <td>18.435051</td>\n",
       "      <td>2021-11-18</td>\n",
       "      <td>11</td>\n",
       "      <td>Альберт</td>\n",
       "      <td>25</td>\n",
       "      <td>Краснодар</td>\n",
       "      <td>free</td>\n",
       "      <td>8</td>\n",
       "      <td>50</td>\n",
       "      <td>0</td>\n",
       "    </tr>\n",
       "    <tr>\n",
       "      <th>18066</th>\n",
       "      <td>1534</td>\n",
       "      <td>2902.308661</td>\n",
       "      <td>16.674362</td>\n",
       "      <td>2021-11-27</td>\n",
       "      <td>11</td>\n",
       "      <td>Альберт</td>\n",
       "      <td>25</td>\n",
       "      <td>Краснодар</td>\n",
       "      <td>free</td>\n",
       "      <td>8</td>\n",
       "      <td>50</td>\n",
       "      <td>0</td>\n",
       "    </tr>\n",
       "    <tr>\n",
       "      <th>18067</th>\n",
       "      <td>1534</td>\n",
       "      <td>2371.711192</td>\n",
       "      <td>15.893917</td>\n",
       "      <td>2021-12-29</td>\n",
       "      <td>12</td>\n",
       "      <td>Альберт</td>\n",
       "      <td>25</td>\n",
       "      <td>Краснодар</td>\n",
       "      <td>free</td>\n",
       "      <td>8</td>\n",
       "      <td>50</td>\n",
       "      <td>0</td>\n",
       "    </tr>\n",
       "  </tbody>\n",
       "</table>\n",
       "<p>18068 rows × 12 columns</p>\n",
       "</div>"
      ],
      "text/plain": [
       "       user_id     distance   duration       date  month     name  age  \\\n",
       "0            1  4409.919140  25.599769 2021-01-01      1     Кира   22   \n",
       "1            1  2617.592153  15.816871 2021-01-18      1     Кира   22   \n",
       "2            1   754.159807   6.232113 2021-04-20      4     Кира   22   \n",
       "3            1  2694.783254  18.511000 2021-08-11      8     Кира   22   \n",
       "4            1  4028.687306  26.265803 2021-08-28      8     Кира   22   \n",
       "...        ...          ...        ...        ...    ...      ...  ...   \n",
       "18063     1534  3781.098080  19.822962 2021-11-04     11  Альберт   25   \n",
       "18064     1534  2840.423057  21.409799 2021-11-16     11  Альберт   25   \n",
       "18065     1534  3826.185507  18.435051 2021-11-18     11  Альберт   25   \n",
       "18066     1534  2902.308661  16.674362 2021-11-27     11  Альберт   25   \n",
       "18067     1534  2371.711192  15.893917 2021-12-29     12  Альберт   25   \n",
       "\n",
       "            city subscription_type  minute_price  start_ride_price  \\\n",
       "0         Тюмень             ultra             6                 0   \n",
       "1         Тюмень             ultra             6                 0   \n",
       "2         Тюмень             ultra             6                 0   \n",
       "3         Тюмень             ultra             6                 0   \n",
       "4         Тюмень             ultra             6                 0   \n",
       "...          ...               ...           ...               ...   \n",
       "18063  Краснодар              free             8                50   \n",
       "18064  Краснодар              free             8                50   \n",
       "18065  Краснодар              free             8                50   \n",
       "18066  Краснодар              free             8                50   \n",
       "18067  Краснодар              free             8                50   \n",
       "\n",
       "       subscription_fee  \n",
       "0                   199  \n",
       "1                   199  \n",
       "2                   199  \n",
       "3                   199  \n",
       "4                   199  \n",
       "...                 ...  \n",
       "18063                 0  \n",
       "18064                 0  \n",
       "18065                 0  \n",
       "18066                 0  \n",
       "18067                 0  \n",
       "\n",
       "[18068 rows x 12 columns]"
      ]
     },
     "execution_count": 41,
     "metadata": {},
     "output_type": "execute_result"
    }
   ],
   "source": [
    "df"
   ]
  },
  {
   "cell_type": "code",
   "execution_count": 42,
   "id": "09b85c3e-0822-4667-9f71-18ac2b4eb9c9",
   "metadata": {},
   "outputs": [
    {
     "data": {
      "text/plain": [
       "user_id              0\n",
       "distance             0\n",
       "duration             0\n",
       "date                 0\n",
       "month                0\n",
       "name                 0\n",
       "age                  0\n",
       "city                 0\n",
       "subscription_type    0\n",
       "minute_price         0\n",
       "start_ride_price     0\n",
       "subscription_fee     0\n",
       "dtype: int64"
      ]
     },
     "execution_count": 42,
     "metadata": {},
     "output_type": "execute_result"
    }
   ],
   "source": [
    "df.isna().sum()"
   ]
  },
  {
   "cell_type": "markdown",
   "id": "5f290c50-6e3a-41ed-98f5-6708ffe1059d",
   "metadata": {},
   "source": [
    "**Число записей о поездках после выполнения объединения не изменилось, пустых значений в новом датафрейме нет.**"
   ]
  },
  {
   "cell_type": "markdown",
   "id": "d5f1b3d2-7dba-49c4-8a42-cfb2b964bf7a",
   "metadata": {},
   "source": [
    "### Отдельные таблицы для пользователей с подпиской и без"
   ]
  },
  {
   "cell_type": "markdown",
   "id": "ada7fd04-4dd2-46fe-a31b-7657d47b3297",
   "metadata": {},
   "source": [
    "**Создадим отдельные датафреймы с пользователями без подписки `df_free` и с подпиской `df_ultra`:**"
   ]
  },
  {
   "cell_type": "code",
   "execution_count": 43,
   "id": "55caaecc-b765-45c1-b484-0288923e883a",
   "metadata": {},
   "outputs": [],
   "source": [
    "df_free = df.query('subscription_type == \"free\"')"
   ]
  },
  {
   "cell_type": "code",
   "execution_count": 44,
   "id": "825cdf53-b397-4b08-839a-5adf01dd5c2e",
   "metadata": {},
   "outputs": [
    {
     "name": "stdout",
     "output_type": "stream",
     "text": [
      "<class 'pandas.core.frame.DataFrame'>\n",
      "Int64Index: 11568 entries, 6500 to 18067\n",
      "Data columns (total 12 columns):\n",
      " #   Column             Non-Null Count  Dtype         \n",
      "---  ------             --------------  -----         \n",
      " 0   user_id            11568 non-null  int64         \n",
      " 1   distance           11568 non-null  float64       \n",
      " 2   duration           11568 non-null  float64       \n",
      " 3   date               11568 non-null  datetime64[ns]\n",
      " 4   month              11568 non-null  int64         \n",
      " 5   name               11568 non-null  object        \n",
      " 6   age                11568 non-null  int64         \n",
      " 7   city               11568 non-null  object        \n",
      " 8   subscription_type  11568 non-null  object        \n",
      " 9   minute_price       11568 non-null  int64         \n",
      " 10  start_ride_price   11568 non-null  int64         \n",
      " 11  subscription_fee   11568 non-null  int64         \n",
      "dtypes: datetime64[ns](1), float64(2), int64(6), object(3)\n",
      "memory usage: 1.1+ MB\n"
     ]
    }
   ],
   "source": [
    "df_free.info()"
   ]
  },
  {
   "cell_type": "code",
   "execution_count": 45,
   "id": "a40dc010-6fde-473a-bc0b-d7c3e2c78692",
   "metadata": {},
   "outputs": [
    {
     "data": {
      "text/html": [
       "<div>\n",
       "<style scoped>\n",
       "    .dataframe tbody tr th:only-of-type {\n",
       "        vertical-align: middle;\n",
       "    }\n",
       "\n",
       "    .dataframe tbody tr th {\n",
       "        vertical-align: top;\n",
       "    }\n",
       "\n",
       "    .dataframe thead th {\n",
       "        text-align: right;\n",
       "    }\n",
       "</style>\n",
       "<table border=\"1\" class=\"dataframe\">\n",
       "  <thead>\n",
       "    <tr style=\"text-align: right;\">\n",
       "      <th></th>\n",
       "      <th>user_id</th>\n",
       "      <th>distance</th>\n",
       "      <th>duration</th>\n",
       "      <th>date</th>\n",
       "      <th>month</th>\n",
       "      <th>name</th>\n",
       "      <th>age</th>\n",
       "      <th>city</th>\n",
       "      <th>subscription_type</th>\n",
       "      <th>minute_price</th>\n",
       "      <th>start_ride_price</th>\n",
       "      <th>subscription_fee</th>\n",
       "    </tr>\n",
       "  </thead>\n",
       "  <tbody>\n",
       "    <tr>\n",
       "      <th>6500</th>\n",
       "      <td>700</td>\n",
       "      <td>2515.690719</td>\n",
       "      <td>14.944286</td>\n",
       "      <td>2021-01-02</td>\n",
       "      <td>1</td>\n",
       "      <td>Айдар</td>\n",
       "      <td>22</td>\n",
       "      <td>Омск</td>\n",
       "      <td>free</td>\n",
       "      <td>8</td>\n",
       "      <td>50</td>\n",
       "      <td>0</td>\n",
       "    </tr>\n",
       "    <tr>\n",
       "      <th>6501</th>\n",
       "      <td>700</td>\n",
       "      <td>846.932642</td>\n",
       "      <td>16.234663</td>\n",
       "      <td>2021-02-01</td>\n",
       "      <td>2</td>\n",
       "      <td>Айдар</td>\n",
       "      <td>22</td>\n",
       "      <td>Омск</td>\n",
       "      <td>free</td>\n",
       "      <td>8</td>\n",
       "      <td>50</td>\n",
       "      <td>0</td>\n",
       "    </tr>\n",
       "    <tr>\n",
       "      <th>6502</th>\n",
       "      <td>700</td>\n",
       "      <td>4004.434142</td>\n",
       "      <td>20.016628</td>\n",
       "      <td>2021-02-04</td>\n",
       "      <td>2</td>\n",
       "      <td>Айдар</td>\n",
       "      <td>22</td>\n",
       "      <td>Омск</td>\n",
       "      <td>free</td>\n",
       "      <td>8</td>\n",
       "      <td>50</td>\n",
       "      <td>0</td>\n",
       "    </tr>\n",
       "    <tr>\n",
       "      <th>6503</th>\n",
       "      <td>700</td>\n",
       "      <td>1205.911290</td>\n",
       "      <td>9.782872</td>\n",
       "      <td>2021-02-10</td>\n",
       "      <td>2</td>\n",
       "      <td>Айдар</td>\n",
       "      <td>22</td>\n",
       "      <td>Омск</td>\n",
       "      <td>free</td>\n",
       "      <td>8</td>\n",
       "      <td>50</td>\n",
       "      <td>0</td>\n",
       "    </tr>\n",
       "    <tr>\n",
       "      <th>6504</th>\n",
       "      <td>700</td>\n",
       "      <td>3047.379435</td>\n",
       "      <td>17.427673</td>\n",
       "      <td>2021-02-14</td>\n",
       "      <td>2</td>\n",
       "      <td>Айдар</td>\n",
       "      <td>22</td>\n",
       "      <td>Омск</td>\n",
       "      <td>free</td>\n",
       "      <td>8</td>\n",
       "      <td>50</td>\n",
       "      <td>0</td>\n",
       "    </tr>\n",
       "  </tbody>\n",
       "</table>\n",
       "</div>"
      ],
      "text/plain": [
       "      user_id     distance   duration       date  month   name  age  city  \\\n",
       "6500      700  2515.690719  14.944286 2021-01-02      1  Айдар   22  Омск   \n",
       "6501      700   846.932642  16.234663 2021-02-01      2  Айдар   22  Омск   \n",
       "6502      700  4004.434142  20.016628 2021-02-04      2  Айдар   22  Омск   \n",
       "6503      700  1205.911290   9.782872 2021-02-10      2  Айдар   22  Омск   \n",
       "6504      700  3047.379435  17.427673 2021-02-14      2  Айдар   22  Омск   \n",
       "\n",
       "     subscription_type  minute_price  start_ride_price  subscription_fee  \n",
       "6500              free             8                50                 0  \n",
       "6501              free             8                50                 0  \n",
       "6502              free             8                50                 0  \n",
       "6503              free             8                50                 0  \n",
       "6504              free             8                50                 0  "
      ]
     },
     "execution_count": 45,
     "metadata": {},
     "output_type": "execute_result"
    }
   ],
   "source": [
    "df_free.head()"
   ]
  },
  {
   "cell_type": "code",
   "execution_count": 46,
   "id": "f78552eb-502a-4f59-8d88-3324d5a31ae1",
   "metadata": {},
   "outputs": [],
   "source": [
    "df_ultra = df.query('subscription_type == \"ultra\"')"
   ]
  },
  {
   "cell_type": "code",
   "execution_count": 47,
   "id": "4119a0ed-e261-42e1-bde6-33aaebafb59d",
   "metadata": {},
   "outputs": [
    {
     "name": "stdout",
     "output_type": "stream",
     "text": [
      "<class 'pandas.core.frame.DataFrame'>\n",
      "Int64Index: 6500 entries, 0 to 6499\n",
      "Data columns (total 12 columns):\n",
      " #   Column             Non-Null Count  Dtype         \n",
      "---  ------             --------------  -----         \n",
      " 0   user_id            6500 non-null   int64         \n",
      " 1   distance           6500 non-null   float64       \n",
      " 2   duration           6500 non-null   float64       \n",
      " 3   date               6500 non-null   datetime64[ns]\n",
      " 4   month              6500 non-null   int64         \n",
      " 5   name               6500 non-null   object        \n",
      " 6   age                6500 non-null   int64         \n",
      " 7   city               6500 non-null   object        \n",
      " 8   subscription_type  6500 non-null   object        \n",
      " 9   minute_price       6500 non-null   int64         \n",
      " 10  start_ride_price   6500 non-null   int64         \n",
      " 11  subscription_fee   6500 non-null   int64         \n",
      "dtypes: datetime64[ns](1), float64(2), int64(6), object(3)\n",
      "memory usage: 660.2+ KB\n"
     ]
    }
   ],
   "source": [
    "df_ultra.info()"
   ]
  },
  {
   "cell_type": "code",
   "execution_count": 48,
   "id": "7fd2735d-7189-4cb5-98f5-23be33b20fd5",
   "metadata": {},
   "outputs": [
    {
     "data": {
      "text/html": [
       "<div>\n",
       "<style scoped>\n",
       "    .dataframe tbody tr th:only-of-type {\n",
       "        vertical-align: middle;\n",
       "    }\n",
       "\n",
       "    .dataframe tbody tr th {\n",
       "        vertical-align: top;\n",
       "    }\n",
       "\n",
       "    .dataframe thead th {\n",
       "        text-align: right;\n",
       "    }\n",
       "</style>\n",
       "<table border=\"1\" class=\"dataframe\">\n",
       "  <thead>\n",
       "    <tr style=\"text-align: right;\">\n",
       "      <th></th>\n",
       "      <th>user_id</th>\n",
       "      <th>distance</th>\n",
       "      <th>duration</th>\n",
       "      <th>date</th>\n",
       "      <th>month</th>\n",
       "      <th>name</th>\n",
       "      <th>age</th>\n",
       "      <th>city</th>\n",
       "      <th>subscription_type</th>\n",
       "      <th>minute_price</th>\n",
       "      <th>start_ride_price</th>\n",
       "      <th>subscription_fee</th>\n",
       "    </tr>\n",
       "  </thead>\n",
       "  <tbody>\n",
       "    <tr>\n",
       "      <th>0</th>\n",
       "      <td>1</td>\n",
       "      <td>4409.919140</td>\n",
       "      <td>25.599769</td>\n",
       "      <td>2021-01-01</td>\n",
       "      <td>1</td>\n",
       "      <td>Кира</td>\n",
       "      <td>22</td>\n",
       "      <td>Тюмень</td>\n",
       "      <td>ultra</td>\n",
       "      <td>6</td>\n",
       "      <td>0</td>\n",
       "      <td>199</td>\n",
       "    </tr>\n",
       "    <tr>\n",
       "      <th>1</th>\n",
       "      <td>1</td>\n",
       "      <td>2617.592153</td>\n",
       "      <td>15.816871</td>\n",
       "      <td>2021-01-18</td>\n",
       "      <td>1</td>\n",
       "      <td>Кира</td>\n",
       "      <td>22</td>\n",
       "      <td>Тюмень</td>\n",
       "      <td>ultra</td>\n",
       "      <td>6</td>\n",
       "      <td>0</td>\n",
       "      <td>199</td>\n",
       "    </tr>\n",
       "    <tr>\n",
       "      <th>2</th>\n",
       "      <td>1</td>\n",
       "      <td>754.159807</td>\n",
       "      <td>6.232113</td>\n",
       "      <td>2021-04-20</td>\n",
       "      <td>4</td>\n",
       "      <td>Кира</td>\n",
       "      <td>22</td>\n",
       "      <td>Тюмень</td>\n",
       "      <td>ultra</td>\n",
       "      <td>6</td>\n",
       "      <td>0</td>\n",
       "      <td>199</td>\n",
       "    </tr>\n",
       "    <tr>\n",
       "      <th>3</th>\n",
       "      <td>1</td>\n",
       "      <td>2694.783254</td>\n",
       "      <td>18.511000</td>\n",
       "      <td>2021-08-11</td>\n",
       "      <td>8</td>\n",
       "      <td>Кира</td>\n",
       "      <td>22</td>\n",
       "      <td>Тюмень</td>\n",
       "      <td>ultra</td>\n",
       "      <td>6</td>\n",
       "      <td>0</td>\n",
       "      <td>199</td>\n",
       "    </tr>\n",
       "    <tr>\n",
       "      <th>4</th>\n",
       "      <td>1</td>\n",
       "      <td>4028.687306</td>\n",
       "      <td>26.265803</td>\n",
       "      <td>2021-08-28</td>\n",
       "      <td>8</td>\n",
       "      <td>Кира</td>\n",
       "      <td>22</td>\n",
       "      <td>Тюмень</td>\n",
       "      <td>ultra</td>\n",
       "      <td>6</td>\n",
       "      <td>0</td>\n",
       "      <td>199</td>\n",
       "    </tr>\n",
       "  </tbody>\n",
       "</table>\n",
       "</div>"
      ],
      "text/plain": [
       "   user_id     distance   duration       date  month  name  age    city  \\\n",
       "0        1  4409.919140  25.599769 2021-01-01      1  Кира   22  Тюмень   \n",
       "1        1  2617.592153  15.816871 2021-01-18      1  Кира   22  Тюмень   \n",
       "2        1   754.159807   6.232113 2021-04-20      4  Кира   22  Тюмень   \n",
       "3        1  2694.783254  18.511000 2021-08-11      8  Кира   22  Тюмень   \n",
       "4        1  4028.687306  26.265803 2021-08-28      8  Кира   22  Тюмень   \n",
       "\n",
       "  subscription_type  minute_price  start_ride_price  subscription_fee  \n",
       "0             ultra             6                 0               199  \n",
       "1             ultra             6                 0               199  \n",
       "2             ultra             6                 0               199  \n",
       "3             ultra             6                 0               199  \n",
       "4             ultra             6                 0               199  "
      ]
     },
     "execution_count": 48,
     "metadata": {},
     "output_type": "execute_result"
    }
   ],
   "source": [
    "df_ultra.head()"
   ]
  },
  {
   "cell_type": "markdown",
   "id": "ebd696fa-636d-4bc2-96e2-67d59d8a52c5",
   "metadata": {},
   "source": [
    "**Датафреймы готовы. Поездок по подписке примерно на 40% меньше, чем без подписки**"
   ]
  },
  {
   "cell_type": "markdown",
   "id": "3fbccbe7-d211-44ac-8ee6-d5752e65597b",
   "metadata": {},
   "source": [
    "### Расстояние и время поездок для пользователей с подпиской и без нее"
   ]
  },
  {
   "cell_type": "markdown",
   "id": "d754636d-1a55-4125-8601-f56ee796106a",
   "metadata": {},
   "source": [
    "**Сначала посмотрим как распределено расстояние поездки в обеих группах:**"
   ]
  },
  {
   "cell_type": "code",
   "execution_count": 49,
   "id": "46d5862b-0f2e-4985-b942-c58234d07a97",
   "metadata": {},
   "outputs": [
    {
     "data": {
      "text/plain": [
       "count    11568.000000\n",
       "mean      3045.495282\n",
       "std       1246.173806\n",
       "min          0.855683\n",
       "25%       2366.562689\n",
       "50%       3114.648465\n",
       "75%       3905.697894\n",
       "max       7211.007745\n",
       "Name: distance, dtype: float64"
      ]
     },
     "execution_count": 49,
     "metadata": {},
     "output_type": "execute_result"
    }
   ],
   "source": [
    "df_free['distance'].describe()"
   ]
  },
  {
   "cell_type": "code",
   "execution_count": 50,
   "id": "5fc7d379-196b-4b4e-af26-efac357d22fe",
   "metadata": {},
   "outputs": [
    {
     "data": {
      "text/plain": [
       "count    6500.000000\n",
       "mean     3115.445388\n",
       "std       836.895330\n",
       "min       244.210438\n",
       "25%      2785.444017\n",
       "50%      3148.637229\n",
       "75%      3560.574425\n",
       "max      5699.769662\n",
       "Name: distance, dtype: float64"
      ]
     },
     "execution_count": 50,
     "metadata": {},
     "output_type": "execute_result"
    }
   ],
   "source": [
    "df_ultra['distance'].describe()"
   ]
  },
  {
   "cell_type": "markdown",
   "id": "ff43d1c9-8013-4cf7-9618-700af66e616d",
   "metadata": {},
   "source": [
    "**По средним значениям расстояния в группах почти не различаются - 3028 и 3115 метров. Однако разброс расстояния одной поездки в группе `free` явно больше, чем в группе `ultra`. Построим распределения:**"
   ]
  },
  {
   "cell_type": "code",
   "execution_count": 51,
   "id": "08960839-5380-43bf-8706-1f57071b6d67",
   "metadata": {},
   "outputs": [
    {
     "data": {
      "image/png": "[encoded data removed]",
      "text/plain": [
       "<Figure size 576x432 with 1 Axes>"
      ]
     },
     "metadata": {
      "needs_background": "light"
     },
     "output_type": "display_data"
    }
   ],
   "source": [
    "df_free['distance'].hist(bins=100, range=(0,7300), figsize=(8,6))\n",
    "plt.xlabel('Расстояние одной поездки, м', fontsize=15)\n",
    "plt.ylabel('Чиcло поездок', fontsize=15)\n",
    "plt.title('Распределение расстояний, преодолеваемых в группе без подписки\\n за одну поездку', fontsize=16)\n",
    "plt.show()"
   ]
  },
  {
   "cell_type": "code",
   "execution_count": 52,
   "id": "2b6d3a93-25ae-4bca-bf81-f80a73007077",
   "metadata": {},
   "outputs": [
    {
     "data": {
      "image/png": "[encoded data removed]",
      "text/plain": [
       "<Figure size 576x432 with 1 Axes>"
      ]
     },
     "metadata": {
      "needs_background": "light"
     },
     "output_type": "display_data"
    }
   ],
   "source": [
    "df_ultra['distance'].hist(bins=100, range=(0,7300), figsize=(8,6))\n",
    "plt.xlabel('Расстояние одной поездки, м', fontsize=15)\n",
    "plt.ylabel('Чиcло поездок', fontsize=15)\n",
    "plt.title('Распределение расстояний, преодолеваемых в группе c подпиской ultra\\n за одну поездку', fontsize=16)\n",
    "plt.show()"
   ]
  },
  {
   "cell_type": "markdown",
   "id": "45b4439f-7e96-48ca-a46d-6e2e28a5ed14",
   "metadata": {},
   "source": [
    "**Распределения по расстоянию одной поездки в группах `free` и `ultra` выглядят по-разному. У пользователей без подписки распределение более широкое, и пик на малых расстояниях выше и смещен ближе к 0, по сравнению с пользователями с подпиской. Это логично, поскольку пробные заезды вероятнее всего будут совершать те, у кого еще нет подписки. У тех, кто оформил подписку на графике выделяется дополнительный пик около 4000 м** "
   ]
  },
  {
   "cell_type": "markdown",
   "id": "dcf89621-1240-4c6c-bcf6-5c3b2c657406",
   "metadata": {},
   "source": [
    "**Теперь обратимся к распределению поездок по времени. Еще до построения графика можно предположить, что среднее время заезда в группе без подписки будет ниже, чем в группе с подпиской (т.к. в первом случае минута самокатного времени стоит дороже)**"
   ]
  },
  {
   "cell_type": "code",
   "execution_count": 53,
   "id": "6539d675-58ae-484d-80ce-354bc5e8445d",
   "metadata": {},
   "outputs": [
    {
     "data": {
      "text/plain": [
       "count    11568.000000\n",
       "mean        17.390909\n",
       "std          6.326803\n",
       "min          0.500000\n",
       "25%         12.958437\n",
       "50%         17.326890\n",
       "75%         21.594071\n",
       "max         34.948498\n",
       "Name: duration, dtype: float64"
      ]
     },
     "execution_count": 53,
     "metadata": {},
     "output_type": "execute_result"
    }
   ],
   "source": [
    "df_free['duration'].describe()"
   ]
  },
  {
   "cell_type": "code",
   "execution_count": 54,
   "id": "5ac28275-ca09-43fa-9396-35979b5586d5",
   "metadata": {},
   "outputs": [
    {
     "data": {
      "text/plain": [
       "count    6500.000000\n",
       "mean       18.541985\n",
       "std         5.572048\n",
       "min         3.760353\n",
       "25%        14.524654\n",
       "50%        18.178153\n",
       "75%        21.884129\n",
       "max        40.823963\n",
       "Name: duration, dtype: float64"
      ]
     },
     "execution_count": 54,
     "metadata": {},
     "output_type": "execute_result"
    }
   ],
   "source": [
    "df_ultra['duration'].describe()"
   ]
  },
  {
   "cell_type": "markdown",
   "id": "ace010ba-ba83-4cb8-94eb-40430ca4ea2a",
   "metadata": {},
   "source": [
    "**Судя по описанию столбцов в первой и второй группе - разница небольшая. Посмотрим на распределения:** "
   ]
  },
  {
   "cell_type": "code",
   "execution_count": 55,
   "id": "83802cd4-54b8-49f1-9d61-e79fff13171d",
   "metadata": {},
   "outputs": [
    {
     "data": {
      "image/png": "[encoded data removed]",
      "text/plain": [
       "<Figure size 576x432 with 1 Axes>"
      ]
     },
     "metadata": {
      "needs_background": "light"
     },
     "output_type": "display_data"
    }
   ],
   "source": [
    "df_free['duration'].hist(bins=41, range=(0,41), figsize=(8,6))\n",
    "plt.xlabel('Длительность поездки, минут', fontsize=15)\n",
    "plt.ylabel('Чиcло поездок', fontsize=15)\n",
    "plt.title('Распределение длительностей одной поездки\\n у пользователей без подписки', fontsize=16)\n",
    "plt.show()"
   ]
  },
  {
   "cell_type": "code",
   "execution_count": 56,
   "id": "7e7d1e4e-e145-4618-ad48-eecf66a07176",
   "metadata": {},
   "outputs": [
    {
     "data": {
      "image/png": "[encoded data removed]",
      "text/plain": [
       "<Figure size 576x432 with 1 Axes>"
      ]
     },
     "metadata": {
      "needs_background": "light"
     },
     "output_type": "display_data"
    }
   ],
   "source": [
    "df_ultra['duration'].hist(bins=41, range=(0,41), figsize=(8,6))\n",
    "plt.xlabel('Длительность поездки, минут', fontsize=15)\n",
    "plt.ylabel('Чиcло поездок', fontsize=15)\n",
    "plt.title('Распределение длительностей одной поездки\\n у пользователей c подпиской ultra', fontsize=16)\n",
    "plt.show()"
   ]
  },
  {
   "cell_type": "markdown",
   "id": "7df10e67-5a4a-43de-942d-4ef48bf0dc4e",
   "metadata": {},
   "source": [
    "**У пользователей без подписки распределение времени на поездку имеет симметричную колоколообразную форму, а поездки никогда не превышают 35 минут. Именно пользователи без подписки \"ответственны\" за маленький пик пробных поездок продолжительностью меньше минуты. У пользователей с подпиской распределение немного смещено вправо - они имеют тенденцию делать чуть меньше коротких по времени поездок. В отличие от пользователей без подписки они все-таки изредка совершают поездки длительностью больше 35 минут. Для наглядности построим распределения по длительности поездки в обеих группах на одном графике:**"
   ]
  },
  {
   "cell_type": "code",
   "execution_count": 57,
   "id": "993ea3ef-f643-4b1c-b645-52ef2424c7d7",
   "metadata": {},
   "outputs": [
    {
     "data": {
      "image/png": "[encoded data removed]",
      "text/plain": [
       "<Figure size 576x432 with 1 Axes>"
      ]
     },
     "metadata": {
      "needs_background": "light"
     },
     "output_type": "display_data"
    }
   ],
   "source": [
    "ax=df_free.plot(kind='hist', y='duration', histtype='step', range=(0,41), bins=41, linewidth=5, alpha=0.7, label='free', figsize=(8,6))\n",
    "df_ultra.plot(kind='hist', y='duration', histtype='step', range=(0,41), bins=41, linewidth=5, alpha=0.7, label='ultra', ax=ax, grid=True, legend = True)\n",
    "plt.xlabel('Длительность поездки, минут', fontsize=15)\n",
    "plt.ylabel('Чиcло поездок', fontsize=15)\n",
    "plt.title('Распределение длительностей одной поездки\\n у пользователей без подписки и c подпиской ultra', fontsize=16)\n",
    "plt.show()"
   ]
  },
  {
   "cell_type": "markdown",
   "id": "60c02707-b54d-408a-b2a2-90196bb992ac",
   "metadata": {},
   "source": [
    "## Подсчет выручки"
   ]
  },
  {
   "cell_type": "markdown",
   "id": "74903eb0-8587-433c-b8a0-4857dd001118",
   "metadata": {},
   "source": [
    "**Создадим сводную таблицу, в которой соберем данные о суммарном расстоянии, количестве поездок,суммарном времени для каждого пользователя за каждый месяц, а также о тарифе, которым он пользуется:**"
   ]
  },
  {
   "cell_type": "code",
   "execution_count": 58,
   "id": "a80242c8-b843-495e-bd41-ff1322e3c0e1",
   "metadata": {},
   "outputs": [],
   "source": [
    "df_grouped = df.groupby(['user_id','month']).agg({'distance':'sum', 'user_id':'count', 'duration':'sum', 'subscription_type':'first'})\n",
    "df_grouped.columns = ['distance','rides','duration', 'subscription_type']"
   ]
  },
  {
   "cell_type": "code",
   "execution_count": 59,
   "id": "ff1490ae-ff21-49d1-88b1-b20b4588a5df",
   "metadata": {},
   "outputs": [
    {
     "data": {
      "text/html": [
       "<div>\n",
       "<style scoped>\n",
       "    .dataframe tbody tr th:only-of-type {\n",
       "        vertical-align: middle;\n",
       "    }\n",
       "\n",
       "    .dataframe tbody tr th {\n",
       "        vertical-align: top;\n",
       "    }\n",
       "\n",
       "    .dataframe thead th {\n",
       "        text-align: right;\n",
       "    }\n",
       "</style>\n",
       "<table border=\"1\" class=\"dataframe\">\n",
       "  <thead>\n",
       "    <tr style=\"text-align: right;\">\n",
       "      <th></th>\n",
       "      <th></th>\n",
       "      <th>distance</th>\n",
       "      <th>rides</th>\n",
       "      <th>duration</th>\n",
       "      <th>subscription_type</th>\n",
       "    </tr>\n",
       "    <tr>\n",
       "      <th>user_id</th>\n",
       "      <th>month</th>\n",
       "      <th></th>\n",
       "      <th></th>\n",
       "      <th></th>\n",
       "      <th></th>\n",
       "    </tr>\n",
       "  </thead>\n",
       "  <tbody>\n",
       "    <tr>\n",
       "      <th rowspan=\"5\" valign=\"top\">1</th>\n",
       "      <th>1</th>\n",
       "      <td>7027.511294</td>\n",
       "      <td>2</td>\n",
       "      <td>41.416640</td>\n",
       "      <td>ultra</td>\n",
       "    </tr>\n",
       "    <tr>\n",
       "      <th>4</th>\n",
       "      <td>754.159807</td>\n",
       "      <td>1</td>\n",
       "      <td>6.232113</td>\n",
       "      <td>ultra</td>\n",
       "    </tr>\n",
       "    <tr>\n",
       "      <th>8</th>\n",
       "      <td>6723.470560</td>\n",
       "      <td>2</td>\n",
       "      <td>44.776802</td>\n",
       "      <td>ultra</td>\n",
       "    </tr>\n",
       "    <tr>\n",
       "      <th>10</th>\n",
       "      <td>5809.911100</td>\n",
       "      <td>2</td>\n",
       "      <td>31.578017</td>\n",
       "      <td>ultra</td>\n",
       "    </tr>\n",
       "    <tr>\n",
       "      <th>11</th>\n",
       "      <td>7003.499363</td>\n",
       "      <td>3</td>\n",
       "      <td>53.397424</td>\n",
       "      <td>ultra</td>\n",
       "    </tr>\n",
       "    <tr>\n",
       "      <th>...</th>\n",
       "      <th>...</th>\n",
       "      <td>...</td>\n",
       "      <td>...</td>\n",
       "      <td>...</td>\n",
       "      <td>...</td>\n",
       "    </tr>\n",
       "    <tr>\n",
       "      <th rowspan=\"5\" valign=\"top\">1534</th>\n",
       "      <th>6</th>\n",
       "      <td>3409.468534</td>\n",
       "      <td>2</td>\n",
       "      <td>24.812678</td>\n",
       "      <td>free</td>\n",
       "    </tr>\n",
       "    <tr>\n",
       "      <th>8</th>\n",
       "      <td>7622.453034</td>\n",
       "      <td>2</td>\n",
       "      <td>47.205960</td>\n",
       "      <td>free</td>\n",
       "    </tr>\n",
       "    <tr>\n",
       "      <th>9</th>\n",
       "      <td>4928.173852</td>\n",
       "      <td>1</td>\n",
       "      <td>22.560373</td>\n",
       "      <td>free</td>\n",
       "    </tr>\n",
       "    <tr>\n",
       "      <th>11</th>\n",
       "      <td>13350.015305</td>\n",
       "      <td>4</td>\n",
       "      <td>76.342174</td>\n",
       "      <td>free</td>\n",
       "    </tr>\n",
       "    <tr>\n",
       "      <th>12</th>\n",
       "      <td>2371.711192</td>\n",
       "      <td>1</td>\n",
       "      <td>15.893917</td>\n",
       "      <td>free</td>\n",
       "    </tr>\n",
       "  </tbody>\n",
       "</table>\n",
       "<p>11331 rows × 4 columns</p>\n",
       "</div>"
      ],
      "text/plain": [
       "                   distance  rides   duration subscription_type\n",
       "user_id month                                                  \n",
       "1       1       7027.511294      2  41.416640             ultra\n",
       "        4        754.159807      1   6.232113             ultra\n",
       "        8       6723.470560      2  44.776802             ultra\n",
       "        10      5809.911100      2  31.578017             ultra\n",
       "        11      7003.499363      3  53.397424             ultra\n",
       "...                     ...    ...        ...               ...\n",
       "1534    6       3409.468534      2  24.812678              free\n",
       "        8       7622.453034      2  47.205960              free\n",
       "        9       4928.173852      1  22.560373              free\n",
       "        11     13350.015305      4  76.342174              free\n",
       "        12      2371.711192      1  15.893917              free\n",
       "\n",
       "[11331 rows x 4 columns]"
      ]
     },
     "execution_count": 59,
     "metadata": {},
     "output_type": "execute_result"
    }
   ],
   "source": [
    "df_grouped"
   ]
  },
  {
   "cell_type": "markdown",
   "id": "ae6265f8-c7cb-480d-86f4-e834b78ac27b",
   "metadata": {},
   "source": [
    "**Округлим значения `duration` в таблице `df_grouped` до верхнего целого числа:**"
   ]
  },
  {
   "cell_type": "code",
   "execution_count": 60,
   "id": "9e67b598-4cf1-46f9-b385-9a15a358324e",
   "metadata": {},
   "outputs": [],
   "source": [
    "df_grouped['duration'] = np.ceil(df_grouped['duration'])"
   ]
  },
  {
   "cell_type": "markdown",
   "id": "774a801c-b6aa-47b0-9978-43b54ccb52bc",
   "metadata": {},
   "source": [
    "**Создадим функцию, которая на основе данных из `df_grouped` будет подсчитывать доход, который принес компании каждый пользователеь за каждый месяц года с учетом того, пользуется он подпиской или нет:**"
   ]
  },
  {
   "cell_type": "code",
   "execution_count": 61,
   "id": "1ef77e01-76ff-41db-ac88-505c21b0885a",
   "metadata": {},
   "outputs": [],
   "source": [
    "def revenue(row):\n",
    "    if row['subscription_type'] == 'ultra': # условие, если пользователь на подписке\n",
    "        rev = 6*row['duration'] + 199\n",
    "        return rev\n",
    "    else: # условие, если пользователь без подписки \n",
    "        rev=row['rides']*50 + 8*row['duration']\n",
    "        return rev"
   ]
  },
  {
   "cell_type": "code",
   "execution_count": 62,
   "id": "8c6129ff-8b0d-4046-8b43-3cb1d94065aa",
   "metadata": {},
   "outputs": [
    {
     "data": {
      "text/html": [
       "<div>\n",
       "<style scoped>\n",
       "    .dataframe tbody tr th:only-of-type {\n",
       "        vertical-align: middle;\n",
       "    }\n",
       "\n",
       "    .dataframe tbody tr th {\n",
       "        vertical-align: top;\n",
       "    }\n",
       "\n",
       "    .dataframe thead th {\n",
       "        text-align: right;\n",
       "    }\n",
       "</style>\n",
       "<table border=\"1\" class=\"dataframe\">\n",
       "  <thead>\n",
       "    <tr style=\"text-align: right;\">\n",
       "      <th></th>\n",
       "      <th></th>\n",
       "      <th>distance</th>\n",
       "      <th>rides</th>\n",
       "      <th>duration</th>\n",
       "      <th>subscription_type</th>\n",
       "      <th>revenue</th>\n",
       "    </tr>\n",
       "    <tr>\n",
       "      <th>user_id</th>\n",
       "      <th>month</th>\n",
       "      <th></th>\n",
       "      <th></th>\n",
       "      <th></th>\n",
       "      <th></th>\n",
       "      <th></th>\n",
       "    </tr>\n",
       "  </thead>\n",
       "  <tbody>\n",
       "    <tr>\n",
       "      <th rowspan=\"5\" valign=\"top\">1</th>\n",
       "      <th>1</th>\n",
       "      <td>7027.511294</td>\n",
       "      <td>2</td>\n",
       "      <td>42.0</td>\n",
       "      <td>ultra</td>\n",
       "      <td>451.0</td>\n",
       "    </tr>\n",
       "    <tr>\n",
       "      <th>4</th>\n",
       "      <td>754.159807</td>\n",
       "      <td>1</td>\n",
       "      <td>7.0</td>\n",
       "      <td>ultra</td>\n",
       "      <td>241.0</td>\n",
       "    </tr>\n",
       "    <tr>\n",
       "      <th>8</th>\n",
       "      <td>6723.470560</td>\n",
       "      <td>2</td>\n",
       "      <td>45.0</td>\n",
       "      <td>ultra</td>\n",
       "      <td>469.0</td>\n",
       "    </tr>\n",
       "    <tr>\n",
       "      <th>10</th>\n",
       "      <td>5809.911100</td>\n",
       "      <td>2</td>\n",
       "      <td>32.0</td>\n",
       "      <td>ultra</td>\n",
       "      <td>391.0</td>\n",
       "    </tr>\n",
       "    <tr>\n",
       "      <th>11</th>\n",
       "      <td>7003.499363</td>\n",
       "      <td>3</td>\n",
       "      <td>54.0</td>\n",
       "      <td>ultra</td>\n",
       "      <td>523.0</td>\n",
       "    </tr>\n",
       "    <tr>\n",
       "      <th>...</th>\n",
       "      <th>...</th>\n",
       "      <td>...</td>\n",
       "      <td>...</td>\n",
       "      <td>...</td>\n",
       "      <td>...</td>\n",
       "      <td>...</td>\n",
       "    </tr>\n",
       "    <tr>\n",
       "      <th rowspan=\"5\" valign=\"top\">1534</th>\n",
       "      <th>6</th>\n",
       "      <td>3409.468534</td>\n",
       "      <td>2</td>\n",
       "      <td>25.0</td>\n",
       "      <td>free</td>\n",
       "      <td>300.0</td>\n",
       "    </tr>\n",
       "    <tr>\n",
       "      <th>8</th>\n",
       "      <td>7622.453034</td>\n",
       "      <td>2</td>\n",
       "      <td>48.0</td>\n",
       "      <td>free</td>\n",
       "      <td>484.0</td>\n",
       "    </tr>\n",
       "    <tr>\n",
       "      <th>9</th>\n",
       "      <td>4928.173852</td>\n",
       "      <td>1</td>\n",
       "      <td>23.0</td>\n",
       "      <td>free</td>\n",
       "      <td>234.0</td>\n",
       "    </tr>\n",
       "    <tr>\n",
       "      <th>11</th>\n",
       "      <td>13350.015305</td>\n",
       "      <td>4</td>\n",
       "      <td>77.0</td>\n",
       "      <td>free</td>\n",
       "      <td>816.0</td>\n",
       "    </tr>\n",
       "    <tr>\n",
       "      <th>12</th>\n",
       "      <td>2371.711192</td>\n",
       "      <td>1</td>\n",
       "      <td>16.0</td>\n",
       "      <td>free</td>\n",
       "      <td>178.0</td>\n",
       "    </tr>\n",
       "  </tbody>\n",
       "</table>\n",
       "<p>11331 rows × 5 columns</p>\n",
       "</div>"
      ],
      "text/plain": [
       "                   distance  rides  duration subscription_type  revenue\n",
       "user_id month                                                          \n",
       "1       1       7027.511294      2      42.0             ultra    451.0\n",
       "        4        754.159807      1       7.0             ultra    241.0\n",
       "        8       6723.470560      2      45.0             ultra    469.0\n",
       "        10      5809.911100      2      32.0             ultra    391.0\n",
       "        11      7003.499363      3      54.0             ultra    523.0\n",
       "...                     ...    ...       ...               ...      ...\n",
       "1534    6       3409.468534      2      25.0              free    300.0\n",
       "        8       7622.453034      2      48.0              free    484.0\n",
       "        9       4928.173852      1      23.0              free    234.0\n",
       "        11     13350.015305      4      77.0              free    816.0\n",
       "        12      2371.711192      1      16.0              free    178.0\n",
       "\n",
       "[11331 rows x 5 columns]"
      ]
     },
     "execution_count": 62,
     "metadata": {},
     "output_type": "execute_result"
    }
   ],
   "source": [
    "df_grouped['revenue']=df_grouped.apply(revenue, axis=1)\n",
    "df_grouped"
   ]
  },
  {
   "cell_type": "markdown",
   "id": "e4e90a3f-de6f-45ae-bca5-ab7b4eb1e12a",
   "metadata": {},
   "source": [
    "**Просуммируем числа в столбце `revenue`, чтобы рассчитать суммарную выручку за год:**"
   ]
  },
  {
   "cell_type": "code",
   "execution_count": 63,
   "id": "69f6ac09-1bf0-4093-be48-a8ac731495c1",
   "metadata": {},
   "outputs": [
    {
     "data": {
      "text/plain": [
       "3853677.0"
      ]
     },
     "execution_count": 63,
     "metadata": {},
     "output_type": "execute_result"
    }
   ],
   "source": [
    "revenue = df_grouped['revenue'].sum()\n",
    "revenue"
   ]
  },
  {
   "cell_type": "markdown",
   "id": "23f7a9c8-05a7-4039-a92c-c34e597f671a",
   "metadata": {},
   "source": [
    "## Проверка гипотез"
   ]
  },
  {
   "cell_type": "markdown",
   "id": "98a1e7aa-4601-4084-84ec-541894284423",
   "metadata": {},
   "source": [
    "### Гипотеза 1. Пользователи с подпиской тратят больше времени на поездки, чем пользователи без подписки\n",
    "\n",
    "**Воспользуемся статистическим тестом, который в качестве нулевой гипотезы предполагает равенство средних значений времени, а в качестве альтернативной гипотезы предполагает, что среднее время у пользователей с подпиской больше чем у пользователей без подписки. Параметр variance зададим как False, поскольку, судя по распределениям времени на поездку в двух группах, дисперсия должна различаться, и размер выборок разный:**  "
   ]
  },
  {
   "cell_type": "code",
   "execution_count": 64,
   "id": "8f142e70-4faa-4db0-95b3-699ac44ae54c",
   "metadata": {},
   "outputs": [
    {
     "data": {
      "text/plain": [
       "5.675781377128977e-37"
      ]
     },
     "execution_count": 64,
     "metadata": {},
     "output_type": "execute_result"
    }
   ],
   "source": [
    "results_1 = st.ttest_ind(df_ultra['duration'],df_free['duration'], equal_var=False, alternative='greater')\n",
    "results_1.pvalue"
   ]
  },
  {
   "cell_type": "markdown",
   "id": "cf327937-db63-4160-a559-f8674c31cf02",
   "metadata": {},
   "source": [
    "**Получили очень низкое значение p-value, которое позволяет нам отвергнуть нулевую гипотезу в пользу альтернативной. Отсюда можем заключить, что пользователи с подпиской действительно тратят больше времени на поездки, чем пользователи без подписки. Это время отличается примерно на 1 минуту**"
   ]
  },
  {
   "cell_type": "markdown",
   "id": "6e104819-8e07-4ba5-b1aa-08f0a6e9d521",
   "metadata": {},
   "source": [
    "### Гипотеза 2. Расстояние, которое проезжают пользователи с подпиской за одну поездку не превышает 3130 метров."
   ]
  },
  {
   "cell_type": "markdown",
   "id": "c66b37a3-b4ad-4bd6-bbc3-9796787093cc",
   "metadata": {},
   "source": [
    "**Применим одновыборочный t-тест с альтернативной гипотезой о том, что среднее расстояние за поездку больше чем 3130:**"
   ]
  },
  {
   "cell_type": "code",
   "execution_count": 65,
   "id": "ab90e72f-28ee-4ad9-b5f3-6b89b57921e8",
   "metadata": {},
   "outputs": [
    {
     "data": {
      "text/plain": [
       "0.9195368847849785"
      ]
     },
     "execution_count": 65,
     "metadata": {},
     "output_type": "execute_result"
    }
   ],
   "source": [
    "results_2 = st.ttest_1samp(df_ultra['distance'], 3130, alternative='greater')\n",
    "results_2.pvalue"
   ]
  },
  {
   "cell_type": "markdown",
   "id": "90c44f8e-a519-4552-a127-1c8400519c35",
   "metadata": {},
   "source": [
    "**Получили p-value ~0.92. Т.е. мы принимаем нулевую гипотезу, что расстояние, которое проезжают самокаты за одну поездку не отличается от оптимального**"
   ]
  },
  {
   "cell_type": "markdown",
   "id": "3172eeba-3f8b-49bd-a6b0-9d7d763e7492",
   "metadata": {},
   "source": [
    "### Гипотеза 3. Помесячная выручка от пользователей с подпиской по месяцам выше, чем выручка от пользователей без подписки. "
   ]
  },
  {
   "cell_type": "markdown",
   "id": "e6bc4b6a-406b-4ec9-853b-18fa557881d5",
   "metadata": {},
   "source": [
    "**Эта гипотеза состоит из множества подгипотез о том, что в конкретный месяц года выручка от пользователей с подпиской больше чем от пользователей без подписки. Проверять эти подгипотезы будем, используя t-тест для независимых выборок. Поскольку размеры выборок разлмчаются, зададим параметр equal_var = False:**"
   ]
  },
  {
   "cell_type": "markdown",
   "id": "a52a6ef6-edd0-4b4f-aa04-3ae104eaac54",
   "metadata": {},
   "source": [
    "**Нулевая гипотеза - в данном месяце выручка от пользователей с подпиской и без подписки не различается.** \n",
    "\n",
    "**Альтернативная гипотеза - в данном месяце выручка от пользователей с подпиской больше, чем от пользователей без подписки**"
   ]
  },
  {
   "cell_type": "code",
   "execution_count": 66,
   "id": "175b9bd6-feac-4eb5-8b90-064beff37d68",
   "metadata": {},
   "outputs": [
    {
     "name": "stdout",
     "output_type": "stream",
     "text": [
      "В 1 месяц года выручка от пользователей с подпиской достоверно БОЛЬШЕ, чем от пользователей без подписки. P=3.4489806571135315e-08\n",
      "В 2 месяц года выручка от пользователей с подпиской достоверно БОЛЬШЕ, чем от пользователей без подписки. P=3.3279338263868713e-06\n",
      "В 3 месяц года выручка от пользователей с подпиской достоверно БОЛЬШЕ, чем от пользователей без подписки. P=0.0029869416768279473\n",
      "В 4 месяц года выручка от пользователей с подпиской достоверно БОЛЬШЕ, чем от пользователей без подписки. P=9.965487512646642e-05\n",
      "В 5 месяц года выручка от пользователей с подпиской достоверно БОЛЬШЕ, чем от пользователей без подписки. P=1.6862422270517686e-06\n",
      "В 6 месяц года выручка от пользователей с подпиской достоверно БОЛЬШЕ, чем от пользователей без подписки. P=8.143231568748623e-06\n",
      "В 7 месяц года выручка от пользователей с подпиской достоверно БОЛЬШЕ, чем от пользователей без подписки. P=5.220158041297512e-06\n",
      "В 8 месяц года выручка от пользователей с подпиской достоверно БОЛЬШЕ, чем от пользователей без подписки. P=0.00021447731392563955\n",
      "В 9 месяц года выручка от пользователей с подпиской достоверно БОЛЬШЕ, чем от пользователей без подписки. P=0.000202913330656672\n",
      "В 10 месяц года выручка от пользователей с подпиской достоверно БОЛЬШЕ, чем от пользователей без подписки. P=0.0002479300655724822\n",
      "В 11 месяц года выручка от пользователей с подпиской достоверно БОЛЬШЕ, чем от пользователей без подписки. P=6.307408578223002e-06\n",
      "В 12 месяц года выручка от пользователей с подпиской достоверно БОЛЬШЕ, чем от пользователей без подписки. P=8.61468355301028e-05\n"
     ]
    }
   ],
   "source": [
    "for i in range(1,13): # перебираем все месяцы года от 1 до 12\n",
    "    first = df_grouped.query('month == @i and subscription_type == \"ultra\"') # формируем выборку за месяц из пользователей с подпиской\n",
    "    second = df_grouped.query('month == @i and subscription_type == \"free\"') # формируем выборку за месяц из пользователей с без подписки\n",
    "    results = st.ttest_ind(first['revenue'], second['revenue'], equal_var = False, alternative = 'greater') #t-тест\n",
    "    if results.pvalue < 0.05:\n",
    "        print(f'В {i} месяц года выручка от пользователей с подпиской достоверно БОЛЬШЕ, чем от пользователей без подписки. P={results.pvalue}')\n",
    "    else:\n",
    "        print(f'В {i} месяц года выручка от пользователей с подпиской НЕ ОТЛИЧАЕТСЯ от выручки от пользователей без подписки. P={results.pvalue}')"
   ]
  },
  {
   "cell_type": "markdown",
   "id": "7bf26170-474d-4a5f-ac82-1314dd3356d8",
   "metadata": {},
   "source": [
    "**Создадим таблицу со средними значениями выручки для клиентов без подписки и с подпиской по месяцам:**"
   ]
  },
  {
   "cell_type": "code",
   "execution_count": 67,
   "id": "b28a8b87-b739-40fc-9f92-e9bb65630246",
   "metadata": {},
   "outputs": [],
   "source": [
    "revenue_month = df_grouped.pivot_table(index='month',columns = 'subscription_type',values = 'revenue', aggfunc='mean')"
   ]
  },
  {
   "cell_type": "code",
   "execution_count": 68,
   "id": "102dd372-e781-42d1-9c52-9227f025d763",
   "metadata": {},
   "outputs": [
    {
     "data": {
      "text/html": [
       "<div>\n",
       "<style scoped>\n",
       "    .dataframe tbody tr th:only-of-type {\n",
       "        vertical-align: middle;\n",
       "    }\n",
       "\n",
       "    .dataframe tbody tr th {\n",
       "        vertical-align: top;\n",
       "    }\n",
       "\n",
       "    .dataframe thead th {\n",
       "        text-align: right;\n",
       "    }\n",
       "</style>\n",
       "<table border=\"1\" class=\"dataframe\">\n",
       "  <thead>\n",
       "    <tr style=\"text-align: right;\">\n",
       "      <th>subscription_type</th>\n",
       "      <th>free</th>\n",
       "      <th>ultra</th>\n",
       "    </tr>\n",
       "    <tr>\n",
       "      <th>month</th>\n",
       "      <th></th>\n",
       "      <th></th>\n",
       "    </tr>\n",
       "  </thead>\n",
       "  <tbody>\n",
       "    <tr>\n",
       "      <th>1</th>\n",
       "      <td>320.603333</td>\n",
       "      <td>367.953846</td>\n",
       "    </tr>\n",
       "    <tr>\n",
       "      <th>2</th>\n",
       "      <td>310.971645</td>\n",
       "      <td>351.033898</td>\n",
       "    </tr>\n",
       "    <tr>\n",
       "      <th>3</th>\n",
       "      <td>333.881295</td>\n",
       "      <td>358.772727</td>\n",
       "    </tr>\n",
       "    <tr>\n",
       "      <th>4</th>\n",
       "      <td>332.611212</td>\n",
       "      <td>365.844920</td>\n",
       "    </tr>\n",
       "    <tr>\n",
       "      <th>5</th>\n",
       "      <td>325.190227</td>\n",
       "      <td>367.029630</td>\n",
       "    </tr>\n",
       "    <tr>\n",
       "      <th>6</th>\n",
       "      <td>323.409168</td>\n",
       "      <td>360.155779</td>\n",
       "    </tr>\n",
       "    <tr>\n",
       "      <th>7</th>\n",
       "      <td>326.615658</td>\n",
       "      <td>366.400000</td>\n",
       "    </tr>\n",
       "    <tr>\n",
       "      <th>8</th>\n",
       "      <td>328.148673</td>\n",
       "      <td>359.625000</td>\n",
       "    </tr>\n",
       "    <tr>\n",
       "      <th>9</th>\n",
       "      <td>332.928943</td>\n",
       "      <td>362.994366</td>\n",
       "    </tr>\n",
       "    <tr>\n",
       "      <th>10</th>\n",
       "      <td>327.380692</td>\n",
       "      <td>358.725806</td>\n",
       "    </tr>\n",
       "    <tr>\n",
       "      <th>11</th>\n",
       "      <td>320.007207</td>\n",
       "      <td>356.203390</td>\n",
       "    </tr>\n",
       "    <tr>\n",
       "      <th>12</th>\n",
       "      <td>327.833898</td>\n",
       "      <td>361.614958</td>\n",
       "    </tr>\n",
       "  </tbody>\n",
       "</table>\n",
       "</div>"
      ],
      "text/plain": [
       "subscription_type        free       ultra\n",
       "month                                    \n",
       "1                  320.603333  367.953846\n",
       "2                  310.971645  351.033898\n",
       "3                  333.881295  358.772727\n",
       "4                  332.611212  365.844920\n",
       "5                  325.190227  367.029630\n",
       "6                  323.409168  360.155779\n",
       "7                  326.615658  366.400000\n",
       "8                  328.148673  359.625000\n",
       "9                  332.928943  362.994366\n",
       "10                 327.380692  358.725806\n",
       "11                 320.007207  356.203390\n",
       "12                 327.833898  361.614958"
      ]
     },
     "execution_count": 68,
     "metadata": {},
     "output_type": "execute_result"
    }
   ],
   "source": [
    "revenue_month"
   ]
  },
  {
   "cell_type": "code",
   "execution_count": 69,
   "id": "ff0caff4-485d-4e52-a1c9-a2f27ff9b997",
   "metadata": {},
   "outputs": [
    {
     "data": {
      "image/png": "[encoded data removed]",
      "text/plain": [
       "<Figure size 864x432 with 1 Axes>"
      ]
     },
     "metadata": {
      "needs_background": "light"
     },
     "output_type": "display_data"
    }
   ],
   "source": [
    "revenue_month.plot(kind='bar', figsize=(12,6), )\n",
    "plt.title(label='Помесячная выручка, приходящаяся на одного пользователя\\n с подпиской ultra и без подписки', loc='center', fontsize=16, fontweight='regular', pad=20)\n",
    "plt.ylabel('Выручка, руб', fontsize=15)\n",
    "plt.xlabel('Месяц', fontsize=15)\n",
    "plt.xticks(rotation=0, fontsize=14)\n",
    "plt.yticks(fontsize=14)\n",
    "plt.legend(loc='best')\n",
    "plt.show()"
   ]
  },
  {
   "cell_type": "markdown",
   "id": "8579d50b-bc81-4fb8-a6d7-b8423113d0ec",
   "metadata": {},
   "source": [
    "**Статистический тест и график показывают, что в действительности помесячная выручка от пользователей с подпиской выше, чем от пользователей без подписки. Рассчитаем среднюю разницу в выручке от клиентов с подписко и без нее:**"
   ]
  },
  {
   "cell_type": "code",
   "execution_count": 70,
   "id": "d3aca9fe-8adc-426a-a7ec-3afadd604166",
   "metadata": {},
   "outputs": [
    {
     "data": {
      "text/plain": [
       "35.56436417603317"
      ]
     },
     "execution_count": 70,
     "metadata": {},
     "output_type": "execute_result"
    }
   ],
   "source": [
    "(revenue_month['ultra']-revenue_month['free']).mean()"
   ]
  },
  {
   "cell_type": "markdown",
   "id": "3f2b865a-0daf-441c-b179-bfb5b7addf3f",
   "metadata": {},
   "source": [
    "## Расчет минимального необходимого числа промокодов и вероятности открытия push-уведомлений"
   ]
  },
  {
   "cell_type": "markdown",
   "id": "fc92d938-c5cb-44f3-8c37-238c1d0cc38f",
   "metadata": {},
   "source": [
    "### Сколько промокодов на бесплатный месяц подписки нужно раздать, чтобы с вероятностью 95% или больше как минимум 100 человек продлили бы эту подписку?\n",
    "\n",
    "**Отделу маркетинга поставили задачу: нужно провести акцию с раздачей промокодов на один бесплатный месяц подписки, в рамках которой как минимум 100 существующих клиентов должны продлить эту подписку. То есть по завершении периода действия подписки пользователь может либо отказаться от неё, либо продлить, совершив соответствующий платёж. Эта акция уже проводилась ранее и по итогу выяснилось, что после бесплатного пробного периода подписку продлевают 10 % пользователей. Необходимо выяснить, какое минимальное количество промокодов нужно разослать, чтобы вероятность не выполнить план была примерно 5 %**"
   ]
  },
  {
   "cell_type": "markdown",
   "id": "2ce31771-efcc-4c66-852b-332e6547d92b",
   "metadata": {},
   "source": [
    "**В данном случае выдача промокода является экспериментом Бернулли в результате которого с вероятностью 10% произойдет успех, т.е. пользователь продлит подписку, а с вероятностью 90% - неудача (пользователь не станет продлевать подписку). Результат множества таких экспериментов описывается биномиальным распределением. Нам нужно найти такое число промокодов (n) раздача которого приведет к тому, что вероятность подписаться для 99 и менее пользователей будет не более 5%. Для начала попробуем вычислить вероятность такого события, если раздадим 1000 промокодов:** "
   ]
  },
  {
   "cell_type": "code",
   "execution_count": 71,
   "id": "71b52653-b21f-4c66-82bc-ca47fe5568e1",
   "metadata": {},
   "outputs": [
    {
     "data": {
      "text/plain": [
       "0.4845822904340791"
      ]
     },
     "execution_count": 71,
     "metadata": {},
     "output_type": "execute_result"
    }
   ],
   "source": [
    "p = 0.1 # вероятность продления подписки\n",
    "n = 1000 # число промокодов\n",
    "\n",
    "distr = binom(n,p) #задаем биномиальное распределение с параметрами n и p\n",
    "\n",
    "distr.cdf(99) # вычисляем вероятность, что подпишутся менее 100 человек"
   ]
  },
  {
   "cell_type": "markdown",
   "id": "cbbfd031-ef2c-4e64-bc57-04912aef5b58",
   "metadata": {},
   "source": [
    "**Вероятность больше 48%. Не подходит. Попробуем увеличить n до 1200:**"
   ]
  },
  {
   "cell_type": "code",
   "execution_count": 72,
   "id": "40a541c1-e1f2-4411-bc14-398660c61686",
   "metadata": {},
   "outputs": [
    {
     "data": {
      "text/plain": [
       "0.022042798349797568"
      ]
     },
     "execution_count": 72,
     "metadata": {},
     "output_type": "execute_result"
    }
   ],
   "source": [
    "p = 0.1 # вероятность продления подписки\n",
    "n = 1200 # число промокодов\n",
    "\n",
    "distr = binom(n,p) #задаем биномиальное распределение с параметрами n и p\n",
    "\n",
    "distr.cdf(99)"
   ]
  },
  {
   "cell_type": "markdown",
   "id": "ac0d7ffb-0d32-4046-a2bb-11f25db171c8",
   "metadata": {},
   "source": [
    "**При увеличении числа промокодов с 1000 до 1200, вероятность того, что подпишутся менее 100 человек снизилась до 2%. Методом подбора находим число промокодов такое, чтобы эта вероятность была чуть меньше 5%:**"
   ]
  },
  {
   "cell_type": "code",
   "execution_count": 73,
   "id": "3f93efb8-41d0-493f-b8d4-d3b0412eb5c9",
   "metadata": {},
   "outputs": [
    {
     "data": {
      "text/plain": [
       "0.04976090094990249"
      ]
     },
     "execution_count": 73,
     "metadata": {},
     "output_type": "execute_result"
    }
   ],
   "source": [
    "p = 0.1 # вероятность продления подписки\n",
    "n = 1161 # число промокодов\n",
    "\n",
    "distr = binom(n,p) #задаем биномиальное распределение с параметрами n и p\n",
    "\n",
    "distr.cdf(99)"
   ]
  },
  {
   "cell_type": "markdown",
   "id": "bd144d4b-079b-42dd-b454-eaa81ad661d7",
   "metadata": {},
   "source": [
    "**Таким образом, чтобы с вероятностью 95% продлили подписку не менее 100 человек, нужно раздать не менее чем 1161 промокод.**"
   ]
  },
  {
   "cell_type": "markdown",
   "id": "482bff60-7a5c-4f09-9917-add09b4ae0b9",
   "metadata": {},
   "source": [
    "### Оценить вероятность того, что из 1 млн разосланных push-уведомлений будет открыто не более 399,5 тыс. уведомлений\n",
    "\n",
    "**Отдел маркетинга рассылает клиентам push-уведомления в мобильном приложении. Клиенты могут открыть его или не открывать. Известно, что уведомления открывают около 40 % получивших клиентов. Отдел планирует разослать 1 млн уведомлений. С помощью аппроксимации постройте примерный график распределения и оцените вероятность того, что уведомление откроют не более 399,5 тыс. пользователей**"
   ]
  },
  {
   "cell_type": "markdown",
   "id": "1d31ff6e-5a76-4d43-a60f-651f27dee6b5",
   "metadata": {},
   "source": [
    "**Чтобы решить эту задачу выполним аппроксимацию биномиального распределения нормальным. Это допустимо, поскольку число уведомлений (т.е.число независимых испытаний Бернулли) очень велико, а вероятность открыть push-уведомление достаточно близка к 50%.** "
   ]
  },
  {
   "cell_type": "code",
   "execution_count": 74,
   "id": "ab83b4fb-65d1-407b-ad83-3a764d61a5d2",
   "metadata": {},
   "outputs": [
    {
     "data": {
      "text/plain": [
       "0.15371708296369768"
      ]
     },
     "execution_count": 74,
     "metadata": {},
     "output_type": "execute_result"
    }
   ],
   "source": [
    "n = 1000000 # количество уведомлений \n",
    "p = 0.4 #еероятность, что уведомление будет открыто\n",
    "\n",
    "# Вычислим математическое ожидание и стандартное отклонение для нашего биномиального распределения\n",
    "\n",
    "mu = n*p\n",
    "sigma = sqrt(n*p*(1-p))\n",
    "\n",
    "# Зададим нормальное распределение с такими же параметрами:\n",
    "\n",
    "distr = st.norm(mu,sigma)\n",
    "\n",
    "# Вычислим вероятность, что уведомление откроют не более 399.5 тыс пользователей:\n",
    "\n",
    "distr.cdf(399500)"
   ]
  },
  {
   "cell_type": "markdown",
   "id": "7de46660-b642-4009-89d9-8c01e5e9d006",
   "metadata": {},
   "source": [
    "**Вероятность того, что push-уведомления откроют не более 399.5 тыс пользователей составляет ~ 15.4%**"
   ]
  },
  {
   "cell_type": "markdown",
   "id": "534b2e34-1d28-46a5-a92b-c6474b46b79a",
   "metadata": {},
   "source": [
    "## Вывод"
   ]
  },
  {
   "cell_type": "markdown",
   "id": "851b597e-22df-40cd-80a9-1695575fd9f4",
   "metadata": {},
   "source": [
    "**В проекте выполнен анализ данных, предоставленных сервисом проката самокатов и проверен ряд гипотез, которые могут помочь компании достичь более высоких показателей.**\n",
    "\n",
    "**Проанализированный датасет включает данные о более чем 18 тыс поездок около 1.5 тыс клиентов из 8-ми городов. Доли клиентов в этих городах распределены относительно равномерно: от 11 до 14 %.**\n"
   ]
  },
  {
   "cell_type": "code",
   "execution_count": 75,
   "id": "b29a48ae-72c0-4fe7-891c-830bcda817f7",
   "metadata": {
    "tags": []
   },
   "outputs": [
    {
     "data": {
      "image/png": "[encoded data removed]",
      "text/plain": [
       "<Figure size 720x432 with 1 Axes>"
      ]
     },
     "metadata": {
      "needs_background": "light"
     },
     "output_type": "display_data"
    }
   ],
   "source": [
    "city_pivot.plot(y='number_of_users', kind='bar', color='lightsalmon', legend=None, figsize=(10,6))\n",
    "plt.title(label='Частота встречаемости городов в предоставленной выборке', loc='center', fontsize=16, fontweight='regular', pad=20)\n",
    "plt.ylabel('Частота', fontsize=15)\n",
    "plt.xlabel('Город', fontsize=15)\n",
    "plt.xticks(rotation=45, fontsize=14)\n",
    "plt.yticks(fontsize=14)\n",
    "plt.show()"
   ]
  },
  {
   "cell_type": "markdown",
   "id": "68d99d81-b91d-4822-a858-ea950b33364a",
   "metadata": {},
   "source": [
    "- **54.4% клиентов пользуются сервисом без подписки. 45.6 % оформили подписку ultra.**"
   ]
  },
  {
   "cell_type": "code",
   "execution_count": 76,
   "id": "8c128457-3aab-497f-b194-1dfdfa2785b2",
   "metadata": {},
   "outputs": [
    {
     "data": {
      "image/png": "[encoded data removed]",
      "text/plain": [
       "<Figure size 432x288 with 1 Axes>"
      ]
     },
     "metadata": {},
     "output_type": "display_data"
    }
   ],
   "source": [
    "plt.pie(subscription_pivot['users_share'], labels=subscription_pivot.index, autopct='%1.1f%%', radius=2.0, pctdistance=0.5, labeldistance=1.1, textprops={'fontsize': 22}, startangle = 83)\n",
    "plt.show()"
   ]
  },
  {
   "cell_type": "markdown",
   "id": "9b7b04c6-9a80-44b1-aee7-02ea26133dc4",
   "metadata": {},
   "source": [
    "- **У сервиса достаточно молодая аудитория. Средний возраст пользователей составляет 25 лет, самому молодому клиенту в выборке - 12 лет, а самому старшему 43 года**"
   ]
  },
  {
   "cell_type": "code",
   "execution_count": 77,
   "id": "477e8735-7462-468b-b0dd-6a11f4033548",
   "metadata": {
    "jupyter": {
     "source_hidden": true
    },
    "tags": []
   },
   "outputs": [
    {
     "data": {
      "image/png": "[encoded data removed]",
      "text/plain": [
       "<Figure size 576x432 with 1 Axes>"
      ]
     },
     "metadata": {
      "needs_background": "light"
     },
     "output_type": "display_data"
    }
   ],
   "source": [
    "users['age'].hist(bins=31, range=(12,43), figsize=(8,6))\n",
    "plt.xlabel('Возраст пользователей, лет', fontsize=15)\n",
    "plt.ylabel('Чиcло пользователей', fontsize=15)\n",
    "plt.title('Распределение пользователей GoFast по возрастам', fontsize=16)\n",
    "plt.show()"
   ]
  },
  {
   "cell_type": "markdown",
   "id": "9c3e9e73-4e99-4010-b378-49725fd45e72",
   "metadata": {},
   "source": [
    "- **В среднем за одну поездку пользователи преодолевают расстояние 3070 метров, при этом время такой поездки составляет около 18 минут**"
   ]
  },
  {
   "cell_type": "markdown",
   "id": "4822caa6-f5d4-4c10-b400-1f6f1cea6501",
   "metadata": {},
   "source": [
    "- **Среднее время поездки у пользователей без подписки (17.4 минуты) меньше, чем у подписчиков (18.5 минут). Разница около 5%, но она достоверна.**"
   ]
  },
  {
   "cell_type": "markdown",
   "id": "51d6172a-c29f-4fc6-9f97-67401f383f33",
   "metadata": {},
   "source": [
    "- **Для пользователей с подпиской ultra среднее расстояние на одну поездку достоверно не отличается от оптимального расстояния в 3130 м**"
   ]
  },
  {
   "cell_type": "markdown",
   "id": "4d2738b4-7c12-4ef8-8e2b-f83e6b3299a0",
   "metadata": {},
   "source": [
    "- **Помесячная выручка от пользователей с подпиской достоверно выше, чем выручка от пользователей без подписки. В среднем пользователь с подпиской каждый месяц приносит компании на 35.6 рублей больше, чем пользователь без подписки**"
   ]
  },
  {
   "cell_type": "code",
   "execution_count": 78,
   "id": "791fadb9-c27a-4f2f-b7fb-743f3bab6e3b",
   "metadata": {
    "jupyter": {
     "source_hidden": true
    },
    "tags": []
   },
   "outputs": [
    {
     "data": {
      "image/png": "[encoded data removed]",
      "text/plain": [
       "<Figure size 864x432 with 1 Axes>"
      ]
     },
     "metadata": {
      "needs_background": "light"
     },
     "output_type": "display_data"
    }
   ],
   "source": [
    "revenue_month.plot(kind='bar', figsize=(12,6), )\n",
    "plt.title(label='Помесячная выручка, приходящаяся на одного пользователя\\n с подпиской ultra и без подписки', loc='center', fontsize=16, fontweight='regular', pad=20)\n",
    "plt.ylabel('Выручка, руб', fontsize=15)\n",
    "plt.xlabel('Месяц', fontsize=15)\n",
    "plt.xticks(rotation=0, fontsize=14)\n",
    "plt.yticks(fontsize=14)\n",
    "plt.legend(loc='best')\n",
    "plt.show()"
   ]
  },
  {
   "cell_type": "markdown",
   "id": "9be7182a-b72d-4025-8b33-12952315b19a",
   "metadata": {},
   "source": [
    "- **Для того, чтобы не менее 100 человек продлили ultra подписку после получения промокода, компании необходимо раздать не менее чем 1161 промокод (при вероятности продления подписки 10%)** "
   ]
  },
  {
   "cell_type": "markdown",
   "id": "744f8c23-85d8-4078-be09-827f229bdb13",
   "metadata": {},
   "source": [
    "- **При рассылке 1 млн push-уведомлений и вероятности открытия уведомления 40%, вероятность того, что будет открыто не более 399.5 тыс уведомлений составляет ~15.4%**"
   ]
  }
 ],
 "metadata": {
  "ExecuteTimeLog": [
   {
    "duration": 1152,
    "start_time": "2023-08-18T10:52:29.272Z"
   },
   {
    "duration": 89,
    "start_time": "2023-08-18T10:52:30.426Z"
   },
   {
    "duration": 15,
    "start_time": "2023-08-18T10:52:30.517Z"
   },
   {
    "duration": 216,
    "start_time": "2023-08-18T10:52:30.534Z"
   },
   {
    "duration": 13,
    "start_time": "2023-08-18T10:52:30.752Z"
   },
   {
    "duration": 104,
    "start_time": "2023-08-18T10:52:30.767Z"
   },
   {
    "duration": 31,
    "start_time": "2023-08-18T10:52:30.873Z"
   },
   {
    "duration": 49,
    "start_time": "2023-08-18T10:52:30.906Z"
   },
   {
    "duration": 38,
    "start_time": "2023-08-18T10:52:30.956Z"
   },
   {
    "duration": 32,
    "start_time": "2023-08-18T10:52:30.996Z"
   },
   {
    "duration": 35,
    "start_time": "2023-08-18T10:52:31.030Z"
   },
   {
    "duration": 47,
    "start_time": "2023-08-18T10:52:31.067Z"
   },
   {
    "duration": 24,
    "start_time": "2023-08-18T10:52:31.116Z"
   },
   {
    "duration": 23,
    "start_time": "2023-08-18T10:52:31.141Z"
   },
   {
    "duration": 62,
    "start_time": "2023-08-18T10:52:31.165Z"
   },
   {
    "duration": 31,
    "start_time": "2023-08-18T10:52:31.229Z"
   },
   {
    "duration": 75,
    "start_time": "2023-08-18T10:52:31.261Z"
   },
   {
    "duration": 23,
    "start_time": "2023-08-18T10:52:31.338Z"
   },
   {
    "duration": 22,
    "start_time": "2023-08-18T10:52:31.363Z"
   },
   {
    "duration": 24,
    "start_time": "2023-08-18T10:52:31.387Z"
   },
   {
    "duration": 10,
    "start_time": "2023-08-18T10:52:31.412Z"
   },
   {
    "duration": 52,
    "start_time": "2023-08-18T10:52:31.424Z"
   },
   {
    "duration": 22,
    "start_time": "2023-08-18T10:52:31.478Z"
   },
   {
    "duration": 34,
    "start_time": "2023-08-18T10:52:31.501Z"
   },
   {
    "duration": 32,
    "start_time": "2023-08-18T10:52:31.537Z"
   },
   {
    "duration": 24,
    "start_time": "2023-08-18T10:52:31.571Z"
   },
   {
    "duration": 213,
    "start_time": "2023-08-18T10:52:31.597Z"
   },
   {
    "duration": 13,
    "start_time": "2023-08-18T10:52:31.814Z"
   },
   {
    "duration": 22,
    "start_time": "2023-08-18T10:52:31.829Z"
   },
   {
    "duration": 158,
    "start_time": "2023-08-18T10:52:31.857Z"
   },
   {
    "duration": 9,
    "start_time": "2023-08-18T10:52:32.018Z"
   },
   {
    "duration": 193,
    "start_time": "2023-08-18T10:52:32.029Z"
   },
   {
    "duration": 10,
    "start_time": "2023-08-18T10:52:32.224Z"
   },
   {
    "duration": 310,
    "start_time": "2023-08-18T10:52:32.235Z"
   },
   {
    "duration": 15,
    "start_time": "2023-08-18T10:52:32.547Z"
   },
   {
    "duration": 221,
    "start_time": "2023-08-18T10:52:32.565Z"
   },
   {
    "duration": 3,
    "start_time": "2023-08-18T10:52:32.788Z"
   },
   {
    "duration": 72,
    "start_time": "2023-08-18T10:52:32.792Z"
   },
   {
    "duration": 26,
    "start_time": "2023-08-18T10:52:32.866Z"
   },
   {
    "duration": 10,
    "start_time": "2023-08-18T10:52:32.894Z"
   },
   {
    "duration": 24,
    "start_time": "2023-08-18T10:52:32.906Z"
   },
   {
    "duration": 28,
    "start_time": "2023-08-18T10:52:32.933Z"
   },
   {
    "duration": 12,
    "start_time": "2023-08-18T10:52:32.963Z"
   },
   {
    "duration": 13,
    "start_time": "2023-08-18T10:52:32.976Z"
   },
   {
    "duration": 12,
    "start_time": "2023-08-18T10:52:32.991Z"
   },
   {
    "duration": 7,
    "start_time": "2023-08-18T10:52:33.005Z"
   },
   {
    "duration": 14,
    "start_time": "2023-08-18T10:52:33.013Z"
   },
   {
    "duration": 13,
    "start_time": "2023-08-18T10:52:33.056Z"
   },
   {
    "duration": 14,
    "start_time": "2023-08-18T10:52:33.070Z"
   },
   {
    "duration": 7,
    "start_time": "2023-08-18T10:52:33.086Z"
   },
   {
    "duration": 312,
    "start_time": "2023-08-18T10:52:33.095Z"
   },
   {
    "duration": 377,
    "start_time": "2023-08-18T10:52:33.409Z"
   },
   {
    "duration": 9,
    "start_time": "2023-08-18T10:52:33.788Z"
   },
   {
    "duration": 9,
    "start_time": "2023-08-18T10:52:33.798Z"
   },
   {
    "duration": 232,
    "start_time": "2023-08-18T10:52:33.808Z"
   },
   {
    "duration": 214,
    "start_time": "2023-08-18T10:52:34.042Z"
   },
   {
    "duration": 17,
    "start_time": "2023-08-18T10:52:34.259Z"
   },
   {
    "duration": 21,
    "start_time": "2023-08-18T10:52:34.278Z"
   },
   {
    "duration": 4,
    "start_time": "2023-08-18T10:52:34.301Z"
   },
   {
    "duration": 5,
    "start_time": "2023-08-18T10:52:34.306Z"
   },
   {
    "duration": 163,
    "start_time": "2023-08-18T10:52:34.312Z"
   },
   {
    "duration": 5,
    "start_time": "2023-08-18T10:52:34.477Z"
   },
   {
    "duration": 10,
    "start_time": "2023-08-18T10:52:34.483Z"
   },
   {
    "duration": 6,
    "start_time": "2023-08-18T10:52:34.495Z"
   },
   {
    "duration": 103,
    "start_time": "2023-08-18T10:52:34.503Z"
   },
   {
    "duration": 13,
    "start_time": "2023-08-18T10:52:34.608Z"
   },
   {
    "duration": 8,
    "start_time": "2023-08-18T10:52:34.623Z"
   },
   {
    "duration": 266,
    "start_time": "2023-08-18T10:52:34.656Z"
   },
   {
    "duration": 5,
    "start_time": "2023-08-18T10:52:34.923Z"
   },
   {
    "duration": 23,
    "start_time": "2023-08-18T10:52:34.930Z"
   },
   {
    "duration": 22,
    "start_time": "2023-08-18T10:52:34.955Z"
   },
   {
    "duration": 12,
    "start_time": "2023-08-18T10:52:34.979Z"
   },
   {
    "duration": 44,
    "start_time": "2023-08-18T10:52:34.993Z"
   },
   {
    "duration": 210,
    "start_time": "2023-08-18T10:52:35.039Z"
   },
   {
    "duration": 154,
    "start_time": "2023-08-18T10:52:35.251Z"
   },
   {
    "duration": 210,
    "start_time": "2023-08-18T10:52:35.406Z"
   },
   {
    "duration": 260,
    "start_time": "2023-08-18T10:52:35.618Z"
   },
   {
    "duration": 1064,
    "start_time": "2023-08-18T18:01:11.338Z"
   },
   {
    "duration": 85,
    "start_time": "2023-08-18T18:01:12.404Z"
   },
   {
    "duration": 12,
    "start_time": "2023-08-18T18:01:12.491Z"
   },
   {
    "duration": 74,
    "start_time": "2023-08-18T18:01:12.505Z"
   },
   {
    "duration": 12,
    "start_time": "2023-08-18T18:01:12.581Z"
   },
   {
    "duration": 58,
    "start_time": "2023-08-18T18:01:12.595Z"
   },
   {
    "duration": 10,
    "start_time": "2023-08-18T18:01:12.655Z"
   },
   {
    "duration": 12,
    "start_time": "2023-08-18T18:01:12.667Z"
   },
   {
    "duration": 8,
    "start_time": "2023-08-18T18:01:12.680Z"
   },
   {
    "duration": 8,
    "start_time": "2023-08-18T18:01:12.691Z"
   },
   {
    "duration": 5,
    "start_time": "2023-08-18T18:01:12.700Z"
   },
   {
    "duration": 51,
    "start_time": "2023-08-18T18:01:12.707Z"
   },
   {
    "duration": 8,
    "start_time": "2023-08-18T18:01:12.759Z"
   },
   {
    "duration": 15,
    "start_time": "2023-08-18T18:01:12.768Z"
   },
   {
    "duration": 5,
    "start_time": "2023-08-18T18:01:12.784Z"
   },
   {
    "duration": 5,
    "start_time": "2023-08-18T18:01:12.790Z"
   },
   {
    "duration": 10,
    "start_time": "2023-08-18T18:01:12.797Z"
   },
   {
    "duration": 5,
    "start_time": "2023-08-18T18:01:12.808Z"
   },
   {
    "duration": 6,
    "start_time": "2023-08-18T18:01:12.852Z"
   },
   {
    "duration": 7,
    "start_time": "2023-08-18T18:01:12.860Z"
   },
   {
    "duration": 7,
    "start_time": "2023-08-18T18:01:12.868Z"
   },
   {
    "duration": 19,
    "start_time": "2023-08-18T18:01:12.876Z"
   },
   {
    "duration": 6,
    "start_time": "2023-08-18T18:01:12.897Z"
   },
   {
    "duration": 5,
    "start_time": "2023-08-18T18:01:12.904Z"
   },
   {
    "duration": 4,
    "start_time": "2023-08-18T18:01:12.911Z"
   },
   {
    "duration": 39,
    "start_time": "2023-08-18T18:01:12.917Z"
   },
   {
    "duration": 9,
    "start_time": "2023-08-18T18:01:12.957Z"
   },
   {
    "duration": 3,
    "start_time": "2023-08-18T18:01:12.969Z"
   },
   {
    "duration": 9,
    "start_time": "2023-08-18T18:01:12.974Z"
   },
   {
    "duration": 208,
    "start_time": "2023-08-18T18:01:12.985Z"
   },
   {
    "duration": 16,
    "start_time": "2023-08-18T18:01:13.195Z"
   },
   {
    "duration": 11,
    "start_time": "2023-08-18T18:01:13.214Z"
   },
   {
    "duration": 139,
    "start_time": "2023-08-18T18:01:13.227Z"
   },
   {
    "duration": 90,
    "start_time": "2023-08-18T18:01:13.367Z"
   },
   {
    "duration": 7,
    "start_time": "2023-08-18T18:01:13.458Z"
   },
   {
    "duration": 192,
    "start_time": "2023-08-18T18:01:13.468Z"
   },
   {
    "duration": 8,
    "start_time": "2023-08-18T18:01:13.662Z"
   },
   {
    "duration": 294,
    "start_time": "2023-08-18T18:01:13.671Z"
   },
   {
    "duration": 11,
    "start_time": "2023-08-18T18:01:13.967Z"
   },
   {
    "duration": 273,
    "start_time": "2023-08-18T18:01:13.979Z"
   },
   {
    "duration": 2,
    "start_time": "2023-08-18T18:01:14.254Z"
   },
   {
    "duration": 10,
    "start_time": "2023-08-18T18:01:14.258Z"
   },
   {
    "duration": 18,
    "start_time": "2023-08-18T18:01:14.270Z"
   },
   {
    "duration": 11,
    "start_time": "2023-08-18T18:01:14.291Z"
   },
   {
    "duration": 50,
    "start_time": "2023-08-18T18:01:14.303Z"
   },
   {
    "duration": 10,
    "start_time": "2023-08-18T18:01:14.355Z"
   },
   {
    "duration": 9,
    "start_time": "2023-08-18T18:01:14.367Z"
   },
   {
    "duration": 12,
    "start_time": "2023-08-18T18:01:14.378Z"
   },
   {
    "duration": 12,
    "start_time": "2023-08-18T18:01:14.391Z"
   },
   {
    "duration": 6,
    "start_time": "2023-08-18T18:01:14.404Z"
   },
   {
    "duration": 48,
    "start_time": "2023-08-18T18:01:14.411Z"
   },
   {
    "duration": 10,
    "start_time": "2023-08-18T18:01:14.461Z"
   },
   {
    "duration": 7,
    "start_time": "2023-08-18T18:01:14.473Z"
   },
   {
    "duration": 7,
    "start_time": "2023-08-18T18:01:14.481Z"
   },
   {
    "duration": 293,
    "start_time": "2023-08-18T18:01:14.489Z"
   },
   {
    "duration": 358,
    "start_time": "2023-08-18T18:01:14.783Z"
   },
   {
    "duration": 13,
    "start_time": "2023-08-18T18:01:15.142Z"
   },
   {
    "duration": 6,
    "start_time": "2023-08-18T18:01:15.157Z"
   },
   {
    "duration": 197,
    "start_time": "2023-08-18T18:01:15.165Z"
   },
   {
    "duration": 190,
    "start_time": "2023-08-18T18:01:15.364Z"
   },
   {
    "duration": 173,
    "start_time": "2023-08-18T18:01:15.556Z"
   },
   {
    "duration": 11,
    "start_time": "2023-08-18T18:01:15.731Z"
   },
   {
    "duration": 14,
    "start_time": "2023-08-18T18:01:15.751Z"
   },
   {
    "duration": 3,
    "start_time": "2023-08-18T18:01:15.767Z"
   },
   {
    "duration": 4,
    "start_time": "2023-08-18T18:01:15.771Z"
   },
   {
    "duration": 146,
    "start_time": "2023-08-18T18:01:15.777Z"
   },
   {
    "duration": 4,
    "start_time": "2023-08-18T18:01:15.924Z"
   },
   {
    "duration": 6,
    "start_time": "2023-08-18T18:01:15.930Z"
   },
   {
    "duration": 18,
    "start_time": "2023-08-18T18:01:15.937Z"
   },
   {
    "duration": 5,
    "start_time": "2023-08-18T18:01:15.956Z"
   },
   {
    "duration": 68,
    "start_time": "2023-08-18T18:01:15.963Z"
   },
   {
    "duration": 27,
    "start_time": "2023-08-18T18:01:16.033Z"
   },
   {
    "duration": 7,
    "start_time": "2023-08-18T18:01:16.061Z"
   },
   {
    "duration": 241,
    "start_time": "2023-08-18T18:01:16.070Z"
   },
   {
    "duration": 4,
    "start_time": "2023-08-18T18:01:16.313Z"
   },
   {
    "duration": 6,
    "start_time": "2023-08-18T18:01:16.319Z"
   },
   {
    "duration": 7,
    "start_time": "2023-08-18T18:01:16.327Z"
   },
   {
    "duration": 17,
    "start_time": "2023-08-18T18:01:16.336Z"
   },
   {
    "duration": 8,
    "start_time": "2023-08-18T18:01:16.354Z"
   },
   {
    "duration": 192,
    "start_time": "2023-08-18T18:01:16.363Z"
   },
   {
    "duration": 97,
    "start_time": "2023-08-18T18:01:16.556Z"
   },
   {
    "duration": 194,
    "start_time": "2023-08-18T18:01:16.658Z"
   },
   {
    "duration": 303,
    "start_time": "2023-08-18T18:01:16.853Z"
   }
  ],
  "kernelspec": {
   "display_name": "Python 3 (ipykernel)",
   "language": "python",
   "name": "python3"
  },
  "language_info": {
   "codemirror_mode": {
    "name": "ipython",
    "version": 3
   },
   "file_extension": ".py",
   "mimetype": "text/x-python",
   "name": "python",
   "nbconvert_exporter": "python",
   "pygments_lexer": "ipython3",
   "version": "3.9.5"
  },
  "toc": {
   "base_numbering": 1,
   "nav_menu": {},
   "number_sections": true,
   "sideBar": true,
   "skip_h1_title": true,
   "title_cell": "Table of Contents",
   "title_sidebar": "Contents",
   "toc_cell": false,
   "toc_position": {},
   "toc_section_display": true,
   "toc_window_display": false
  },
  "toc-autonumbering": true
 },
 "nbformat": 4,
 "nbformat_minor": 5
}
