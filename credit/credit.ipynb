{
 "cells": [
  {
   "cell_type": "markdown",
   "id": "386f2ae7",
   "metadata": {
    "deletable": true,
    "id": "386f2ae7",
    "tags": []
   },
   "source": [
    "# Проект: \"Исследование надежности заемщиков\"\n"
   ]
  },
  {
   "cell_type": "markdown",
   "id": "ffe86f65",
   "metadata": {
    "deletable": true,
    "id": "ffe86f65",
    "tags": []
   },
   "source": [
    "В проекте выполнена оценка надежности заемщиков по данным, предоставленным банком.\n",
    "\n",
    "В качестве характеристик заемщиков, которые могут оказывать влияние на возврат кредита в срок, исследованы:\n",
    "\n",
    "- количество детей у заемщика; \n",
    "- его семейное положение;\n",
    "- уровень ежемесячного дохода. \n",
    "\n",
    "Кроме того, проанализировано влияние цели кредита на его своевременный возврат. \n",
    "\n",
    "Полученные результаты предполагается использовать для построения модели кредитного скоринга, которая позволит оценить способность заёмщика вернуть кредит.\n",
    "\n",
    "**Расшифровка значения столбцов в датасете от банка:**\n",
    "\n",
    "`children` — количество детей в семье\n",
    "\n",
    "`days_employed` — общий трудовой стаж в днях\n",
    "\n",
    "`dob_years` — возраст клиента в годах\n",
    "\n",
    "`education` — уровень образования клиента\n",
    "\n",
    "`education_id` — идентификатор уровня образования\n",
    "\n",
    "`family_status` — семейное положение\n",
    "\n",
    "`family_status_id` — идентификатор семейного положения\n",
    "\n",
    "`gender` — пол клиента\n",
    "\n",
    "`income_type` — тип занятости\n",
    "\n",
    "`debt` — имел ли задолженность по возврату кредитов (1 - да, 0 - нет)\n",
    "\n",
    "`total_income` — ежемесячный доход\n",
    "\n",
    "`purpose` — цель получения кредита\n",
    "\n",
    "**План выполнения проекта:**\n",
    "\n",
    "1. Выполнить загрузку датасета из csv-файла и первичный просмотр информации о датасете.\n",
    "2. Выполнить предобработку данных: удалить пропуски, дубликаты, выполнить категоризацию заемщиков по уровню дохода.\n",
    "3. Проанализировать влияние индивидуальных характеристик заемщика и кредитной цели на возврат кредита в срок.\n",
    "4. Сделать общие выводы о влиянии изученных характеристик заемщиков на своевременный возврат кредита."
   ]
  },
  {
   "cell_type": "markdown",
   "id": "dc32ff3b-1787-45d7-acaf-8936cc64b80f",
   "metadata": {},
   "source": [
    "## Первичный просмотр предоставленных данных"
   ]
  },
  {
   "cell_type": "markdown",
   "id": "3c9f838e",
   "metadata": {
    "deletable": true,
    "id": "3c9f838e",
    "tags": []
   },
   "source": [
    "**Импортируем библиотеку pandas и считаем данные из csv-файла в датафрейм, сохранив его в переменную `data`:**"
   ]
  },
  {
   "cell_type": "code",
   "execution_count": 1,
   "id": "77a68a90",
   "metadata": {
    "deletable": false,
    "id": "77a68a90",
    "tags": []
   },
   "outputs": [],
   "source": [
    "import pandas as pd\n",
    "\n",
    "import warnings\n",
    "warnings.filterwarnings(\"ignore\")\n",
    "\n",
    "data = pd.read_csv('data.csv')"
   ]
  },
  {
   "cell_type": "markdown",
   "id": "45365635",
   "metadata": {
    "deletable": true,
    "id": "45365635",
    "tags": []
   },
   "source": [
    "**Выведем на экран первые 20 строчек датафрейма `data`.**"
   ]
  },
  {
   "cell_type": "code",
   "execution_count": 2,
   "id": "b0451a9a",
   "metadata": {
    "deletable": false,
    "id": "b0451a9a",
    "outputId": "1a8f3ef2-d323-4ec2-ddf7-89670b5944c4"
   },
   "outputs": [
    {
     "data": {
      "text/html": [
       "<div>\n",
       "<style scoped>\n",
       "    .dataframe tbody tr th:only-of-type {\n",
       "        vertical-align: middle;\n",
       "    }\n",
       "\n",
       "    .dataframe tbody tr th {\n",
       "        vertical-align: top;\n",
       "    }\n",
       "\n",
       "    .dataframe thead th {\n",
       "        text-align: right;\n",
       "    }\n",
       "</style>\n",
       "<table border=\"1\" class=\"dataframe\">\n",
       "  <thead>\n",
       "    <tr style=\"text-align: right;\">\n",
       "      <th></th>\n",
       "      <th>children</th>\n",
       "      <th>days_employed</th>\n",
       "      <th>dob_years</th>\n",
       "      <th>education</th>\n",
       "      <th>education_id</th>\n",
       "      <th>family_status</th>\n",
       "      <th>family_status_id</th>\n",
       "      <th>gender</th>\n",
       "      <th>income_type</th>\n",
       "      <th>debt</th>\n",
       "      <th>total_income</th>\n",
       "      <th>purpose</th>\n",
       "    </tr>\n",
       "  </thead>\n",
       "  <tbody>\n",
       "    <tr>\n",
       "      <th>0</th>\n",
       "      <td>1</td>\n",
       "      <td>-8437.673028</td>\n",
       "      <td>42</td>\n",
       "      <td>высшее</td>\n",
       "      <td>0</td>\n",
       "      <td>женат / замужем</td>\n",
       "      <td>0</td>\n",
       "      <td>F</td>\n",
       "      <td>сотрудник</td>\n",
       "      <td>0</td>\n",
       "      <td>253875.639453</td>\n",
       "      <td>покупка жилья</td>\n",
       "    </tr>\n",
       "    <tr>\n",
       "      <th>1</th>\n",
       "      <td>1</td>\n",
       "      <td>-4024.803754</td>\n",
       "      <td>36</td>\n",
       "      <td>среднее</td>\n",
       "      <td>1</td>\n",
       "      <td>женат / замужем</td>\n",
       "      <td>0</td>\n",
       "      <td>F</td>\n",
       "      <td>сотрудник</td>\n",
       "      <td>0</td>\n",
       "      <td>112080.014102</td>\n",
       "      <td>приобретение автомобиля</td>\n",
       "    </tr>\n",
       "    <tr>\n",
       "      <th>2</th>\n",
       "      <td>0</td>\n",
       "      <td>-5623.422610</td>\n",
       "      <td>33</td>\n",
       "      <td>Среднее</td>\n",
       "      <td>1</td>\n",
       "      <td>женат / замужем</td>\n",
       "      <td>0</td>\n",
       "      <td>M</td>\n",
       "      <td>сотрудник</td>\n",
       "      <td>0</td>\n",
       "      <td>145885.952297</td>\n",
       "      <td>покупка жилья</td>\n",
       "    </tr>\n",
       "    <tr>\n",
       "      <th>3</th>\n",
       "      <td>3</td>\n",
       "      <td>-4124.747207</td>\n",
       "      <td>32</td>\n",
       "      <td>среднее</td>\n",
       "      <td>1</td>\n",
       "      <td>женат / замужем</td>\n",
       "      <td>0</td>\n",
       "      <td>M</td>\n",
       "      <td>сотрудник</td>\n",
       "      <td>0</td>\n",
       "      <td>267628.550329</td>\n",
       "      <td>дополнительное образование</td>\n",
       "    </tr>\n",
       "    <tr>\n",
       "      <th>4</th>\n",
       "      <td>0</td>\n",
       "      <td>340266.072047</td>\n",
       "      <td>53</td>\n",
       "      <td>среднее</td>\n",
       "      <td>1</td>\n",
       "      <td>гражданский брак</td>\n",
       "      <td>1</td>\n",
       "      <td>F</td>\n",
       "      <td>пенсионер</td>\n",
       "      <td>0</td>\n",
       "      <td>158616.077870</td>\n",
       "      <td>сыграть свадьбу</td>\n",
       "    </tr>\n",
       "    <tr>\n",
       "      <th>5</th>\n",
       "      <td>0</td>\n",
       "      <td>-926.185831</td>\n",
       "      <td>27</td>\n",
       "      <td>высшее</td>\n",
       "      <td>0</td>\n",
       "      <td>гражданский брак</td>\n",
       "      <td>1</td>\n",
       "      <td>M</td>\n",
       "      <td>компаньон</td>\n",
       "      <td>0</td>\n",
       "      <td>255763.565419</td>\n",
       "      <td>покупка жилья</td>\n",
       "    </tr>\n",
       "    <tr>\n",
       "      <th>6</th>\n",
       "      <td>0</td>\n",
       "      <td>-2879.202052</td>\n",
       "      <td>43</td>\n",
       "      <td>высшее</td>\n",
       "      <td>0</td>\n",
       "      <td>женат / замужем</td>\n",
       "      <td>0</td>\n",
       "      <td>F</td>\n",
       "      <td>компаньон</td>\n",
       "      <td>0</td>\n",
       "      <td>240525.971920</td>\n",
       "      <td>операции с жильем</td>\n",
       "    </tr>\n",
       "    <tr>\n",
       "      <th>7</th>\n",
       "      <td>0</td>\n",
       "      <td>-152.779569</td>\n",
       "      <td>50</td>\n",
       "      <td>СРЕДНЕЕ</td>\n",
       "      <td>1</td>\n",
       "      <td>женат / замужем</td>\n",
       "      <td>0</td>\n",
       "      <td>M</td>\n",
       "      <td>сотрудник</td>\n",
       "      <td>0</td>\n",
       "      <td>135823.934197</td>\n",
       "      <td>образование</td>\n",
       "    </tr>\n",
       "    <tr>\n",
       "      <th>8</th>\n",
       "      <td>2</td>\n",
       "      <td>-6929.865299</td>\n",
       "      <td>35</td>\n",
       "      <td>ВЫСШЕЕ</td>\n",
       "      <td>0</td>\n",
       "      <td>гражданский брак</td>\n",
       "      <td>1</td>\n",
       "      <td>F</td>\n",
       "      <td>сотрудник</td>\n",
       "      <td>0</td>\n",
       "      <td>95856.832424</td>\n",
       "      <td>на проведение свадьбы</td>\n",
       "    </tr>\n",
       "    <tr>\n",
       "      <th>9</th>\n",
       "      <td>0</td>\n",
       "      <td>-2188.756445</td>\n",
       "      <td>41</td>\n",
       "      <td>среднее</td>\n",
       "      <td>1</td>\n",
       "      <td>женат / замужем</td>\n",
       "      <td>0</td>\n",
       "      <td>M</td>\n",
       "      <td>сотрудник</td>\n",
       "      <td>0</td>\n",
       "      <td>144425.938277</td>\n",
       "      <td>покупка жилья для семьи</td>\n",
       "    </tr>\n",
       "    <tr>\n",
       "      <th>10</th>\n",
       "      <td>2</td>\n",
       "      <td>-4171.483647</td>\n",
       "      <td>36</td>\n",
       "      <td>высшее</td>\n",
       "      <td>0</td>\n",
       "      <td>женат / замужем</td>\n",
       "      <td>0</td>\n",
       "      <td>M</td>\n",
       "      <td>компаньон</td>\n",
       "      <td>0</td>\n",
       "      <td>113943.491460</td>\n",
       "      <td>покупка недвижимости</td>\n",
       "    </tr>\n",
       "    <tr>\n",
       "      <th>11</th>\n",
       "      <td>0</td>\n",
       "      <td>-792.701887</td>\n",
       "      <td>40</td>\n",
       "      <td>среднее</td>\n",
       "      <td>1</td>\n",
       "      <td>женат / замужем</td>\n",
       "      <td>0</td>\n",
       "      <td>F</td>\n",
       "      <td>сотрудник</td>\n",
       "      <td>0</td>\n",
       "      <td>77069.234271</td>\n",
       "      <td>покупка коммерческой недвижимости</td>\n",
       "    </tr>\n",
       "    <tr>\n",
       "      <th>12</th>\n",
       "      <td>0</td>\n",
       "      <td>NaN</td>\n",
       "      <td>65</td>\n",
       "      <td>среднее</td>\n",
       "      <td>1</td>\n",
       "      <td>гражданский брак</td>\n",
       "      <td>1</td>\n",
       "      <td>M</td>\n",
       "      <td>пенсионер</td>\n",
       "      <td>0</td>\n",
       "      <td>NaN</td>\n",
       "      <td>сыграть свадьбу</td>\n",
       "    </tr>\n",
       "    <tr>\n",
       "      <th>13</th>\n",
       "      <td>0</td>\n",
       "      <td>-1846.641941</td>\n",
       "      <td>54</td>\n",
       "      <td>неоконченное высшее</td>\n",
       "      <td>2</td>\n",
       "      <td>женат / замужем</td>\n",
       "      <td>0</td>\n",
       "      <td>F</td>\n",
       "      <td>сотрудник</td>\n",
       "      <td>0</td>\n",
       "      <td>130458.228857</td>\n",
       "      <td>приобретение автомобиля</td>\n",
       "    </tr>\n",
       "    <tr>\n",
       "      <th>14</th>\n",
       "      <td>0</td>\n",
       "      <td>-1844.956182</td>\n",
       "      <td>56</td>\n",
       "      <td>высшее</td>\n",
       "      <td>0</td>\n",
       "      <td>гражданский брак</td>\n",
       "      <td>1</td>\n",
       "      <td>F</td>\n",
       "      <td>компаньон</td>\n",
       "      <td>1</td>\n",
       "      <td>165127.911772</td>\n",
       "      <td>покупка жилой недвижимости</td>\n",
       "    </tr>\n",
       "    <tr>\n",
       "      <th>15</th>\n",
       "      <td>1</td>\n",
       "      <td>-972.364419</td>\n",
       "      <td>26</td>\n",
       "      <td>среднее</td>\n",
       "      <td>1</td>\n",
       "      <td>женат / замужем</td>\n",
       "      <td>0</td>\n",
       "      <td>F</td>\n",
       "      <td>сотрудник</td>\n",
       "      <td>0</td>\n",
       "      <td>116820.904450</td>\n",
       "      <td>строительство собственной недвижимости</td>\n",
       "    </tr>\n",
       "    <tr>\n",
       "      <th>16</th>\n",
       "      <td>0</td>\n",
       "      <td>-1719.934226</td>\n",
       "      <td>35</td>\n",
       "      <td>среднее</td>\n",
       "      <td>1</td>\n",
       "      <td>женат / замужем</td>\n",
       "      <td>0</td>\n",
       "      <td>F</td>\n",
       "      <td>сотрудник</td>\n",
       "      <td>0</td>\n",
       "      <td>289202.704229</td>\n",
       "      <td>недвижимость</td>\n",
       "    </tr>\n",
       "    <tr>\n",
       "      <th>17</th>\n",
       "      <td>0</td>\n",
       "      <td>-2369.999720</td>\n",
       "      <td>33</td>\n",
       "      <td>высшее</td>\n",
       "      <td>0</td>\n",
       "      <td>гражданский брак</td>\n",
       "      <td>1</td>\n",
       "      <td>M</td>\n",
       "      <td>сотрудник</td>\n",
       "      <td>0</td>\n",
       "      <td>90410.586745</td>\n",
       "      <td>строительство недвижимости</td>\n",
       "    </tr>\n",
       "    <tr>\n",
       "      <th>18</th>\n",
       "      <td>0</td>\n",
       "      <td>400281.136913</td>\n",
       "      <td>53</td>\n",
       "      <td>среднее</td>\n",
       "      <td>1</td>\n",
       "      <td>вдовец / вдова</td>\n",
       "      <td>2</td>\n",
       "      <td>F</td>\n",
       "      <td>пенсионер</td>\n",
       "      <td>0</td>\n",
       "      <td>56823.777243</td>\n",
       "      <td>на покупку подержанного автомобиля</td>\n",
       "    </tr>\n",
       "    <tr>\n",
       "      <th>19</th>\n",
       "      <td>0</td>\n",
       "      <td>-10038.818549</td>\n",
       "      <td>48</td>\n",
       "      <td>СРЕДНЕЕ</td>\n",
       "      <td>1</td>\n",
       "      <td>в разводе</td>\n",
       "      <td>3</td>\n",
       "      <td>F</td>\n",
       "      <td>сотрудник</td>\n",
       "      <td>0</td>\n",
       "      <td>242831.107982</td>\n",
       "      <td>на покупку своего автомобиля</td>\n",
       "    </tr>\n",
       "  </tbody>\n",
       "</table>\n",
       "</div>"
      ],
      "text/plain": [
       "    children  days_employed  dob_years            education  education_id  \\\n",
       "0          1   -8437.673028         42               высшее             0   \n",
       "1          1   -4024.803754         36              среднее             1   \n",
       "2          0   -5623.422610         33              Среднее             1   \n",
       "3          3   -4124.747207         32              среднее             1   \n",
       "4          0  340266.072047         53              среднее             1   \n",
       "5          0    -926.185831         27               высшее             0   \n",
       "6          0   -2879.202052         43               высшее             0   \n",
       "7          0    -152.779569         50              СРЕДНЕЕ             1   \n",
       "8          2   -6929.865299         35               ВЫСШЕЕ             0   \n",
       "9          0   -2188.756445         41              среднее             1   \n",
       "10         2   -4171.483647         36               высшее             0   \n",
       "11         0    -792.701887         40              среднее             1   \n",
       "12         0            NaN         65              среднее             1   \n",
       "13         0   -1846.641941         54  неоконченное высшее             2   \n",
       "14         0   -1844.956182         56               высшее             0   \n",
       "15         1    -972.364419         26              среднее             1   \n",
       "16         0   -1719.934226         35              среднее             1   \n",
       "17         0   -2369.999720         33               высшее             0   \n",
       "18         0  400281.136913         53              среднее             1   \n",
       "19         0  -10038.818549         48              СРЕДНЕЕ             1   \n",
       "\n",
       "       family_status  family_status_id gender income_type  debt  \\\n",
       "0    женат / замужем                 0      F   сотрудник     0   \n",
       "1    женат / замужем                 0      F   сотрудник     0   \n",
       "2    женат / замужем                 0      M   сотрудник     0   \n",
       "3    женат / замужем                 0      M   сотрудник     0   \n",
       "4   гражданский брак                 1      F   пенсионер     0   \n",
       "5   гражданский брак                 1      M   компаньон     0   \n",
       "6    женат / замужем                 0      F   компаньон     0   \n",
       "7    женат / замужем                 0      M   сотрудник     0   \n",
       "8   гражданский брак                 1      F   сотрудник     0   \n",
       "9    женат / замужем                 0      M   сотрудник     0   \n",
       "10   женат / замужем                 0      M   компаньон     0   \n",
       "11   женат / замужем                 0      F   сотрудник     0   \n",
       "12  гражданский брак                 1      M   пенсионер     0   \n",
       "13   женат / замужем                 0      F   сотрудник     0   \n",
       "14  гражданский брак                 1      F   компаньон     1   \n",
       "15   женат / замужем                 0      F   сотрудник     0   \n",
       "16   женат / замужем                 0      F   сотрудник     0   \n",
       "17  гражданский брак                 1      M   сотрудник     0   \n",
       "18    вдовец / вдова                 2      F   пенсионер     0   \n",
       "19         в разводе                 3      F   сотрудник     0   \n",
       "\n",
       "     total_income                                 purpose  \n",
       "0   253875.639453                           покупка жилья  \n",
       "1   112080.014102                 приобретение автомобиля  \n",
       "2   145885.952297                           покупка жилья  \n",
       "3   267628.550329              дополнительное образование  \n",
       "4   158616.077870                         сыграть свадьбу  \n",
       "5   255763.565419                           покупка жилья  \n",
       "6   240525.971920                       операции с жильем  \n",
       "7   135823.934197                             образование  \n",
       "8    95856.832424                   на проведение свадьбы  \n",
       "9   144425.938277                 покупка жилья для семьи  \n",
       "10  113943.491460                    покупка недвижимости  \n",
       "11   77069.234271       покупка коммерческой недвижимости  \n",
       "12            NaN                         сыграть свадьбу  \n",
       "13  130458.228857                 приобретение автомобиля  \n",
       "14  165127.911772              покупка жилой недвижимости  \n",
       "15  116820.904450  строительство собственной недвижимости  \n",
       "16  289202.704229                            недвижимость  \n",
       "17   90410.586745              строительство недвижимости  \n",
       "18   56823.777243      на покупку подержанного автомобиля  \n",
       "19  242831.107982            на покупку своего автомобиля  "
      ]
     },
     "execution_count": 2,
     "metadata": {},
     "output_type": "execute_result"
    }
   ],
   "source": [
    "data.head(20)"
   ]
  },
  {
   "cell_type": "markdown",
   "id": "0ed8f27f",
   "metadata": {
    "deletable": true,
    "id": "0ed8f27f",
    "tags": []
   },
   "source": [
    "**Получим основную информацию о датафрейме:**"
   ]
  },
  {
   "cell_type": "code",
   "execution_count": 3,
   "id": "ab3f863b",
   "metadata": {
    "deletable": false,
    "id": "ab3f863b",
    "outputId": "15376089-8dad-46c9-b520-c05248d43158"
   },
   "outputs": [
    {
     "name": "stdout",
     "output_type": "stream",
     "text": [
      "<class 'pandas.core.frame.DataFrame'>\n",
      "RangeIndex: 21525 entries, 0 to 21524\n",
      "Data columns (total 12 columns):\n",
      " #   Column            Non-Null Count  Dtype  \n",
      "---  ------            --------------  -----  \n",
      " 0   children          21525 non-null  int64  \n",
      " 1   days_employed     19351 non-null  float64\n",
      " 2   dob_years         21525 non-null  int64  \n",
      " 3   education         21525 non-null  object \n",
      " 4   education_id      21525 non-null  int64  \n",
      " 5   family_status     21525 non-null  object \n",
      " 6   family_status_id  21525 non-null  int64  \n",
      " 7   gender            21525 non-null  object \n",
      " 8   income_type       21525 non-null  object \n",
      " 9   debt              21525 non-null  int64  \n",
      " 10  total_income      19351 non-null  float64\n",
      " 11  purpose           21525 non-null  object \n",
      "dtypes: float64(2), int64(5), object(5)\n",
      "memory usage: 2.0+ MB\n"
     ]
    }
   ],
   "source": [
    "data.info()"
   ]
  },
  {
   "cell_type": "markdown",
   "id": "60e3e22d",
   "metadata": {
    "deletable": false,
    "editable": false,
    "id": "60e3e22d"
   },
   "source": [
    "## Предобработка данных"
   ]
  },
  {
   "cell_type": "markdown",
   "id": "03dc170c",
   "metadata": {
    "deletable": false,
    "editable": false,
    "id": "03dc170c"
   },
   "source": [
    "### Удаление пропусков"
   ]
  },
  {
   "cell_type": "markdown",
   "id": "a4f54eef",
   "metadata": {
    "deletable": true,
    "id": "0ed8f27f",
    "tags": []
   },
   "source": [
    "**Оценим количество пропущенных значений для каждого столбца:**"
   ]
  },
  {
   "cell_type": "code",
   "execution_count": 4,
   "id": "2dc372b2",
   "metadata": {
    "deletable": false,
    "id": "2dc372b2",
    "outputId": "81f4d817-781c-465c-ed15-91ce4446810d"
   },
   "outputs": [
    {
     "data": {
      "text/plain": [
       "children               0\n",
       "days_employed       2174\n",
       "dob_years              0\n",
       "education              0\n",
       "education_id           0\n",
       "family_status          0\n",
       "family_status_id       0\n",
       "gender                 0\n",
       "income_type            0\n",
       "debt                   0\n",
       "total_income        2174\n",
       "purpose                0\n",
       "dtype: int64"
      ]
     },
     "execution_count": 4,
     "metadata": {},
     "output_type": "execute_result"
    }
   ],
   "source": [
    "data.isna().sum()"
   ]
  },
  {
   "cell_type": "markdown",
   "id": "bab3186b-43cc-4f98-a18f-9b6e48417d46",
   "metadata": {
    "tags": []
   },
   "source": [
    "**В двух столбцах есть пропущенные значения - `total_income` и `days_employed`. Для начала детально рассмотрим данные о доходе из непустых ячеек `total income`:**"
   ]
  },
  {
   "cell_type": "code",
   "execution_count": 5,
   "id": "4eaa41dd-90ef-4e63-bb4b-f456818a438f",
   "metadata": {},
   "outputs": [
    {
     "data": {
      "text/plain": [
       "count    1.935100e+04\n",
       "mean     1.674223e+05\n",
       "std      1.029716e+05\n",
       "min      2.066726e+04\n",
       "25%      1.030532e+05\n",
       "50%      1.450179e+05\n",
       "75%      2.034351e+05\n",
       "max      2.265604e+06\n",
       "Name: total_income, dtype: float64"
      ]
     },
     "execution_count": 5,
     "metadata": {},
     "output_type": "execute_result"
    }
   ],
   "source": [
    "data['total_income'].describe()"
   ]
  },
  {
   "cell_type": "markdown",
   "id": "7f26d11b-e81a-47ac-aa2b-5aa9586ac643",
   "metadata": {},
   "source": [
    "**Данные о доходе из непустых ячеек выглядят правдоподобно: минимум 20667, максимум 2265604, медиана 142594, среднее 165343. Поскольку на сумму дохода сильнее всего влияет тип занятости, заполним пропуски в столбце `total_income` медианным значением по каждому типу занятости из столбца `income_type`.**"
   ]
  },
  {
   "cell_type": "code",
   "execution_count": 6,
   "id": "bdabfb6e",
   "metadata": {
    "deletable": false,
    "id": "bdabfb6e"
   },
   "outputs": [],
   "source": [
    "for income_type in data['income_type'].unique():\n",
    "    data.loc[(data['income_type'] == income_type) & (data['total_income'].isna()), 'total_income'] \\\n",
    "    = data.loc[data['income_type'] == income_type, 'total_income'].median()"
   ]
  },
  {
   "cell_type": "markdown",
   "id": "0937fe62-a3fd-4648-8947-d778f02fccb1",
   "metadata": {},
   "source": [
    "**Проверим, что пропуски в `total_income` успешно заполнены:**"
   ]
  },
  {
   "cell_type": "code",
   "execution_count": 7,
   "id": "3220eec5-2e7e-4e91-8e3c-cbaa10d7b9ee",
   "metadata": {},
   "outputs": [
    {
     "data": {
      "text/plain": [
       "children               0\n",
       "days_employed       2174\n",
       "dob_years              0\n",
       "education              0\n",
       "education_id           0\n",
       "family_status          0\n",
       "family_status_id       0\n",
       "gender                 0\n",
       "income_type            0\n",
       "debt                   0\n",
       "total_income           0\n",
       "purpose                0\n",
       "dtype: int64"
      ]
     },
     "execution_count": 7,
     "metadata": {},
     "output_type": "execute_result"
    }
   ],
   "source": [
    "data.isna().sum()"
   ]
  },
  {
   "cell_type": "markdown",
   "id": "10b5d702-1c3e-4ba7-969f-de097934ec93",
   "metadata": {},
   "source": [
    "**Заменим вещественный тип данных в столбце `total_income` на целочисленный**"
   ]
  },
  {
   "cell_type": "code",
   "execution_count": 8,
   "id": "47aa43ac-7952-4825-964e-83d4c7b78311",
   "metadata": {},
   "outputs": [
    {
     "data": {
      "text/plain": [
       "dtype('int32')"
      ]
     },
     "execution_count": 8,
     "metadata": {},
     "output_type": "execute_result"
    }
   ],
   "source": [
    "data['total_income'] = data['total_income'].astype(int)\n",
    "data['total_income'].dtype"
   ]
  },
  {
   "cell_type": "markdown",
   "id": "a87606cb",
   "metadata": {
    "deletable": true,
    "id": "a87606cb",
    "tags": []
   },
   "source": [
    "**Проверим, как распределены данные в столбце трудового стажа -  `days_employed`**"
   ]
  },
  {
   "cell_type": "code",
   "execution_count": 9,
   "id": "9f529b5f-53e0-4946-bb10-94d4f96e7adf",
   "metadata": {},
   "outputs": [
    {
     "data": {
      "text/plain": [
       "count     19351.000000\n",
       "mean      63046.497661\n",
       "std      140827.311974\n",
       "min      -18388.949901\n",
       "25%       -2747.423625\n",
       "50%       -1203.369529\n",
       "75%        -291.095954\n",
       "max      401755.400475\n",
       "Name: days_employed, dtype: float64"
      ]
     },
     "execution_count": 9,
     "metadata": {},
     "output_type": "execute_result"
    }
   ],
   "source": [
    "data['days_employed'].describe()"
   ]
  },
  {
   "cell_type": "markdown",
   "id": "6f39f105-77d5-4bf0-8d3c-2132a750bb18",
   "metadata": {},
   "source": [
    "**С данными о трудовом стаже точно есть проблемы: во-первых, присутствуют отрицательные значения стажа, во-вторых, есть неоправданно завышенне цифры стажа. Поскольку трудовой стаж не является интересующим нас параметром, влияющим на возврат кредита в срок, удалим столбец `days_employed` из датасета.**"
   ]
  },
  {
   "cell_type": "code",
   "execution_count": 10,
   "id": "020c46cc",
   "metadata": {
    "deletable": false,
    "id": "020c46cc"
   },
   "outputs": [
    {
     "name": "stdout",
     "output_type": "stream",
     "text": [
      "<class 'pandas.core.frame.DataFrame'>\n",
      "RangeIndex: 21525 entries, 0 to 21524\n",
      "Data columns (total 11 columns):\n",
      " #   Column            Non-Null Count  Dtype \n",
      "---  ------            --------------  ----- \n",
      " 0   children          21525 non-null  int64 \n",
      " 1   dob_years         21525 non-null  int64 \n",
      " 2   education         21525 non-null  object\n",
      " 3   education_id      21525 non-null  int64 \n",
      " 4   family_status     21525 non-null  object\n",
      " 5   family_status_id  21525 non-null  int64 \n",
      " 6   gender            21525 non-null  object\n",
      " 7   income_type       21525 non-null  object\n",
      " 8   debt              21525 non-null  int64 \n",
      " 9   total_income      21525 non-null  int32 \n",
      " 10  purpose           21525 non-null  object\n",
      "dtypes: int32(1), int64(5), object(5)\n",
      "memory usage: 1.7+ MB\n"
     ]
    }
   ],
   "source": [
    "data = data.drop('days_employed', axis=1)\n",
    "data.info()"
   ]
  },
  {
   "cell_type": "markdown",
   "id": "9652e50d",
   "metadata": {
    "deletable": true,
    "id": "9652e50d",
    "tags": []
   },
   "source": [
    "**Выведем перечень уникальных значений столбца `children`.**"
   ]
  },
  {
   "cell_type": "code",
   "execution_count": 11,
   "id": "dbb37b8e",
   "metadata": {
    "deletable": false,
    "id": "dbb37b8e",
    "outputId": "6975b15c-7f95-4697-d16d-a0c79b657b03"
   },
   "outputs": [
    {
     "data": {
      "text/plain": [
       "array([ 1,  0,  3,  2, -1,  4, 20,  5], dtype=int64)"
      ]
     },
     "execution_count": 11,
     "metadata": {},
     "output_type": "execute_result"
    }
   ],
   "source": [
    "data['children'].unique()"
   ]
  },
  {
   "cell_type": "markdown",
   "id": "2b8b0715",
   "metadata": {
    "deletable": true,
    "id": "2b8b0715",
    "tags": []
   },
   "source": [
    "**В столбце `children` есть два аномальных значения. Удалим строки, в которых встречаются такие значения, из датафрейма `data`.**"
   ]
  },
  {
   "cell_type": "code",
   "execution_count": 12,
   "id": "20009df8",
   "metadata": {
    "deletable": false,
    "id": "20009df8"
   },
   "outputs": [],
   "source": [
    "data = data[(data['children'] != -1) & (data['children'] != 20)]"
   ]
  },
  {
   "cell_type": "markdown",
   "id": "8c6ac9f1",
   "metadata": {
    "deletable": true,
    "id": "8c6ac9f1",
    "tags": []
   },
   "source": [
    "**Ещё раз выведем перечень уникальных значений столбца `children`, чтобы убедиться, что артефакты удалены.**"
   ]
  },
  {
   "cell_type": "code",
   "execution_count": 13,
   "id": "07337b81",
   "metadata": {
    "deletable": false,
    "id": "07337b81",
    "outputId": "b2097101-d49d-44d9-901b-32a65c9463d1"
   },
   "outputs": [
    {
     "data": {
      "text/plain": [
       "array([1, 0, 3, 2, 4, 5], dtype=int64)"
      ]
     },
     "execution_count": 13,
     "metadata": {},
     "output_type": "execute_result"
    }
   ],
   "source": [
    "data['children'].unique()"
   ]
  },
  {
   "cell_type": "markdown",
   "id": "b8e3d1d9",
   "metadata": {
    "deletable": false,
    "editable": false,
    "id": "b8e3d1d9"
   },
   "source": [
    "### Обработка дубликатов"
   ]
  },
  {
   "cell_type": "markdown",
   "id": "9be53c49",
   "metadata": {
    "deletable": true,
    "id": "9be53c49",
    "tags": []
   },
   "source": [
    "**Обработаем неявные дубликаты в столбце `education` - в нем есть одни и те же значения, но записанные по-разному: с использованием заглавных и строчных букв. Приведем их к нижнему регистру:**"
   ]
  },
  {
   "cell_type": "code",
   "execution_count": 14,
   "id": "d89e73e1",
   "metadata": {
    "deletable": false,
    "id": "d89e73e1"
   },
   "outputs": [
    {
     "data": {
      "text/plain": [
       "0     высшее\n",
       "1    среднее\n",
       "2    среднее\n",
       "3    среднее\n",
       "4    среднее\n",
       "5     высшее\n",
       "6     высшее\n",
       "7    среднее\n",
       "8     высшее\n",
       "9    среднее\n",
       "Name: education, dtype: object"
      ]
     },
     "execution_count": 14,
     "metadata": {},
     "output_type": "execute_result"
    }
   ],
   "source": [
    "data['education'] = data['education'].str.lower()\n",
    "data['education'].head(10)"
   ]
  },
  {
   "cell_type": "markdown",
   "id": "01d4500e",
   "metadata": {
    "deletable": true,
    "id": "01d4500e",
    "tags": []
   },
   "source": [
    "**Проверим, есть ли в датасете строки, полностью дублирующие друг-друга:**"
   ]
  },
  {
   "cell_type": "code",
   "execution_count": 15,
   "id": "e10efb23",
   "metadata": {
    "deletable": false,
    "id": "e10efb23",
    "outputId": "9684deba-1934-42d1-99e1-cda61740f822"
   },
   "outputs": [
    {
     "data": {
      "text/plain": [
       "71"
      ]
     },
     "execution_count": 15,
     "metadata": {},
     "output_type": "execute_result"
    }
   ],
   "source": [
    "data.duplicated().sum()"
   ]
  },
  {
   "cell_type": "markdown",
   "id": "a89562b5-180b-46f4-8d32-5570e5593dfe",
   "metadata": {},
   "source": [
    "**Удалим такие строки:**"
   ]
  },
  {
   "cell_type": "code",
   "execution_count": 16,
   "id": "df853f20",
   "metadata": {
    "deletable": false,
    "id": "df853f20"
   },
   "outputs": [],
   "source": [
    "data = data.drop_duplicates()"
   ]
  },
  {
   "cell_type": "markdown",
   "id": "627be38f",
   "metadata": {
    "deletable": false,
    "editable": false,
    "id": "627be38f"
   },
   "source": [
    "### Категоризация данных"
   ]
  },
  {
   "cell_type": "markdown",
   "id": "4684c3e0",
   "metadata": {
    "deletable": true,
    "id": "4684c3e0",
    "tags": []
   },
   "source": [
    "**Создадим в датафрейме `data` новый столбец, в котором укажем категорию дохода заемщика. Будем руководствоваться следующими диапазонами:**\n",
    "\n",
    "- 0–30000 — категория `'E'`;\n",
    "- 30001–50000 — категория `'D'`;\n",
    "- 50001–200000 — категория`'C'`;\n",
    "- 200001–1000000 — категория `'B'`;\n",
    "- 1000001 и выше — категория `'A'`.\n",
    "\n",
    "**Для этого создадим функцию `categorize_income`, которая в зависимости от передаваемого ей значения, будет возвращать обозначение соответствующей категории дохода:** "
   ]
  },
  {
   "cell_type": "code",
   "execution_count": 17,
   "id": "78965238",
   "metadata": {
    "deletable": false,
    "id": "78965238"
   },
   "outputs": [],
   "source": [
    "def categorize_income(income):\n",
    "    if income <= 30000:\n",
    "        return 'E'\n",
    "    if income <= 50000:\n",
    "        return 'D'\n",
    "    if income <= 200000:\n",
    "        return 'C'\n",
    "    if income <=1000000:\n",
    "        return 'B'\n",
    "    return 'A'"
   ]
  },
  {
   "cell_type": "markdown",
   "id": "99e115c2-3374-4817-b292-3f9d0e53a6d9",
   "metadata": {},
   "source": [
    "**Применим функцию `categorize_income` к столбцу `total_income` датафрейма `data`:**"
   ]
  },
  {
   "cell_type": "code",
   "execution_count": 18,
   "id": "0980ada1",
   "metadata": {
    "deletable": false,
    "id": "0980ada1"
   },
   "outputs": [],
   "source": [
    "data['total_income_category'] = data['total_income'].apply(categorize_income)"
   ]
  },
  {
   "cell_type": "markdown",
   "id": "412c2886-a6c9-49c7-99f4-b6baffec9e89",
   "metadata": {},
   "source": [
    "**Посмотрим появился ли в `data` новый столбец:**  "
   ]
  },
  {
   "cell_type": "code",
   "execution_count": 19,
   "id": "bb626afd-56e4-42f9-9e33-e6c725893bed",
   "metadata": {},
   "outputs": [
    {
     "name": "stdout",
     "output_type": "stream",
     "text": [
      "<class 'pandas.core.frame.DataFrame'>\n",
      "Int64Index: 21331 entries, 0 to 21524\n",
      "Data columns (total 12 columns):\n",
      " #   Column                 Non-Null Count  Dtype \n",
      "---  ------                 --------------  ----- \n",
      " 0   children               21331 non-null  int64 \n",
      " 1   dob_years              21331 non-null  int64 \n",
      " 2   education              21331 non-null  object\n",
      " 3   education_id           21331 non-null  int64 \n",
      " 4   family_status          21331 non-null  object\n",
      " 5   family_status_id       21331 non-null  int64 \n",
      " 6   gender                 21331 non-null  object\n",
      " 7   income_type            21331 non-null  object\n",
      " 8   debt                   21331 non-null  int64 \n",
      " 9   total_income           21331 non-null  int32 \n",
      " 10  purpose                21331 non-null  object\n",
      " 11  total_income_category  21331 non-null  object\n",
      "dtypes: int32(1), int64(5), object(6)\n",
      "memory usage: 2.0+ MB\n"
     ]
    }
   ],
   "source": [
    "data.info()"
   ]
  },
  {
   "cell_type": "markdown",
   "id": "9917bba0",
   "metadata": {
    "deletable": true,
    "id": "9917bba0",
    "tags": []
   },
   "source": [
    "**Выведем на экран перечень уникальных целей взятия кредита из столбца `purpose`.**"
   ]
  },
  {
   "cell_type": "code",
   "execution_count": 20,
   "id": "ee07b65e",
   "metadata": {
    "deletable": false,
    "id": "ee07b65e",
    "outputId": "673c12d9-7d7e-4ae0-9812-c622c89dd244"
   },
   "outputs": [
    {
     "data": {
      "text/plain": [
       "array(['покупка жилья', 'приобретение автомобиля',\n",
       "       'дополнительное образование', 'сыграть свадьбу',\n",
       "       'операции с жильем', 'образование', 'на проведение свадьбы',\n",
       "       'покупка жилья для семьи', 'покупка недвижимости',\n",
       "       'покупка коммерческой недвижимости', 'покупка жилой недвижимости',\n",
       "       'строительство собственной недвижимости', 'недвижимость',\n",
       "       'строительство недвижимости', 'на покупку подержанного автомобиля',\n",
       "       'на покупку своего автомобиля',\n",
       "       'операции с коммерческой недвижимостью',\n",
       "       'строительство жилой недвижимости', 'жилье',\n",
       "       'операции со своей недвижимостью', 'автомобили',\n",
       "       'заняться образованием', 'сделка с подержанным автомобилем',\n",
       "       'получение образования', 'автомобиль', 'свадьба',\n",
       "       'получение дополнительного образования', 'покупка своего жилья',\n",
       "       'операции с недвижимостью', 'получение высшего образования',\n",
       "       'свой автомобиль', 'сделка с автомобилем',\n",
       "       'профильное образование', 'высшее образование',\n",
       "       'покупка жилья для сдачи', 'на покупку автомобиля', 'ремонт жилью',\n",
       "       'заняться высшим образованием'], dtype=object)"
      ]
     },
     "execution_count": 20,
     "metadata": {},
     "output_type": "execute_result"
    }
   ],
   "source": [
    "data['purpose'].unique()"
   ]
  },
  {
   "cell_type": "markdown",
   "id": "52b79d56",
   "metadata": {
    "deletable": true,
    "id": "52b79d56",
    "tags": []
   },
   "source": [
    "**Распределим цели из столбца `purpose` по четрыем категориям:** \n",
    "- `'операции с автомобилем'`,\n",
    "- `'операции с недвижимостью'`,\n",
    "- `'проведение свадьбы'`,\n",
    "- `'получение образования'`.\n",
    "\n",
    "**Для этого создадим функцию `categorize_purpose`, которая в зависимости от содержимого в столбце `purpose` будет возвращать одну из обозначенных выше категорий:**"
   ]
  },
  {
   "cell_type": "code",
   "execution_count": 21,
   "id": "be41da5d",
   "metadata": {
    "deletable": false,
    "id": "be41da5d"
   },
   "outputs": [],
   "source": [
    "def categorize_purpose(row):\n",
    "    try:\n",
    "        if 'автом' in row:\n",
    "            return 'операции с автомобилем'\n",
    "        elif 'жил' in row or 'недвиж' in row:\n",
    "            return 'операции с недвижимостью'\n",
    "        elif 'свад' in row:\n",
    "            return 'проведение свадьбы'\n",
    "        elif 'образов' in row:\n",
    "            return 'получение образования'\n",
    "    except:\n",
    "        return 'нет категории'"
   ]
  },
  {
   "cell_type": "markdown",
   "id": "cea3dfe6-69e9-4434-99aa-f56d6cdbe86b",
   "metadata": {},
   "source": [
    "**Применим функцию `categorize_purpose` к столбцу `purpose`. Результат запишем в новый столбец `purpose_category`:**"
   ]
  },
  {
   "cell_type": "code",
   "execution_count": 22,
   "id": "94c4a19a",
   "metadata": {
    "deletable": false,
    "id": "94c4a19a"
   },
   "outputs": [],
   "source": [
    "data['purpose_category'] = data['purpose'].apply(categorize_purpose)"
   ]
  },
  {
   "cell_type": "markdown",
   "id": "362146aa-40b5-4ce7-a9da-dfb71825ccc7",
   "metadata": {},
   "source": [
    "**Проверим, какие уникальные значения появились в новом столбце**:"
   ]
  },
  {
   "cell_type": "code",
   "execution_count": 23,
   "id": "301a93dc-0563-42c8-bfc8-08e7d02fd26b",
   "metadata": {},
   "outputs": [
    {
     "data": {
      "text/plain": [
       "array(['операции с недвижимостью', 'операции с автомобилем',\n",
       "       'получение образования', 'проведение свадьбы'], dtype=object)"
      ]
     },
     "execution_count": 23,
     "metadata": {},
     "output_type": "execute_result"
    }
   ],
   "source": [
    "data['purpose_category'].unique()"
   ]
  },
  {
   "cell_type": "markdown",
   "id": "3d596c34",
   "metadata": {
    "deletable": true,
    "id": "3d596c34",
    "tags": []
   },
   "source": [
    "## Анализ влияния индивидуальных характеристик заемщика и кредитной цели на возврат кредита в срок"
   ]
  },
  {
   "cell_type": "markdown",
   "id": "648db036",
   "metadata": {
    "deletable": true,
    "id": "648db036",
    "tags": []
   },
   "source": [
    "### Есть ли зависимость между количеством детей и возвратом кредита в срок?"
   ]
  },
  {
   "cell_type": "markdown",
   "id": "a6dee4fa",
   "metadata": {},
   "source": [
    "**Оценим, в каком диапазоне находятся значения из столбца `children`, и каково распределение клиентов банка по количеству детей. Сохраним полученный результат в Series `number_by_children` и выведем на экран:**"
   ]
  },
  {
   "cell_type": "code",
   "execution_count": 24,
   "id": "7fcff25e",
   "metadata": {
    "deletable": false,
    "id": "7fcff25e",
    "scrolled": true
   },
   "outputs": [
    {
     "data": {
      "text/plain": [
       "0    14091\n",
       "1     4808\n",
       "2     2052\n",
       "3      330\n",
       "4       41\n",
       "5        9\n",
       "Name: children, dtype: int64"
      ]
     },
     "execution_count": 24,
     "metadata": {},
     "output_type": "execute_result"
    }
   ],
   "source": [
    "number_by_children = data['children'].value_counts()\n",
    "number_by_children"
   ]
  },
  {
   "cell_type": "markdown",
   "id": "626b588c",
   "metadata": {},
   "source": [
    "**Посчитаем количество тех, кто имел задолженность по возврату кредитов, для групп клиентов с разным количеством детей и запишем результат в `debtors_by_children`:**"
   ]
  },
  {
   "cell_type": "code",
   "execution_count": 25,
   "id": "faae3d39",
   "metadata": {},
   "outputs": [
    {
     "data": {
      "text/plain": [
       "children\n",
       "0    1063\n",
       "1     444\n",
       "2     194\n",
       "3      27\n",
       "4       4\n",
       "Name: children, dtype: int64"
      ]
     },
     "execution_count": 25,
     "metadata": {},
     "output_type": "execute_result"
    }
   ],
   "source": [
    "debtors_by_children = data.loc[data['debt'] == 1].groupby('children')['children'].count()\n",
    "debtors_by_children"
   ]
  },
  {
   "cell_type": "markdown",
   "id": "8a12b236",
   "metadata": {},
   "source": [
    "**Судя по полученному результату, люди с 5-ю детьми не имели задолженностей по кредитам. Проверим это, выведем таблицу cо списком таких людей:**"
   ]
  },
  {
   "cell_type": "code",
   "execution_count": 26,
   "id": "235ab040",
   "metadata": {},
   "outputs": [
    {
     "name": "stdout",
     "output_type": "stream",
     "text": [
      "       children  debt\n",
      "3979          5     0\n",
      "4397          5     0\n",
      "7866          5     0\n",
      "15822         5     0\n",
      "15916         5     0\n",
      "16211         5     0\n",
      "20452         5     0\n",
      "20837         5     0\n",
      "21156         5     0\n"
     ]
    }
   ],
   "source": [
    "print(data.loc[data['children'] == 5, ['children','debt']])"
   ]
  },
  {
   "cell_type": "markdown",
   "id": "bba73656",
   "metadata": {},
   "source": [
    "**Добавим в `debtors_by_children` новую строку, в которой отразим, что среди людей с пятью детьми нет тех, у кого задолженность по кредитам:**"
   ]
  },
  {
   "cell_type": "code",
   "execution_count": 27,
   "id": "d1d76239",
   "metadata": {},
   "outputs": [
    {
     "data": {
      "text/plain": [
       "children\n",
       "0    1063\n",
       "1     444\n",
       "2     194\n",
       "3      27\n",
       "4       4\n",
       "5       0\n",
       "Name: children, dtype: int64"
      ]
     },
     "execution_count": 27,
     "metadata": {},
     "output_type": "execute_result"
    }
   ],
   "source": [
    "debtors_by_children[5] = 0\n",
    "debtors_by_children"
   ]
  },
  {
   "cell_type": "markdown",
   "id": "35fce50d",
   "metadata": {},
   "source": [
    "**Рассчитаем `debtors_by_children_share` - долю должников в каждой из групп:**"
   ]
  },
  {
   "cell_type": "code",
   "execution_count": 28,
   "id": "9497cf98",
   "metadata": {},
   "outputs": [
    {
     "name": "stdout",
     "output_type": "stream",
     "text": [
      "children\n",
      "0    0.075\n",
      "1    0.092\n",
      "2    0.095\n",
      "3    0.082\n",
      "4    0.098\n",
      "5    0.000\n",
      "Name: children, dtype: float64\n"
     ]
    }
   ],
   "source": [
    "debtors_by_children_share = debtors_by_children/number_by_children\n",
    "print(round(debtors_by_children_share, 3))"
   ]
  },
  {
   "cell_type": "markdown",
   "id": "a35974a9",
   "metadata": {},
   "source": [
    "**Рассчитаем вероятность возврата кредита в срок - для каждой из групп вычтем из единицы долю должников:**"
   ]
  },
  {
   "cell_type": "code",
   "execution_count": 29,
   "id": "cf51a688",
   "metadata": {},
   "outputs": [
    {
     "name": "stdout",
     "output_type": "stream",
     "text": [
      "children\n",
      "0    0.925\n",
      "1    0.908\n",
      "2    0.905\n",
      "3    0.918\n",
      "4    0.902\n",
      "5    1.000\n",
      "Name: children, dtype: float64\n"
     ]
    }
   ],
   "source": [
    "probability = 1 - debtors_by_children_share\n",
    "print(round(probability, 3))"
   ]
  },
  {
   "cell_type": "markdown",
   "id": "2eb9088e",
   "metadata": {
    "deletable": false,
    "id": "2eb9088e"
   },
   "source": [
    "**Вывод:**\n",
    "Зависимость между количеством детей и возвратом кредита в срок существует.\n",
    "- С наибольшей вероятностью (92.5 %) кредит в срок возвращают те, у кого нет детей.\n",
    "- Для людей у которых от 1 до 4-х детей, вероятность возврата кредита в срок составляет от 90.2 до 91.8 %. Чтобы узнать, различаются ли достоверно эти проценты, нужно применить биномиальный критерий - попарно сравнить с помощью него вероятности в группах.\n",
    "- Несмотря на то, что согласно нашим расчетам 100 % людей у которых пятеро детей, отдают кредит в срок, этот результат нельзя признать показательным. Выборка из 9 человек слишком мала, для того чтобы делать по ней выводы."
   ]
  },
  {
   "cell_type": "markdown",
   "id": "74c9b3a7",
   "metadata": {
    "deletable": true,
    "id": "74c9b3a7",
    "tags": []
   },
   "source": [
    "### Есть ли зависимость между семейным положением и возвратом кредита в срок?"
   ]
  },
  {
   "cell_type": "markdown",
   "id": "ba40970d",
   "metadata": {
    "deletable": false,
    "id": "8098ab3b"
   },
   "source": [
    "**Для удобства работы с данными выполним их декомпозицию. В датасет `family_status_id_debt` запишем данные из столбцов `family_status_id` и `debt`, другой датасет `family_status_dict` будет словарем - в нем оставим только столбцы `family_status_id` и `family_status`, и уберем в нем дублирующиеся cтроки:**"
   ]
  },
  {
   "cell_type": "markdown",
   "id": "00c4ac1f-8225-40e1-b9ee-8784b3d570e8",
   "metadata": {},
   "source": [
    "**Создадим датасет `family_status_id_debt` c данными из столбцов `family_status_id` и `debt`. Выведем на экран его первые 5 строк:**"
   ]
  },
  {
   "cell_type": "code",
   "execution_count": 30,
   "id": "5f9254f2",
   "metadata": {},
   "outputs": [
    {
     "data": {
      "text/html": [
       "<div>\n",
       "<style scoped>\n",
       "    .dataframe tbody tr th:only-of-type {\n",
       "        vertical-align: middle;\n",
       "    }\n",
       "\n",
       "    .dataframe tbody tr th {\n",
       "        vertical-align: top;\n",
       "    }\n",
       "\n",
       "    .dataframe thead th {\n",
       "        text-align: right;\n",
       "    }\n",
       "</style>\n",
       "<table border=\"1\" class=\"dataframe\">\n",
       "  <thead>\n",
       "    <tr style=\"text-align: right;\">\n",
       "      <th></th>\n",
       "      <th>family_status_id</th>\n",
       "      <th>debt</th>\n",
       "    </tr>\n",
       "  </thead>\n",
       "  <tbody>\n",
       "    <tr>\n",
       "      <th>0</th>\n",
       "      <td>0</td>\n",
       "      <td>0</td>\n",
       "    </tr>\n",
       "    <tr>\n",
       "      <th>1</th>\n",
       "      <td>0</td>\n",
       "      <td>0</td>\n",
       "    </tr>\n",
       "    <tr>\n",
       "      <th>2</th>\n",
       "      <td>0</td>\n",
       "      <td>0</td>\n",
       "    </tr>\n",
       "    <tr>\n",
       "      <th>3</th>\n",
       "      <td>0</td>\n",
       "      <td>0</td>\n",
       "    </tr>\n",
       "    <tr>\n",
       "      <th>4</th>\n",
       "      <td>1</td>\n",
       "      <td>0</td>\n",
       "    </tr>\n",
       "  </tbody>\n",
       "</table>\n",
       "</div>"
      ],
      "text/plain": [
       "   family_status_id  debt\n",
       "0                 0     0\n",
       "1                 0     0\n",
       "2                 0     0\n",
       "3                 0     0\n",
       "4                 1     0"
      ]
     },
     "execution_count": 30,
     "metadata": {},
     "output_type": "execute_result"
    }
   ],
   "source": [
    "family_status_id_debt = data[['family_status_id','debt']]\n",
    "family_status_id_debt.head() "
   ]
  },
  {
   "cell_type": "markdown",
   "id": "45a939ac-fb55-4947-b0e6-5bba9751f7eb",
   "metadata": {},
   "source": [
    "**Создадим словарь `family_status_dict` со столбцами `family_status_id` и `family_status`. Уберем дубликаты и выведем датасет на экран:**"
   ]
  },
  {
   "cell_type": "code",
   "execution_count": 31,
   "id": "558cee0b",
   "metadata": {},
   "outputs": [
    {
     "data": {
      "text/html": [
       "<div>\n",
       "<style scoped>\n",
       "    .dataframe tbody tr th:only-of-type {\n",
       "        vertical-align: middle;\n",
       "    }\n",
       "\n",
       "    .dataframe tbody tr th {\n",
       "        vertical-align: top;\n",
       "    }\n",
       "\n",
       "    .dataframe thead th {\n",
       "        text-align: right;\n",
       "    }\n",
       "</style>\n",
       "<table border=\"1\" class=\"dataframe\">\n",
       "  <thead>\n",
       "    <tr style=\"text-align: right;\">\n",
       "      <th></th>\n",
       "      <th>family_status_id</th>\n",
       "      <th>family_status</th>\n",
       "    </tr>\n",
       "  </thead>\n",
       "  <tbody>\n",
       "    <tr>\n",
       "      <th>0</th>\n",
       "      <td>0</td>\n",
       "      <td>женат / замужем</td>\n",
       "    </tr>\n",
       "    <tr>\n",
       "      <th>1</th>\n",
       "      <td>1</td>\n",
       "      <td>гражданский брак</td>\n",
       "    </tr>\n",
       "    <tr>\n",
       "      <th>2</th>\n",
       "      <td>2</td>\n",
       "      <td>вдовец / вдова</td>\n",
       "    </tr>\n",
       "    <tr>\n",
       "      <th>3</th>\n",
       "      <td>3</td>\n",
       "      <td>в разводе</td>\n",
       "    </tr>\n",
       "    <tr>\n",
       "      <th>4</th>\n",
       "      <td>4</td>\n",
       "      <td>Не женат / не замужем</td>\n",
       "    </tr>\n",
       "  </tbody>\n",
       "</table>\n",
       "</div>"
      ],
      "text/plain": [
       "   family_status_id          family_status\n",
       "0                 0        женат / замужем\n",
       "1                 1       гражданский брак\n",
       "2                 2         вдовец / вдова\n",
       "3                 3              в разводе\n",
       "4                 4  Не женат / не замужем"
      ]
     },
     "execution_count": 31,
     "metadata": {},
     "output_type": "execute_result"
    }
   ],
   "source": [
    "family_status_dict = data[['family_status_id','family_status']]\n",
    "family_status_dict = family_status_dict.drop_duplicates().reset_index(drop=True)\n",
    "family_status_dict"
   ]
  },
  {
   "cell_type": "markdown",
   "id": "86f47fbd",
   "metadata": {},
   "source": [
    "**Далее рассчитаем число клиентов с разными `family_status_id` и запишем его в объект Series с названием `number_by_family_status_id`:**"
   ]
  },
  {
   "cell_type": "markdown",
   "id": "cabe31f9-4e77-4447-9254-94e6d1732925",
   "metadata": {},
   "source": [
    "**Отсортируем датасет `family_status_id_debt` по возрастанию `family_status_id` и запишем в новый датасет `family_status_id_debt_sorted`**"
   ]
  },
  {
   "cell_type": "code",
   "execution_count": 32,
   "id": "afbe78d8",
   "metadata": {
    "tags": []
   },
   "outputs": [],
   "source": [
    "family_status_id_debt_sorted = family_status_id_debt.sort_values(by='family_status_id', ascending=True)"
   ]
  },
  {
   "cell_type": "markdown",
   "id": "6daf65fc-dbd7-4a53-b384-e806b2b82161",
   "metadata": {},
   "source": [
    "**Cгруппируем строки в `family_status_id_debt_sorted` по `family_status_id` и посчитаем сколько клиентов в группах с разным\n",
    "семейным положением:**"
   ]
  },
  {
   "cell_type": "code",
   "execution_count": 33,
   "id": "21b82795-ef65-4d8b-a896-1128833b31db",
   "metadata": {},
   "outputs": [
    {
     "data": {
      "text/html": [
       "<div>\n",
       "<style scoped>\n",
       "    .dataframe tbody tr th:only-of-type {\n",
       "        vertical-align: middle;\n",
       "    }\n",
       "\n",
       "    .dataframe tbody tr th {\n",
       "        vertical-align: top;\n",
       "    }\n",
       "\n",
       "    .dataframe thead th {\n",
       "        text-align: right;\n",
       "    }\n",
       "</style>\n",
       "<table border=\"1\" class=\"dataframe\">\n",
       "  <thead>\n",
       "    <tr style=\"text-align: right;\">\n",
       "      <th></th>\n",
       "      <th>debt</th>\n",
       "    </tr>\n",
       "    <tr>\n",
       "      <th>family_status_id</th>\n",
       "      <th></th>\n",
       "    </tr>\n",
       "  </thead>\n",
       "  <tbody>\n",
       "    <tr>\n",
       "      <th>0</th>\n",
       "      <td>12261</td>\n",
       "    </tr>\n",
       "    <tr>\n",
       "      <th>1</th>\n",
       "      <td>4134</td>\n",
       "    </tr>\n",
       "    <tr>\n",
       "      <th>2</th>\n",
       "      <td>951</td>\n",
       "    </tr>\n",
       "    <tr>\n",
       "      <th>3</th>\n",
       "      <td>1189</td>\n",
       "    </tr>\n",
       "    <tr>\n",
       "      <th>4</th>\n",
       "      <td>2796</td>\n",
       "    </tr>\n",
       "  </tbody>\n",
       "</table>\n",
       "</div>"
      ],
      "text/plain": [
       "                   debt\n",
       "family_status_id       \n",
       "0                 12261\n",
       "1                  4134\n",
       "2                   951\n",
       "3                  1189\n",
       "4                  2796"
      ]
     },
     "execution_count": 33,
     "metadata": {},
     "output_type": "execute_result"
    }
   ],
   "source": [
    "number_by_family_status_id = family_status_id_debt_sorted.groupby('family_status_id').count()\n",
    "number_by_family_status_id"
   ]
  },
  {
   "cell_type": "markdown",
   "id": "2e609610",
   "metadata": {},
   "source": [
    "**Рассчитаем число тех, кто возвращал кредит в срок в каждой из групп и запишем в объект Series `in_time_payers_by_family_status_id`. Для этого сначала оставим в датесете `family_status_id_debt_sorted` только тех, у кого в столбце debt стоит 0:**"
   ]
  },
  {
   "cell_type": "code",
   "execution_count": 34,
   "id": "349ab698",
   "metadata": {},
   "outputs": [],
   "source": [
    "in_time_payers = family_status_id_debt_sorted.loc[family_status_id_debt_sorted['debt'] == 0]"
   ]
  },
  {
   "cell_type": "markdown",
   "id": "d408e7be-9287-4520-ac67-6af2df5108a9",
   "metadata": {},
   "source": [
    "**Посчитаем сколько добросовестных заемщиков в каждой группе:**"
   ]
  },
  {
   "cell_type": "code",
   "execution_count": 35,
   "id": "eb6a2569-8b09-4cec-976e-21aa883c9ed1",
   "metadata": {},
   "outputs": [
    {
     "data": {
      "text/html": [
       "<div>\n",
       "<style scoped>\n",
       "    .dataframe tbody tr th:only-of-type {\n",
       "        vertical-align: middle;\n",
       "    }\n",
       "\n",
       "    .dataframe tbody tr th {\n",
       "        vertical-align: top;\n",
       "    }\n",
       "\n",
       "    .dataframe thead th {\n",
       "        text-align: right;\n",
       "    }\n",
       "</style>\n",
       "<table border=\"1\" class=\"dataframe\">\n",
       "  <thead>\n",
       "    <tr style=\"text-align: right;\">\n",
       "      <th></th>\n",
       "      <th>debt</th>\n",
       "    </tr>\n",
       "    <tr>\n",
       "      <th>family_status_id</th>\n",
       "      <th></th>\n",
       "    </tr>\n",
       "  </thead>\n",
       "  <tbody>\n",
       "    <tr>\n",
       "      <th>0</th>\n",
       "      <td>11334</td>\n",
       "    </tr>\n",
       "    <tr>\n",
       "      <th>1</th>\n",
       "      <td>3749</td>\n",
       "    </tr>\n",
       "    <tr>\n",
       "      <th>2</th>\n",
       "      <td>888</td>\n",
       "    </tr>\n",
       "    <tr>\n",
       "      <th>3</th>\n",
       "      <td>1105</td>\n",
       "    </tr>\n",
       "    <tr>\n",
       "      <th>4</th>\n",
       "      <td>2523</td>\n",
       "    </tr>\n",
       "  </tbody>\n",
       "</table>\n",
       "</div>"
      ],
      "text/plain": [
       "                   debt\n",
       "family_status_id       \n",
       "0                 11334\n",
       "1                  3749\n",
       "2                   888\n",
       "3                  1105\n",
       "4                  2523"
      ]
     },
     "execution_count": 35,
     "metadata": {},
     "output_type": "execute_result"
    }
   ],
   "source": [
    "in_time_payers_by_family_status_id = in_time_payers.groupby('family_status_id').count()\n",
    "in_time_payers_by_family_status_id"
   ]
  },
  {
   "cell_type": "markdown",
   "id": "595ee38d",
   "metadata": {},
   "source": [
    "**Вычислим долю добросовестных заемщиков с разным семейным положением:**"
   ]
  },
  {
   "cell_type": "code",
   "execution_count": 36,
   "id": "9e39e96b",
   "metadata": {},
   "outputs": [
    {
     "name": "stdout",
     "output_type": "stream",
     "text": [
      "                   debt\n",
      "family_status_id       \n",
      "0                 0.924\n",
      "1                 0.907\n",
      "2                 0.934\n",
      "3                 0.929\n",
      "4                 0.902\n"
     ]
    }
   ],
   "source": [
    "in_time_payers_by_family_status_id_share = in_time_payers_by_family_status_id/number_by_family_status_id\n",
    "print(round(in_time_payers_by_family_status_id_share, 3)) "
   ]
  },
  {
   "cell_type": "markdown",
   "id": "6ba36e22",
   "metadata": {},
   "source": [
    "**Для удобства восприятия информации присоединим к полученной таблице данные о `family_status` из словаря `family_status_dict`:**"
   ]
  },
  {
   "cell_type": "code",
   "execution_count": 37,
   "id": "fd57f457",
   "metadata": {},
   "outputs": [
    {
     "data": {
      "text/html": [
       "<div>\n",
       "<style scoped>\n",
       "    .dataframe tbody tr th:only-of-type {\n",
       "        vertical-align: middle;\n",
       "    }\n",
       "\n",
       "    .dataframe tbody tr th {\n",
       "        vertical-align: top;\n",
       "    }\n",
       "\n",
       "    .dataframe thead th {\n",
       "        text-align: right;\n",
       "    }\n",
       "</style>\n",
       "<table border=\"1\" class=\"dataframe\">\n",
       "  <thead>\n",
       "    <tr style=\"text-align: right;\">\n",
       "      <th></th>\n",
       "      <th>family_status_id</th>\n",
       "      <th>debt</th>\n",
       "      <th>family_status</th>\n",
       "    </tr>\n",
       "  </thead>\n",
       "  <tbody>\n",
       "    <tr>\n",
       "      <th>0</th>\n",
       "      <td>0</td>\n",
       "      <td>0.924394</td>\n",
       "      <td>женат / замужем</td>\n",
       "    </tr>\n",
       "    <tr>\n",
       "      <th>1</th>\n",
       "      <td>1</td>\n",
       "      <td>0.906870</td>\n",
       "      <td>гражданский брак</td>\n",
       "    </tr>\n",
       "    <tr>\n",
       "      <th>2</th>\n",
       "      <td>2</td>\n",
       "      <td>0.933754</td>\n",
       "      <td>вдовец / вдова</td>\n",
       "    </tr>\n",
       "    <tr>\n",
       "      <th>3</th>\n",
       "      <td>3</td>\n",
       "      <td>0.929352</td>\n",
       "      <td>в разводе</td>\n",
       "    </tr>\n",
       "    <tr>\n",
       "      <th>4</th>\n",
       "      <td>4</td>\n",
       "      <td>0.902361</td>\n",
       "      <td>Не женат / не замужем</td>\n",
       "    </tr>\n",
       "  </tbody>\n",
       "</table>\n",
       "</div>"
      ],
      "text/plain": [
       "   family_status_id      debt          family_status\n",
       "0                 0  0.924394        женат / замужем\n",
       "1                 1  0.906870       гражданский брак\n",
       "2                 2  0.933754         вдовец / вдова\n",
       "3                 3  0.929352              в разводе\n",
       "4                 4  0.902361  Не женат / не замужем"
      ]
     },
     "execution_count": 37,
     "metadata": {},
     "output_type": "execute_result"
    }
   ],
   "source": [
    "in_time_payers_by_family_status_share = \\\n",
    "in_time_payers_by_family_status_id_share.merge(family_status_dict, on ='family_status_id', how ='left')\n",
    "\n",
    "in_time_payers_by_family_status_share"
   ]
  },
  {
   "cell_type": "markdown",
   "id": "63296a56",
   "metadata": {},
   "source": [
    "**Удалим колонку `family_status_id`:** "
   ]
  },
  {
   "cell_type": "code",
   "execution_count": 38,
   "id": "2f651c65",
   "metadata": {},
   "outputs": [
    {
     "data": {
      "text/html": [
       "<div>\n",
       "<style scoped>\n",
       "    .dataframe tbody tr th:only-of-type {\n",
       "        vertical-align: middle;\n",
       "    }\n",
       "\n",
       "    .dataframe tbody tr th {\n",
       "        vertical-align: top;\n",
       "    }\n",
       "\n",
       "    .dataframe thead th {\n",
       "        text-align: right;\n",
       "    }\n",
       "</style>\n",
       "<table border=\"1\" class=\"dataframe\">\n",
       "  <thead>\n",
       "    <tr style=\"text-align: right;\">\n",
       "      <th></th>\n",
       "      <th>debt</th>\n",
       "      <th>family_status</th>\n",
       "    </tr>\n",
       "  </thead>\n",
       "  <tbody>\n",
       "    <tr>\n",
       "      <th>0</th>\n",
       "      <td>0.924394</td>\n",
       "      <td>женат / замужем</td>\n",
       "    </tr>\n",
       "    <tr>\n",
       "      <th>1</th>\n",
       "      <td>0.906870</td>\n",
       "      <td>гражданский брак</td>\n",
       "    </tr>\n",
       "    <tr>\n",
       "      <th>2</th>\n",
       "      <td>0.933754</td>\n",
       "      <td>вдовец / вдова</td>\n",
       "    </tr>\n",
       "    <tr>\n",
       "      <th>3</th>\n",
       "      <td>0.929352</td>\n",
       "      <td>в разводе</td>\n",
       "    </tr>\n",
       "    <tr>\n",
       "      <th>4</th>\n",
       "      <td>0.902361</td>\n",
       "      <td>Не женат / не замужем</td>\n",
       "    </tr>\n",
       "  </tbody>\n",
       "</table>\n",
       "</div>"
      ],
      "text/plain": [
       "       debt          family_status\n",
       "0  0.924394        женат / замужем\n",
       "1  0.906870       гражданский брак\n",
       "2  0.933754         вдовец / вдова\n",
       "3  0.929352              в разводе\n",
       "4  0.902361  Не женат / не замужем"
      ]
     },
     "execution_count": 38,
     "metadata": {},
     "output_type": "execute_result"
    }
   ],
   "source": [
    "in_time_payers_by_family_status_share = in_time_payers_by_family_status_share[['debt','family_status']]\n",
    "in_time_payers_by_family_status_share"
   ]
  },
  {
   "cell_type": "markdown",
   "id": "eaff15eb",
   "metadata": {},
   "source": [
    "**Переведем значения в колонке `debt` в проценты и округлим до одного знака после запятой:**"
   ]
  },
  {
   "cell_type": "code",
   "execution_count": 39,
   "id": "6795ac31",
   "metadata": {
    "scrolled": true
   },
   "outputs": [
    {
     "data": {
      "text/html": [
       "<div>\n",
       "<style scoped>\n",
       "    .dataframe tbody tr th:only-of-type {\n",
       "        vertical-align: middle;\n",
       "    }\n",
       "\n",
       "    .dataframe tbody tr th {\n",
       "        vertical-align: top;\n",
       "    }\n",
       "\n",
       "    .dataframe thead th {\n",
       "        text-align: right;\n",
       "    }\n",
       "</style>\n",
       "<table border=\"1\" class=\"dataframe\">\n",
       "  <thead>\n",
       "    <tr style=\"text-align: right;\">\n",
       "      <th></th>\n",
       "      <th>debt</th>\n",
       "      <th>family_status</th>\n",
       "    </tr>\n",
       "  </thead>\n",
       "  <tbody>\n",
       "    <tr>\n",
       "      <th>0</th>\n",
       "      <td>92.4</td>\n",
       "      <td>женат / замужем</td>\n",
       "    </tr>\n",
       "    <tr>\n",
       "      <th>1</th>\n",
       "      <td>90.7</td>\n",
       "      <td>гражданский брак</td>\n",
       "    </tr>\n",
       "    <tr>\n",
       "      <th>2</th>\n",
       "      <td>93.4</td>\n",
       "      <td>вдовец / вдова</td>\n",
       "    </tr>\n",
       "    <tr>\n",
       "      <th>3</th>\n",
       "      <td>92.9</td>\n",
       "      <td>в разводе</td>\n",
       "    </tr>\n",
       "    <tr>\n",
       "      <th>4</th>\n",
       "      <td>90.2</td>\n",
       "      <td>Не женат / не замужем</td>\n",
       "    </tr>\n",
       "  </tbody>\n",
       "</table>\n",
       "</div>"
      ],
      "text/plain": [
       "   debt          family_status\n",
       "0  92.4        женат / замужем\n",
       "1  90.7       гражданский брак\n",
       "2  93.4         вдовец / вдова\n",
       "3  92.9              в разводе\n",
       "4  90.2  Не женат / не замужем"
      ]
     },
     "execution_count": 39,
     "metadata": {},
     "output_type": "execute_result"
    }
   ],
   "source": [
    "in_time_payers_by_family_status_share['debt'] = round(in_time_payers_by_family_status_share['debt']*100, 1)\n",
    "in_time_payers_by_family_status_share"
   ]
  },
  {
   "cell_type": "markdown",
   "id": "c8d4831f",
   "metadata": {},
   "source": [
    "**Переименуем колонку `debt` в `in_time_payers_percentage`:**"
   ]
  },
  {
   "cell_type": "code",
   "execution_count": 40,
   "id": "0c063dc7",
   "metadata": {},
   "outputs": [
    {
     "data": {
      "text/html": [
       "<div>\n",
       "<style scoped>\n",
       "    .dataframe tbody tr th:only-of-type {\n",
       "        vertical-align: middle;\n",
       "    }\n",
       "\n",
       "    .dataframe tbody tr th {\n",
       "        vertical-align: top;\n",
       "    }\n",
       "\n",
       "    .dataframe thead th {\n",
       "        text-align: right;\n",
       "    }\n",
       "</style>\n",
       "<table border=\"1\" class=\"dataframe\">\n",
       "  <thead>\n",
       "    <tr style=\"text-align: right;\">\n",
       "      <th></th>\n",
       "      <th>in_time_payers_percentage</th>\n",
       "      <th>family_status</th>\n",
       "    </tr>\n",
       "  </thead>\n",
       "  <tbody>\n",
       "    <tr>\n",
       "      <th>0</th>\n",
       "      <td>92.4</td>\n",
       "      <td>женат / замужем</td>\n",
       "    </tr>\n",
       "    <tr>\n",
       "      <th>1</th>\n",
       "      <td>90.7</td>\n",
       "      <td>гражданский брак</td>\n",
       "    </tr>\n",
       "    <tr>\n",
       "      <th>2</th>\n",
       "      <td>93.4</td>\n",
       "      <td>вдовец / вдова</td>\n",
       "    </tr>\n",
       "    <tr>\n",
       "      <th>3</th>\n",
       "      <td>92.9</td>\n",
       "      <td>в разводе</td>\n",
       "    </tr>\n",
       "    <tr>\n",
       "      <th>4</th>\n",
       "      <td>90.2</td>\n",
       "      <td>Не женат / не замужем</td>\n",
       "    </tr>\n",
       "  </tbody>\n",
       "</table>\n",
       "</div>"
      ],
      "text/plain": [
       "   in_time_payers_percentage          family_status\n",
       "0                       92.4        женат / замужем\n",
       "1                       90.7       гражданский брак\n",
       "2                       93.4         вдовец / вдова\n",
       "3                       92.9              в разводе\n",
       "4                       90.2  Не женат / не замужем"
      ]
     },
     "execution_count": 40,
     "metadata": {},
     "output_type": "execute_result"
    }
   ],
   "source": [
    "new_columns_names = {'debt':'in_time_payers_percentage', 'family_status':'family_status'}\n",
    "in_time_payers_by_family_status_share = in_time_payers_by_family_status_share.rename(columns = new_columns_names)\n",
    "in_time_payers_by_family_status_share"
   ]
  },
  {
   "cell_type": "markdown",
   "id": "c389ca63",
   "metadata": {
    "deletable": false,
    "id": "c389ca63"
   },
   "source": [
    "**Вывод:**\n",
    "- Зависимость между семейным положением и возвратом кредита в срок есть. Чаще других (93.4 %) кредиты в срок возвращают вдовы/вдовцы, немного реже - люди, находящиеся в разводе (92.9 %), и замужние/женатые (92.4 %). Самые низкие вероятности возврата кредита в срок демонстрируют люди, состоящие в гражданском браке (90.7 %) и холостяки (90.2 %). \n",
    "\n",
    "- Существует ли достоверная разница между этими процентами - вопрос, на который можно ответить, применив стат. методы. анализа. Размеры выборок для этого вполне достаточны. "
   ]
  },
  {
   "cell_type": "markdown",
   "id": "9529de68",
   "metadata": {
    "deletable": true,
    "id": "9529de68",
    "tags": []
   },
   "source": [
    "### Есть ли зависимость между уровнем дохода и возвратом кредита в срок?"
   ]
  },
  {
   "cell_type": "markdown",
   "id": "522ea394",
   "metadata": {
    "deletable": false,
    "id": "8787f44a"
   },
   "source": [
    "**Чтобы не работать с большой таблицей, создадим новую, в которой будут только данные о наличии задолженности по кредиту `debt` и категории дохода `total_income_category`:**"
   ]
  },
  {
   "cell_type": "code",
   "execution_count": 41,
   "id": "6a8c7e03",
   "metadata": {},
   "outputs": [
    {
     "data": {
      "text/html": [
       "<div>\n",
       "<style scoped>\n",
       "    .dataframe tbody tr th:only-of-type {\n",
       "        vertical-align: middle;\n",
       "    }\n",
       "\n",
       "    .dataframe tbody tr th {\n",
       "        vertical-align: top;\n",
       "    }\n",
       "\n",
       "    .dataframe thead th {\n",
       "        text-align: right;\n",
       "    }\n",
       "</style>\n",
       "<table border=\"1\" class=\"dataframe\">\n",
       "  <thead>\n",
       "    <tr style=\"text-align: right;\">\n",
       "      <th></th>\n",
       "      <th>total_income_category</th>\n",
       "      <th>debt</th>\n",
       "    </tr>\n",
       "  </thead>\n",
       "  <tbody>\n",
       "    <tr>\n",
       "      <th>4415</th>\n",
       "      <td>A</td>\n",
       "      <td>1</td>\n",
       "    </tr>\n",
       "    <tr>\n",
       "      <th>11071</th>\n",
       "      <td>A</td>\n",
       "      <td>0</td>\n",
       "    </tr>\n",
       "    <tr>\n",
       "      <th>15268</th>\n",
       "      <td>A</td>\n",
       "      <td>0</td>\n",
       "    </tr>\n",
       "    <tr>\n",
       "      <th>18766</th>\n",
       "      <td>A</td>\n",
       "      <td>0</td>\n",
       "    </tr>\n",
       "    <tr>\n",
       "      <th>4129</th>\n",
       "      <td>A</td>\n",
       "      <td>0</td>\n",
       "    </tr>\n",
       "    <tr>\n",
       "      <th>18368</th>\n",
       "      <td>A</td>\n",
       "      <td>0</td>\n",
       "    </tr>\n",
       "    <tr>\n",
       "      <th>1590</th>\n",
       "      <td>A</td>\n",
       "      <td>0</td>\n",
       "    </tr>\n",
       "    <tr>\n",
       "      <th>10004</th>\n",
       "      <td>A</td>\n",
       "      <td>0</td>\n",
       "    </tr>\n",
       "    <tr>\n",
       "      <th>19338</th>\n",
       "      <td>A</td>\n",
       "      <td>0</td>\n",
       "    </tr>\n",
       "    <tr>\n",
       "      <th>13090</th>\n",
       "      <td>A</td>\n",
       "      <td>0</td>\n",
       "    </tr>\n",
       "  </tbody>\n",
       "</table>\n",
       "</div>"
      ],
      "text/plain": [
       "      total_income_category  debt\n",
       "4415                      A     1\n",
       "11071                     A     0\n",
       "15268                     A     0\n",
       "18766                     A     0\n",
       "4129                      A     0\n",
       "18368                     A     0\n",
       "1590                      A     0\n",
       "10004                     A     0\n",
       "19338                     A     0\n",
       "13090                     A     0"
      ]
     },
     "execution_count": 41,
     "metadata": {},
     "output_type": "execute_result"
    }
   ],
   "source": [
    "income_category_debt = data[['total_income_category', 'debt']].sort_values(by='total_income_category', ascending = True)\n",
    "income_category_debt.head(10)"
   ]
  },
  {
   "cell_type": "markdown",
   "id": "1113ebae",
   "metadata": {},
   "source": [
    "**Посчитаем число заемщиков в каждой категории дохода:**"
   ]
  },
  {
   "cell_type": "code",
   "execution_count": 42,
   "id": "a574dc9a",
   "metadata": {},
   "outputs": [
    {
     "data": {
      "text/html": [
       "<div>\n",
       "<style scoped>\n",
       "    .dataframe tbody tr th:only-of-type {\n",
       "        vertical-align: middle;\n",
       "    }\n",
       "\n",
       "    .dataframe tbody tr th {\n",
       "        vertical-align: top;\n",
       "    }\n",
       "\n",
       "    .dataframe thead th {\n",
       "        text-align: right;\n",
       "    }\n",
       "</style>\n",
       "<table border=\"1\" class=\"dataframe\">\n",
       "  <thead>\n",
       "    <tr style=\"text-align: right;\">\n",
       "      <th></th>\n",
       "      <th>debt</th>\n",
       "    </tr>\n",
       "    <tr>\n",
       "      <th>total_income_category</th>\n",
       "      <th></th>\n",
       "    </tr>\n",
       "  </thead>\n",
       "  <tbody>\n",
       "    <tr>\n",
       "      <th>A</th>\n",
       "      <td>25</td>\n",
       "    </tr>\n",
       "    <tr>\n",
       "      <th>B</th>\n",
       "      <td>5014</td>\n",
       "    </tr>\n",
       "    <tr>\n",
       "      <th>C</th>\n",
       "      <td>15921</td>\n",
       "    </tr>\n",
       "    <tr>\n",
       "      <th>D</th>\n",
       "      <td>349</td>\n",
       "    </tr>\n",
       "    <tr>\n",
       "      <th>E</th>\n",
       "      <td>22</td>\n",
       "    </tr>\n",
       "  </tbody>\n",
       "</table>\n",
       "</div>"
      ],
      "text/plain": [
       "                        debt\n",
       "total_income_category       \n",
       "A                         25\n",
       "B                       5014\n",
       "C                      15921\n",
       "D                        349\n",
       "E                         22"
      ]
     },
     "execution_count": 42,
     "metadata": {},
     "output_type": "execute_result"
    }
   ],
   "source": [
    "number_by_income_category = income_category_debt.groupby('total_income_category').count()\n",
    "number_by_income_category"
   ]
  },
  {
   "cell_type": "markdown",
   "id": "22487858",
   "metadata": {},
   "source": [
    "**Найдем число добросовестных заемщиков в каждой категории. Для этого сначала создадим таблицу, в которой присутствуют только те, кто отдал кредит в срок, а затем рассчитаем число добросовестных заемщиков по каждой категории дохода:**"
   ]
  },
  {
   "cell_type": "code",
   "execution_count": 43,
   "id": "2f68ca39",
   "metadata": {},
   "outputs": [
    {
     "data": {
      "text/html": [
       "<div>\n",
       "<style scoped>\n",
       "    .dataframe tbody tr th:only-of-type {\n",
       "        vertical-align: middle;\n",
       "    }\n",
       "\n",
       "    .dataframe tbody tr th {\n",
       "        vertical-align: top;\n",
       "    }\n",
       "\n",
       "    .dataframe thead th {\n",
       "        text-align: right;\n",
       "    }\n",
       "</style>\n",
       "<table border=\"1\" class=\"dataframe\">\n",
       "  <thead>\n",
       "    <tr style=\"text-align: right;\">\n",
       "      <th></th>\n",
       "      <th>debt</th>\n",
       "    </tr>\n",
       "    <tr>\n",
       "      <th>total_income_category</th>\n",
       "      <th></th>\n",
       "    </tr>\n",
       "  </thead>\n",
       "  <tbody>\n",
       "    <tr>\n",
       "      <th>A</th>\n",
       "      <td>23</td>\n",
       "    </tr>\n",
       "    <tr>\n",
       "      <th>B</th>\n",
       "      <td>4660</td>\n",
       "    </tr>\n",
       "    <tr>\n",
       "      <th>C</th>\n",
       "      <td>14568</td>\n",
       "    </tr>\n",
       "    <tr>\n",
       "      <th>D</th>\n",
       "      <td>328</td>\n",
       "    </tr>\n",
       "    <tr>\n",
       "      <th>E</th>\n",
       "      <td>20</td>\n",
       "    </tr>\n",
       "  </tbody>\n",
       "</table>\n",
       "</div>"
      ],
      "text/plain": [
       "                        debt\n",
       "total_income_category       \n",
       "A                         23\n",
       "B                       4660\n",
       "C                      14568\n",
       "D                        328\n",
       "E                         20"
      ]
     },
     "execution_count": 43,
     "metadata": {},
     "output_type": "execute_result"
    }
   ],
   "source": [
    "in_time_payers_by_income_category = income_category_debt.loc[income_category_debt['debt'] == 0]\n",
    "in_time_payers_by_income_category = in_time_payers_by_income_category.groupby('total_income_category').count()\n",
    "in_time_payers_by_income_category"
   ]
  },
  {
   "cell_type": "markdown",
   "id": "3c4b38ae",
   "metadata": {},
   "source": [
    "**Рассчитаем `in_time_payers_share_by_income_category` - долю добросовестных заемщиков  в каждой категории дохода:**"
   ]
  },
  {
   "cell_type": "code",
   "execution_count": 44,
   "id": "14a0eac8",
   "metadata": {},
   "outputs": [
    {
     "data": {
      "text/html": [
       "<div>\n",
       "<style scoped>\n",
       "    .dataframe tbody tr th:only-of-type {\n",
       "        vertical-align: middle;\n",
       "    }\n",
       "\n",
       "    .dataframe tbody tr th {\n",
       "        vertical-align: top;\n",
       "    }\n",
       "\n",
       "    .dataframe thead th {\n",
       "        text-align: right;\n",
       "    }\n",
       "</style>\n",
       "<table border=\"1\" class=\"dataframe\">\n",
       "  <thead>\n",
       "    <tr style=\"text-align: right;\">\n",
       "      <th></th>\n",
       "      <th>debt</th>\n",
       "    </tr>\n",
       "    <tr>\n",
       "      <th>total_income_category</th>\n",
       "      <th></th>\n",
       "    </tr>\n",
       "  </thead>\n",
       "  <tbody>\n",
       "    <tr>\n",
       "      <th>A</th>\n",
       "      <td>0.920000</td>\n",
       "    </tr>\n",
       "    <tr>\n",
       "      <th>B</th>\n",
       "      <td>0.929398</td>\n",
       "    </tr>\n",
       "    <tr>\n",
       "      <th>C</th>\n",
       "      <td>0.915018</td>\n",
       "    </tr>\n",
       "    <tr>\n",
       "      <th>D</th>\n",
       "      <td>0.939828</td>\n",
       "    </tr>\n",
       "    <tr>\n",
       "      <th>E</th>\n",
       "      <td>0.909091</td>\n",
       "    </tr>\n",
       "  </tbody>\n",
       "</table>\n",
       "</div>"
      ],
      "text/plain": [
       "                           debt\n",
       "total_income_category          \n",
       "A                      0.920000\n",
       "B                      0.929398\n",
       "C                      0.915018\n",
       "D                      0.939828\n",
       "E                      0.909091"
      ]
     },
     "execution_count": 44,
     "metadata": {},
     "output_type": "execute_result"
    }
   ],
   "source": [
    "in_time_payers_share_by_income_category = in_time_payers_by_income_category/number_by_income_category\n",
    "in_time_payers_share_by_income_category"
   ]
  },
  {
   "cell_type": "markdown",
   "id": "0b0ab345",
   "metadata": {},
   "source": [
    "**Переведем значения в колонке `debt` в проценты и округлим до одного знака после запятой:**"
   ]
  },
  {
   "cell_type": "code",
   "execution_count": 45,
   "id": "412e2198",
   "metadata": {},
   "outputs": [
    {
     "data": {
      "text/html": [
       "<div>\n",
       "<style scoped>\n",
       "    .dataframe tbody tr th:only-of-type {\n",
       "        vertical-align: middle;\n",
       "    }\n",
       "\n",
       "    .dataframe tbody tr th {\n",
       "        vertical-align: top;\n",
       "    }\n",
       "\n",
       "    .dataframe thead th {\n",
       "        text-align: right;\n",
       "    }\n",
       "</style>\n",
       "<table border=\"1\" class=\"dataframe\">\n",
       "  <thead>\n",
       "    <tr style=\"text-align: right;\">\n",
       "      <th></th>\n",
       "      <th>debt</th>\n",
       "    </tr>\n",
       "    <tr>\n",
       "      <th>total_income_category</th>\n",
       "      <th></th>\n",
       "    </tr>\n",
       "  </thead>\n",
       "  <tbody>\n",
       "    <tr>\n",
       "      <th>A</th>\n",
       "      <td>92.0</td>\n",
       "    </tr>\n",
       "    <tr>\n",
       "      <th>B</th>\n",
       "      <td>92.9</td>\n",
       "    </tr>\n",
       "    <tr>\n",
       "      <th>C</th>\n",
       "      <td>91.5</td>\n",
       "    </tr>\n",
       "    <tr>\n",
       "      <th>D</th>\n",
       "      <td>94.0</td>\n",
       "    </tr>\n",
       "    <tr>\n",
       "      <th>E</th>\n",
       "      <td>90.9</td>\n",
       "    </tr>\n",
       "  </tbody>\n",
       "</table>\n",
       "</div>"
      ],
      "text/plain": [
       "                       debt\n",
       "total_income_category      \n",
       "A                      92.0\n",
       "B                      92.9\n",
       "C                      91.5\n",
       "D                      94.0\n",
       "E                      90.9"
      ]
     },
     "execution_count": 45,
     "metadata": {},
     "output_type": "execute_result"
    }
   ],
   "source": [
    "in_time_payers_share_by_income_category['debt'] = round(in_time_payers_share_by_income_category['debt']*100, 1)\n",
    "in_time_payers_share_by_income_category"
   ]
  },
  {
   "cell_type": "markdown",
   "id": "9e210165",
   "metadata": {},
   "source": [
    "**Переименуем колонку `debt` в `in_time_payers_percentage`**"
   ]
  },
  {
   "cell_type": "code",
   "execution_count": 46,
   "id": "b908296b",
   "metadata": {},
   "outputs": [
    {
     "data": {
      "text/html": [
       "<div>\n",
       "<style scoped>\n",
       "    .dataframe tbody tr th:only-of-type {\n",
       "        vertical-align: middle;\n",
       "    }\n",
       "\n",
       "    .dataframe tbody tr th {\n",
       "        vertical-align: top;\n",
       "    }\n",
       "\n",
       "    .dataframe thead th {\n",
       "        text-align: right;\n",
       "    }\n",
       "</style>\n",
       "<table border=\"1\" class=\"dataframe\">\n",
       "  <thead>\n",
       "    <tr style=\"text-align: right;\">\n",
       "      <th></th>\n",
       "      <th>in_time_payers_percentage</th>\n",
       "    </tr>\n",
       "    <tr>\n",
       "      <th>total_income_category</th>\n",
       "      <th></th>\n",
       "    </tr>\n",
       "  </thead>\n",
       "  <tbody>\n",
       "    <tr>\n",
       "      <th>A</th>\n",
       "      <td>92.0</td>\n",
       "    </tr>\n",
       "    <tr>\n",
       "      <th>B</th>\n",
       "      <td>92.9</td>\n",
       "    </tr>\n",
       "    <tr>\n",
       "      <th>C</th>\n",
       "      <td>91.5</td>\n",
       "    </tr>\n",
       "    <tr>\n",
       "      <th>D</th>\n",
       "      <td>94.0</td>\n",
       "    </tr>\n",
       "    <tr>\n",
       "      <th>E</th>\n",
       "      <td>90.9</td>\n",
       "    </tr>\n",
       "  </tbody>\n",
       "</table>\n",
       "</div>"
      ],
      "text/plain": [
       "                       in_time_payers_percentage\n",
       "total_income_category                           \n",
       "A                                           92.0\n",
       "B                                           92.9\n",
       "C                                           91.5\n",
       "D                                           94.0\n",
       "E                                           90.9"
      ]
     },
     "execution_count": 46,
     "metadata": {},
     "output_type": "execute_result"
    }
   ],
   "source": [
    "new_columns_names = {'total_income_category':'total_income_category', 'debt':'in_time_payers_percentage'}\n",
    "in_time_payers_share_by_income_category = in_time_payers_share_by_income_category.rename(columns = new_columns_names)\n",
    "in_time_payers_share_by_income_category"
   ]
  },
  {
   "cell_type": "markdown",
   "id": "d413e58b",
   "metadata": {},
   "source": [
    "**Чтобы было удобнее ориентироваться в категориях дохода, создадим столбец `income_category_description` с расшифровкой:**"
   ]
  },
  {
   "cell_type": "code",
   "execution_count": 47,
   "id": "a93e2002",
   "metadata": {},
   "outputs": [
    {
     "data": {
      "text/html": [
       "<div>\n",
       "<style scoped>\n",
       "    .dataframe tbody tr th:only-of-type {\n",
       "        vertical-align: middle;\n",
       "    }\n",
       "\n",
       "    .dataframe tbody tr th {\n",
       "        vertical-align: top;\n",
       "    }\n",
       "\n",
       "    .dataframe thead th {\n",
       "        text-align: right;\n",
       "    }\n",
       "</style>\n",
       "<table border=\"1\" class=\"dataframe\">\n",
       "  <thead>\n",
       "    <tr style=\"text-align: right;\">\n",
       "      <th></th>\n",
       "      <th>in_time_payers_percentage</th>\n",
       "      <th>income_category_description</th>\n",
       "    </tr>\n",
       "    <tr>\n",
       "      <th>total_income_category</th>\n",
       "      <th></th>\n",
       "      <th></th>\n",
       "    </tr>\n",
       "  </thead>\n",
       "  <tbody>\n",
       "    <tr>\n",
       "      <th>A</th>\n",
       "      <td>92.0</td>\n",
       "      <td>1000001 и выше</td>\n",
       "    </tr>\n",
       "    <tr>\n",
       "      <th>B</th>\n",
       "      <td>92.9</td>\n",
       "      <td>200001-1000000</td>\n",
       "    </tr>\n",
       "    <tr>\n",
       "      <th>C</th>\n",
       "      <td>91.5</td>\n",
       "      <td>50001-200000</td>\n",
       "    </tr>\n",
       "    <tr>\n",
       "      <th>D</th>\n",
       "      <td>94.0</td>\n",
       "      <td>30001-50000</td>\n",
       "    </tr>\n",
       "    <tr>\n",
       "      <th>E</th>\n",
       "      <td>90.9</td>\n",
       "      <td>0-30000</td>\n",
       "    </tr>\n",
       "  </tbody>\n",
       "</table>\n",
       "</div>"
      ],
      "text/plain": [
       "                       in_time_payers_percentage income_category_description\n",
       "total_income_category                                                       \n",
       "A                                           92.0              1000001 и выше\n",
       "B                                           92.9              200001-1000000\n",
       "C                                           91.5                50001-200000\n",
       "D                                           94.0                 30001-50000\n",
       "E                                           90.9                     0-30000"
      ]
     },
     "execution_count": 47,
     "metadata": {},
     "output_type": "execute_result"
    }
   ],
   "source": [
    "in_time_payers_share_by_income_category['income_category_description'] = ['1000001 и выше', '200001-1000000',\\\n",
    "                                                                          '50001-200000', '30001-50000', '0-30000'] \n",
    "in_time_payers_share_by_income_category"
   ]
  },
  {
   "cell_type": "markdown",
   "id": "6dd14b57",
   "metadata": {
    "deletable": false,
    "id": "6dd14b57"
   },
   "source": [
    "**Вывод:**\n",
    "- Зависимость между уровнем дохода и возвратом кредита в срок есть. Чаще других кредиты в срок возвращают люди с доходом в категории D (30001-50000) - в 94.0 % случаев. Более низкие проценты возврата кредита в срок у клиентов с доходом категорий B (200001-1000000) и С (50001-200000) - 92.9 и 91.5 %, соответственно.\n",
    "- Проценты возвратов кредита в срок в группах с доходом уровня A и E сложно назвать репрезентативными, поскольку число таких клиентов невелико  - 25 и 22 человека, соответственно. Таким образом, вклад любого из клиентов в этих группах в среднегрупповой процент отдачи кредита в срок составляет 4 и 4.5 % соответственно, что больше выявленных нами различий между группами.   "
   ]
  },
  {
   "cell_type": "markdown",
   "id": "1dcc9b12",
   "metadata": {
    "deletable": true,
    "id": "1dcc9b12",
    "tags": []
   },
   "source": [
    "### Как разные цели кредита влияют на его возврат в срок?"
   ]
  },
  {
   "cell_type": "markdown",
   "id": "7205e997",
   "metadata": {},
   "source": [
    "**Выберем из датасета data, только те столбцы, которые содержат информацию, нужную для ответа на поставленный вопрос:**"
   ]
  },
  {
   "cell_type": "code",
   "execution_count": 48,
   "id": "c602bc8b",
   "metadata": {
    "deletable": false,
    "id": "c602bc8b"
   },
   "outputs": [
    {
     "data": {
      "text/html": [
       "<div>\n",
       "<style scoped>\n",
       "    .dataframe tbody tr th:only-of-type {\n",
       "        vertical-align: middle;\n",
       "    }\n",
       "\n",
       "    .dataframe tbody tr th {\n",
       "        vertical-align: top;\n",
       "    }\n",
       "\n",
       "    .dataframe thead th {\n",
       "        text-align: right;\n",
       "    }\n",
       "</style>\n",
       "<table border=\"1\" class=\"dataframe\">\n",
       "  <thead>\n",
       "    <tr style=\"text-align: right;\">\n",
       "      <th></th>\n",
       "      <th>purpose_category</th>\n",
       "      <th>debt</th>\n",
       "    </tr>\n",
       "  </thead>\n",
       "  <tbody>\n",
       "    <tr>\n",
       "      <th>0</th>\n",
       "      <td>операции с недвижимостью</td>\n",
       "      <td>0</td>\n",
       "    </tr>\n",
       "    <tr>\n",
       "      <th>1</th>\n",
       "      <td>операции с автомобилем</td>\n",
       "      <td>0</td>\n",
       "    </tr>\n",
       "    <tr>\n",
       "      <th>2</th>\n",
       "      <td>операции с недвижимостью</td>\n",
       "      <td>0</td>\n",
       "    </tr>\n",
       "    <tr>\n",
       "      <th>3</th>\n",
       "      <td>получение образования</td>\n",
       "      <td>0</td>\n",
       "    </tr>\n",
       "    <tr>\n",
       "      <th>4</th>\n",
       "      <td>проведение свадьбы</td>\n",
       "      <td>0</td>\n",
       "    </tr>\n",
       "    <tr>\n",
       "      <th>5</th>\n",
       "      <td>операции с недвижимостью</td>\n",
       "      <td>0</td>\n",
       "    </tr>\n",
       "    <tr>\n",
       "      <th>6</th>\n",
       "      <td>операции с недвижимостью</td>\n",
       "      <td>0</td>\n",
       "    </tr>\n",
       "    <tr>\n",
       "      <th>7</th>\n",
       "      <td>получение образования</td>\n",
       "      <td>0</td>\n",
       "    </tr>\n",
       "    <tr>\n",
       "      <th>8</th>\n",
       "      <td>проведение свадьбы</td>\n",
       "      <td>0</td>\n",
       "    </tr>\n",
       "    <tr>\n",
       "      <th>9</th>\n",
       "      <td>операции с недвижимостью</td>\n",
       "      <td>0</td>\n",
       "    </tr>\n",
       "  </tbody>\n",
       "</table>\n",
       "</div>"
      ],
      "text/plain": [
       "           purpose_category  debt\n",
       "0  операции с недвижимостью     0\n",
       "1    операции с автомобилем     0\n",
       "2  операции с недвижимостью     0\n",
       "3     получение образования     0\n",
       "4        проведение свадьбы     0\n",
       "5  операции с недвижимостью     0\n",
       "6  операции с недвижимостью     0\n",
       "7     получение образования     0\n",
       "8        проведение свадьбы     0\n",
       "9  операции с недвижимостью     0"
      ]
     },
     "execution_count": 48,
     "metadata": {},
     "output_type": "execute_result"
    }
   ],
   "source": [
    "purpose_debt = data[['purpose_category','debt']]\n",
    "purpose_debt.head(10)"
   ]
  },
  {
   "cell_type": "markdown",
   "id": "4d05be2b",
   "metadata": {},
   "source": [
    "**Получим список уникальных целей на получение кредита - `purpose_list`:**"
   ]
  },
  {
   "cell_type": "code",
   "execution_count": 49,
   "id": "60eae7d6",
   "metadata": {
    "scrolled": true
   },
   "outputs": [
    {
     "data": {
      "text/plain": [
       "array(['операции с недвижимостью', 'операции с автомобилем',\n",
       "       'получение образования', 'проведение свадьбы'], dtype=object)"
      ]
     },
     "execution_count": 49,
     "metadata": {},
     "output_type": "execute_result"
    }
   ],
   "source": [
    "purpose_list = purpose_debt['purpose_category'].unique()\n",
    "purpose_list"
   ]
  },
  {
   "cell_type": "markdown",
   "id": "ccecfaf8",
   "metadata": {},
   "source": [
    "**Создадим функцию `purpose_id()`, которая возвращает идентификатор от 1 до 4 в зависимости от категории цели кредита:**"
   ]
  },
  {
   "cell_type": "code",
   "execution_count": 50,
   "id": "e33ff5a9",
   "metadata": {},
   "outputs": [],
   "source": [
    "def purpose_id(purpose_category):\n",
    "    if purpose_category == 'операции с недвижимостью':\n",
    "        return 1\n",
    "    elif purpose_category == 'операции с автомобилем':\n",
    "        return 2\n",
    "    elif purpose_category == 'получение образования':\n",
    "        return 3\n",
    "    elif purpose_category == 'проведение свадьбы':\n",
    "        return 4\n",
    "    return 'other'"
   ]
  },
  {
   "cell_type": "markdown",
   "id": "7e72582f",
   "metadata": {},
   "source": [
    "**При помощи функции `purpose_id()` создадим в датасете `purpose_debt` новый столбец `purpose_category_id`:**"
   ]
  },
  {
   "cell_type": "code",
   "execution_count": 51,
   "id": "b70606ff",
   "metadata": {},
   "outputs": [
    {
     "data": {
      "text/html": [
       "<div>\n",
       "<style scoped>\n",
       "    .dataframe tbody tr th:only-of-type {\n",
       "        vertical-align: middle;\n",
       "    }\n",
       "\n",
       "    .dataframe tbody tr th {\n",
       "        vertical-align: top;\n",
       "    }\n",
       "\n",
       "    .dataframe thead th {\n",
       "        text-align: right;\n",
       "    }\n",
       "</style>\n",
       "<table border=\"1\" class=\"dataframe\">\n",
       "  <thead>\n",
       "    <tr style=\"text-align: right;\">\n",
       "      <th></th>\n",
       "      <th>purpose_category</th>\n",
       "      <th>debt</th>\n",
       "      <th>purpose_category_id</th>\n",
       "    </tr>\n",
       "  </thead>\n",
       "  <tbody>\n",
       "    <tr>\n",
       "      <th>0</th>\n",
       "      <td>операции с недвижимостью</td>\n",
       "      <td>0</td>\n",
       "      <td>1</td>\n",
       "    </tr>\n",
       "    <tr>\n",
       "      <th>1</th>\n",
       "      <td>операции с автомобилем</td>\n",
       "      <td>0</td>\n",
       "      <td>2</td>\n",
       "    </tr>\n",
       "    <tr>\n",
       "      <th>2</th>\n",
       "      <td>операции с недвижимостью</td>\n",
       "      <td>0</td>\n",
       "      <td>1</td>\n",
       "    </tr>\n",
       "    <tr>\n",
       "      <th>3</th>\n",
       "      <td>получение образования</td>\n",
       "      <td>0</td>\n",
       "      <td>3</td>\n",
       "    </tr>\n",
       "    <tr>\n",
       "      <th>4</th>\n",
       "      <td>проведение свадьбы</td>\n",
       "      <td>0</td>\n",
       "      <td>4</td>\n",
       "    </tr>\n",
       "    <tr>\n",
       "      <th>...</th>\n",
       "      <td>...</td>\n",
       "      <td>...</td>\n",
       "      <td>...</td>\n",
       "    </tr>\n",
       "    <tr>\n",
       "      <th>21520</th>\n",
       "      <td>операции с недвижимостью</td>\n",
       "      <td>0</td>\n",
       "      <td>1</td>\n",
       "    </tr>\n",
       "    <tr>\n",
       "      <th>21521</th>\n",
       "      <td>операции с автомобилем</td>\n",
       "      <td>0</td>\n",
       "      <td>2</td>\n",
       "    </tr>\n",
       "    <tr>\n",
       "      <th>21522</th>\n",
       "      <td>операции с недвижимостью</td>\n",
       "      <td>1</td>\n",
       "      <td>1</td>\n",
       "    </tr>\n",
       "    <tr>\n",
       "      <th>21523</th>\n",
       "      <td>операции с автомобилем</td>\n",
       "      <td>1</td>\n",
       "      <td>2</td>\n",
       "    </tr>\n",
       "    <tr>\n",
       "      <th>21524</th>\n",
       "      <td>операции с автомобилем</td>\n",
       "      <td>0</td>\n",
       "      <td>2</td>\n",
       "    </tr>\n",
       "  </tbody>\n",
       "</table>\n",
       "<p>21331 rows × 3 columns</p>\n",
       "</div>"
      ],
      "text/plain": [
       "               purpose_category  debt  purpose_category_id\n",
       "0      операции с недвижимостью     0                    1\n",
       "1        операции с автомобилем     0                    2\n",
       "2      операции с недвижимостью     0                    1\n",
       "3         получение образования     0                    3\n",
       "4            проведение свадьбы     0                    4\n",
       "...                         ...   ...                  ...\n",
       "21520  операции с недвижимостью     0                    1\n",
       "21521    операции с автомобилем     0                    2\n",
       "21522  операции с недвижимостью     1                    1\n",
       "21523    операции с автомобилем     1                    2\n",
       "21524    операции с автомобилем     0                    2\n",
       "\n",
       "[21331 rows x 3 columns]"
      ]
     },
     "execution_count": 51,
     "metadata": {},
     "output_type": "execute_result"
    }
   ],
   "source": [
    "purpose_debt['purpose_category_id'] = purpose_debt['purpose_category'].apply(purpose_id)\n",
    "purpose_debt"
   ]
  },
  {
   "cell_type": "markdown",
   "id": "4d0c8166",
   "metadata": {},
   "source": [
    "**Создадим словарь `purpose_dict`, в котором будут записаны категории целей и их идентификаторы:**"
   ]
  },
  {
   "cell_type": "code",
   "execution_count": 52,
   "id": "724d14b2",
   "metadata": {},
   "outputs": [
    {
     "data": {
      "text/html": [
       "<div>\n",
       "<style scoped>\n",
       "    .dataframe tbody tr th:only-of-type {\n",
       "        vertical-align: middle;\n",
       "    }\n",
       "\n",
       "    .dataframe tbody tr th {\n",
       "        vertical-align: top;\n",
       "    }\n",
       "\n",
       "    .dataframe thead th {\n",
       "        text-align: right;\n",
       "    }\n",
       "</style>\n",
       "<table border=\"1\" class=\"dataframe\">\n",
       "  <thead>\n",
       "    <tr style=\"text-align: right;\">\n",
       "      <th></th>\n",
       "      <th>purpose_category_id</th>\n",
       "      <th>purpose_category</th>\n",
       "    </tr>\n",
       "  </thead>\n",
       "  <tbody>\n",
       "    <tr>\n",
       "      <th>0</th>\n",
       "      <td>1</td>\n",
       "      <td>операции с недвижимостью</td>\n",
       "    </tr>\n",
       "    <tr>\n",
       "      <th>1</th>\n",
       "      <td>2</td>\n",
       "      <td>операции с автомобилем</td>\n",
       "    </tr>\n",
       "    <tr>\n",
       "      <th>3</th>\n",
       "      <td>3</td>\n",
       "      <td>получение образования</td>\n",
       "    </tr>\n",
       "    <tr>\n",
       "      <th>4</th>\n",
       "      <td>4</td>\n",
       "      <td>проведение свадьбы</td>\n",
       "    </tr>\n",
       "  </tbody>\n",
       "</table>\n",
       "</div>"
      ],
      "text/plain": [
       "   purpose_category_id          purpose_category\n",
       "0                    1  операции с недвижимостью\n",
       "1                    2    операции с автомобилем\n",
       "3                    3     получение образования\n",
       "4                    4        проведение свадьбы"
      ]
     },
     "execution_count": 52,
     "metadata": {},
     "output_type": "execute_result"
    }
   ],
   "source": [
    "purpose_dict = purpose_debt[['purpose_category_id', 'purpose_category']]\n",
    "\n",
    "# Удалим дубликаты:\n",
    "purpose_dict = purpose_dict.drop_duplicates()\n",
    "purpose_dict"
   ]
  },
  {
   "cell_type": "markdown",
   "id": "3085c86d",
   "metadata": {},
   "source": [
    "**Уберем из таблицы `purpose_debt` текстовые описания категорий `purpose_category`:**"
   ]
  },
  {
   "cell_type": "code",
   "execution_count": 53,
   "id": "7410675f",
   "metadata": {},
   "outputs": [
    {
     "data": {
      "text/html": [
       "<div>\n",
       "<style scoped>\n",
       "    .dataframe tbody tr th:only-of-type {\n",
       "        vertical-align: middle;\n",
       "    }\n",
       "\n",
       "    .dataframe tbody tr th {\n",
       "        vertical-align: top;\n",
       "    }\n",
       "\n",
       "    .dataframe thead th {\n",
       "        text-align: right;\n",
       "    }\n",
       "</style>\n",
       "<table border=\"1\" class=\"dataframe\">\n",
       "  <thead>\n",
       "    <tr style=\"text-align: right;\">\n",
       "      <th></th>\n",
       "      <th>purpose_category_id</th>\n",
       "      <th>debt</th>\n",
       "    </tr>\n",
       "  </thead>\n",
       "  <tbody>\n",
       "    <tr>\n",
       "      <th>0</th>\n",
       "      <td>1</td>\n",
       "      <td>0</td>\n",
       "    </tr>\n",
       "    <tr>\n",
       "      <th>1</th>\n",
       "      <td>2</td>\n",
       "      <td>0</td>\n",
       "    </tr>\n",
       "    <tr>\n",
       "      <th>2</th>\n",
       "      <td>1</td>\n",
       "      <td>0</td>\n",
       "    </tr>\n",
       "    <tr>\n",
       "      <th>3</th>\n",
       "      <td>3</td>\n",
       "      <td>0</td>\n",
       "    </tr>\n",
       "    <tr>\n",
       "      <th>4</th>\n",
       "      <td>4</td>\n",
       "      <td>0</td>\n",
       "    </tr>\n",
       "    <tr>\n",
       "      <th>...</th>\n",
       "      <td>...</td>\n",
       "      <td>...</td>\n",
       "    </tr>\n",
       "    <tr>\n",
       "      <th>21520</th>\n",
       "      <td>1</td>\n",
       "      <td>0</td>\n",
       "    </tr>\n",
       "    <tr>\n",
       "      <th>21521</th>\n",
       "      <td>2</td>\n",
       "      <td>0</td>\n",
       "    </tr>\n",
       "    <tr>\n",
       "      <th>21522</th>\n",
       "      <td>1</td>\n",
       "      <td>1</td>\n",
       "    </tr>\n",
       "    <tr>\n",
       "      <th>21523</th>\n",
       "      <td>2</td>\n",
       "      <td>1</td>\n",
       "    </tr>\n",
       "    <tr>\n",
       "      <th>21524</th>\n",
       "      <td>2</td>\n",
       "      <td>0</td>\n",
       "    </tr>\n",
       "  </tbody>\n",
       "</table>\n",
       "<p>21331 rows × 2 columns</p>\n",
       "</div>"
      ],
      "text/plain": [
       "       purpose_category_id  debt\n",
       "0                        1     0\n",
       "1                        2     0\n",
       "2                        1     0\n",
       "3                        3     0\n",
       "4                        4     0\n",
       "...                    ...   ...\n",
       "21520                    1     0\n",
       "21521                    2     0\n",
       "21522                    1     1\n",
       "21523                    2     1\n",
       "21524                    2     0\n",
       "\n",
       "[21331 rows x 2 columns]"
      ]
     },
     "execution_count": 53,
     "metadata": {},
     "output_type": "execute_result"
    }
   ],
   "source": [
    "purpose_debt = purpose_debt[['purpose_category_id','debt']]\n",
    "purpose_debt"
   ]
  },
  {
   "cell_type": "markdown",
   "id": "830fa46c",
   "metadata": {},
   "source": [
    "**Посчитаем количество заемщиков в каждой категории целей кредитов и запишем в `purpose_number`:**"
   ]
  },
  {
   "cell_type": "code",
   "execution_count": 54,
   "id": "ea31ef76",
   "metadata": {},
   "outputs": [
    {
     "data": {
      "text/html": [
       "<div>\n",
       "<style scoped>\n",
       "    .dataframe tbody tr th:only-of-type {\n",
       "        vertical-align: middle;\n",
       "    }\n",
       "\n",
       "    .dataframe tbody tr th {\n",
       "        vertical-align: top;\n",
       "    }\n",
       "\n",
       "    .dataframe thead th {\n",
       "        text-align: right;\n",
       "    }\n",
       "</style>\n",
       "<table border=\"1\" class=\"dataframe\">\n",
       "  <thead>\n",
       "    <tr style=\"text-align: right;\">\n",
       "      <th></th>\n",
       "      <th>debt</th>\n",
       "    </tr>\n",
       "    <tr>\n",
       "      <th>purpose_category_id</th>\n",
       "      <th></th>\n",
       "    </tr>\n",
       "  </thead>\n",
       "  <tbody>\n",
       "    <tr>\n",
       "      <th>1</th>\n",
       "      <td>10751</td>\n",
       "    </tr>\n",
       "    <tr>\n",
       "      <th>2</th>\n",
       "      <td>4279</td>\n",
       "    </tr>\n",
       "    <tr>\n",
       "      <th>3</th>\n",
       "      <td>3988</td>\n",
       "    </tr>\n",
       "    <tr>\n",
       "      <th>4</th>\n",
       "      <td>2313</td>\n",
       "    </tr>\n",
       "  </tbody>\n",
       "</table>\n",
       "</div>"
      ],
      "text/plain": [
       "                      debt\n",
       "purpose_category_id       \n",
       "1                    10751\n",
       "2                     4279\n",
       "3                     3988\n",
       "4                     2313"
      ]
     },
     "execution_count": 54,
     "metadata": {},
     "output_type": "execute_result"
    }
   ],
   "source": [
    "purpose_number = purpose_debt.groupby('purpose_category_id').count()\n",
    "purpose_number"
   ]
  },
  {
   "cell_type": "markdown",
   "id": "278598bd",
   "metadata": {},
   "source": [
    "**Найдем всех заемщиков, вернувших кредит в срок:**"
   ]
  },
  {
   "cell_type": "code",
   "execution_count": 55,
   "id": "2b4ee99a",
   "metadata": {},
   "outputs": [
    {
     "data": {
      "text/html": [
       "<div>\n",
       "<style scoped>\n",
       "    .dataframe tbody tr th:only-of-type {\n",
       "        vertical-align: middle;\n",
       "    }\n",
       "\n",
       "    .dataframe tbody tr th {\n",
       "        vertical-align: top;\n",
       "    }\n",
       "\n",
       "    .dataframe thead th {\n",
       "        text-align: right;\n",
       "    }\n",
       "</style>\n",
       "<table border=\"1\" class=\"dataframe\">\n",
       "  <thead>\n",
       "    <tr style=\"text-align: right;\">\n",
       "      <th></th>\n",
       "      <th>purpose_category_id</th>\n",
       "      <th>debt</th>\n",
       "    </tr>\n",
       "  </thead>\n",
       "  <tbody>\n",
       "    <tr>\n",
       "      <th>0</th>\n",
       "      <td>1</td>\n",
       "      <td>0</td>\n",
       "    </tr>\n",
       "    <tr>\n",
       "      <th>1</th>\n",
       "      <td>2</td>\n",
       "      <td>0</td>\n",
       "    </tr>\n",
       "    <tr>\n",
       "      <th>2</th>\n",
       "      <td>1</td>\n",
       "      <td>0</td>\n",
       "    </tr>\n",
       "    <tr>\n",
       "      <th>3</th>\n",
       "      <td>3</td>\n",
       "      <td>0</td>\n",
       "    </tr>\n",
       "    <tr>\n",
       "      <th>4</th>\n",
       "      <td>4</td>\n",
       "      <td>0</td>\n",
       "    </tr>\n",
       "    <tr>\n",
       "      <th>...</th>\n",
       "      <td>...</td>\n",
       "      <td>...</td>\n",
       "    </tr>\n",
       "    <tr>\n",
       "      <th>21518</th>\n",
       "      <td>2</td>\n",
       "      <td>0</td>\n",
       "    </tr>\n",
       "    <tr>\n",
       "      <th>21519</th>\n",
       "      <td>1</td>\n",
       "      <td>0</td>\n",
       "    </tr>\n",
       "    <tr>\n",
       "      <th>21520</th>\n",
       "      <td>1</td>\n",
       "      <td>0</td>\n",
       "    </tr>\n",
       "    <tr>\n",
       "      <th>21521</th>\n",
       "      <td>2</td>\n",
       "      <td>0</td>\n",
       "    </tr>\n",
       "    <tr>\n",
       "      <th>21524</th>\n",
       "      <td>2</td>\n",
       "      <td>0</td>\n",
       "    </tr>\n",
       "  </tbody>\n",
       "</table>\n",
       "<p>19599 rows × 2 columns</p>\n",
       "</div>"
      ],
      "text/plain": [
       "       purpose_category_id  debt\n",
       "0                        1     0\n",
       "1                        2     0\n",
       "2                        1     0\n",
       "3                        3     0\n",
       "4                        4     0\n",
       "...                    ...   ...\n",
       "21518                    2     0\n",
       "21519                    1     0\n",
       "21520                    1     0\n",
       "21521                    2     0\n",
       "21524                    2     0\n",
       "\n",
       "[19599 rows x 2 columns]"
      ]
     },
     "execution_count": 55,
     "metadata": {},
     "output_type": "execute_result"
    }
   ],
   "source": [
    "purpose_in_time = purpose_debt.loc[purpose_debt['debt'] == 0]\n",
    "purpose_in_time"
   ]
  },
  {
   "cell_type": "markdown",
   "id": "6d4c2f49",
   "metadata": {},
   "source": [
    "**Посчитаем количество добросовестных заемщиков для каждой категории кредита - `purpose_in_time`:**"
   ]
  },
  {
   "cell_type": "code",
   "execution_count": 56,
   "id": "27188201",
   "metadata": {},
   "outputs": [
    {
     "data": {
      "text/html": [
       "<div>\n",
       "<style scoped>\n",
       "    .dataframe tbody tr th:only-of-type {\n",
       "        vertical-align: middle;\n",
       "    }\n",
       "\n",
       "    .dataframe tbody tr th {\n",
       "        vertical-align: top;\n",
       "    }\n",
       "\n",
       "    .dataframe thead th {\n",
       "        text-align: right;\n",
       "    }\n",
       "</style>\n",
       "<table border=\"1\" class=\"dataframe\">\n",
       "  <thead>\n",
       "    <tr style=\"text-align: right;\">\n",
       "      <th></th>\n",
       "      <th>debt</th>\n",
       "    </tr>\n",
       "    <tr>\n",
       "      <th>purpose_category_id</th>\n",
       "      <th></th>\n",
       "    </tr>\n",
       "  </thead>\n",
       "  <tbody>\n",
       "    <tr>\n",
       "      <th>1</th>\n",
       "      <td>9971</td>\n",
       "    </tr>\n",
       "    <tr>\n",
       "      <th>2</th>\n",
       "      <td>3879</td>\n",
       "    </tr>\n",
       "    <tr>\n",
       "      <th>3</th>\n",
       "      <td>3619</td>\n",
       "    </tr>\n",
       "    <tr>\n",
       "      <th>4</th>\n",
       "      <td>2130</td>\n",
       "    </tr>\n",
       "  </tbody>\n",
       "</table>\n",
       "</div>"
      ],
      "text/plain": [
       "                     debt\n",
       "purpose_category_id      \n",
       "1                    9971\n",
       "2                    3879\n",
       "3                    3619\n",
       "4                    2130"
      ]
     },
     "execution_count": 56,
     "metadata": {},
     "output_type": "execute_result"
    }
   ],
   "source": [
    "purpose_in_time = purpose_in_time.groupby('purpose_category_id').count()\n",
    "purpose_in_time"
   ]
  },
  {
   "cell_type": "markdown",
   "id": "af93cb4f",
   "metadata": {},
   "source": [
    "**Вычислим долю заемщиков, вернувших кредит в срок, по каждой категории кредита:**"
   ]
  },
  {
   "cell_type": "code",
   "execution_count": 57,
   "id": "0396c7fe",
   "metadata": {
    "scrolled": true
   },
   "outputs": [
    {
     "data": {
      "text/html": [
       "<div>\n",
       "<style scoped>\n",
       "    .dataframe tbody tr th:only-of-type {\n",
       "        vertical-align: middle;\n",
       "    }\n",
       "\n",
       "    .dataframe tbody tr th {\n",
       "        vertical-align: top;\n",
       "    }\n",
       "\n",
       "    .dataframe thead th {\n",
       "        text-align: right;\n",
       "    }\n",
       "</style>\n",
       "<table border=\"1\" class=\"dataframe\">\n",
       "  <thead>\n",
       "    <tr style=\"text-align: right;\">\n",
       "      <th></th>\n",
       "      <th>debt</th>\n",
       "    </tr>\n",
       "    <tr>\n",
       "      <th>purpose_category_id</th>\n",
       "      <th></th>\n",
       "    </tr>\n",
       "  </thead>\n",
       "  <tbody>\n",
       "    <tr>\n",
       "      <th>1</th>\n",
       "      <td>0.927449</td>\n",
       "    </tr>\n",
       "    <tr>\n",
       "      <th>2</th>\n",
       "      <td>0.906520</td>\n",
       "    </tr>\n",
       "    <tr>\n",
       "      <th>3</th>\n",
       "      <td>0.907472</td>\n",
       "    </tr>\n",
       "    <tr>\n",
       "      <th>4</th>\n",
       "      <td>0.920882</td>\n",
       "    </tr>\n",
       "  </tbody>\n",
       "</table>\n",
       "</div>"
      ],
      "text/plain": [
       "                         debt\n",
       "purpose_category_id          \n",
       "1                    0.927449\n",
       "2                    0.906520\n",
       "3                    0.907472\n",
       "4                    0.920882"
      ]
     },
     "execution_count": 57,
     "metadata": {},
     "output_type": "execute_result"
    }
   ],
   "source": [
    "purpose_in_time_share = purpose_in_time/purpose_number\n",
    "purpose_in_time_share"
   ]
  },
  {
   "cell_type": "markdown",
   "id": "10b96a61",
   "metadata": {},
   "source": [
    "**Для наглядности добавим столбец с названиями категорий кредита `purpose_category` в датафрейм `purpose_in_time_share`**"
   ]
  },
  {
   "cell_type": "code",
   "execution_count": 58,
   "id": "c3bda30e",
   "metadata": {
    "scrolled": true
   },
   "outputs": [
    {
     "data": {
      "text/html": [
       "<div>\n",
       "<style scoped>\n",
       "    .dataframe tbody tr th:only-of-type {\n",
       "        vertical-align: middle;\n",
       "    }\n",
       "\n",
       "    .dataframe tbody tr th {\n",
       "        vertical-align: top;\n",
       "    }\n",
       "\n",
       "    .dataframe thead th {\n",
       "        text-align: right;\n",
       "    }\n",
       "</style>\n",
       "<table border=\"1\" class=\"dataframe\">\n",
       "  <thead>\n",
       "    <tr style=\"text-align: right;\">\n",
       "      <th></th>\n",
       "      <th>purpose_category_id</th>\n",
       "      <th>debt</th>\n",
       "      <th>purpose_category</th>\n",
       "    </tr>\n",
       "  </thead>\n",
       "  <tbody>\n",
       "    <tr>\n",
       "      <th>0</th>\n",
       "      <td>1</td>\n",
       "      <td>0.927449</td>\n",
       "      <td>операции с недвижимостью</td>\n",
       "    </tr>\n",
       "    <tr>\n",
       "      <th>1</th>\n",
       "      <td>2</td>\n",
       "      <td>0.906520</td>\n",
       "      <td>операции с автомобилем</td>\n",
       "    </tr>\n",
       "    <tr>\n",
       "      <th>2</th>\n",
       "      <td>3</td>\n",
       "      <td>0.907472</td>\n",
       "      <td>получение образования</td>\n",
       "    </tr>\n",
       "    <tr>\n",
       "      <th>3</th>\n",
       "      <td>4</td>\n",
       "      <td>0.920882</td>\n",
       "      <td>проведение свадьбы</td>\n",
       "    </tr>\n",
       "  </tbody>\n",
       "</table>\n",
       "</div>"
      ],
      "text/plain": [
       "   purpose_category_id      debt          purpose_category\n",
       "0                    1  0.927449  операции с недвижимостью\n",
       "1                    2  0.906520    операции с автомобилем\n",
       "2                    3  0.907472     получение образования\n",
       "3                    4  0.920882        проведение свадьбы"
      ]
     },
     "execution_count": 58,
     "metadata": {},
     "output_type": "execute_result"
    }
   ],
   "source": [
    "purpose_in_time_share = purpose_in_time_share.merge(purpose_dict, on = 'purpose_category_id', how = 'left')\n",
    "purpose_in_time_share"
   ]
  },
  {
   "cell_type": "markdown",
   "id": "ee7c3187",
   "metadata": {},
   "source": [
    "**Переведем значения в столбце `debt` в проценты с точностью до одного знака после запятой:**"
   ]
  },
  {
   "cell_type": "code",
   "execution_count": 59,
   "id": "0f508d46",
   "metadata": {},
   "outputs": [
    {
     "data": {
      "text/html": [
       "<div>\n",
       "<style scoped>\n",
       "    .dataframe tbody tr th:only-of-type {\n",
       "        vertical-align: middle;\n",
       "    }\n",
       "\n",
       "    .dataframe tbody tr th {\n",
       "        vertical-align: top;\n",
       "    }\n",
       "\n",
       "    .dataframe thead th {\n",
       "        text-align: right;\n",
       "    }\n",
       "</style>\n",
       "<table border=\"1\" class=\"dataframe\">\n",
       "  <thead>\n",
       "    <tr style=\"text-align: right;\">\n",
       "      <th></th>\n",
       "      <th>purpose_category_id</th>\n",
       "      <th>debt</th>\n",
       "      <th>purpose_category</th>\n",
       "    </tr>\n",
       "  </thead>\n",
       "  <tbody>\n",
       "    <tr>\n",
       "      <th>0</th>\n",
       "      <td>1</td>\n",
       "      <td>92.7</td>\n",
       "      <td>операции с недвижимостью</td>\n",
       "    </tr>\n",
       "    <tr>\n",
       "      <th>1</th>\n",
       "      <td>2</td>\n",
       "      <td>90.7</td>\n",
       "      <td>операции с автомобилем</td>\n",
       "    </tr>\n",
       "    <tr>\n",
       "      <th>2</th>\n",
       "      <td>3</td>\n",
       "      <td>90.7</td>\n",
       "      <td>получение образования</td>\n",
       "    </tr>\n",
       "    <tr>\n",
       "      <th>3</th>\n",
       "      <td>4</td>\n",
       "      <td>92.1</td>\n",
       "      <td>проведение свадьбы</td>\n",
       "    </tr>\n",
       "  </tbody>\n",
       "</table>\n",
       "</div>"
      ],
      "text/plain": [
       "   purpose_category_id  debt          purpose_category\n",
       "0                    1  92.7  операции с недвижимостью\n",
       "1                    2  90.7    операции с автомобилем\n",
       "2                    3  90.7     получение образования\n",
       "3                    4  92.1        проведение свадьбы"
      ]
     },
     "execution_count": 59,
     "metadata": {},
     "output_type": "execute_result"
    }
   ],
   "source": [
    "purpose_in_time_share['debt'] = round(purpose_in_time_share['debt']*100, 1)\n",
    "purpose_in_time_share"
   ]
  },
  {
   "cell_type": "markdown",
   "id": "f97753bb",
   "metadata": {},
   "source": [
    "**Переименуем столбец `debt` в `in_time_payers_percentage`:**"
   ]
  },
  {
   "cell_type": "code",
   "execution_count": 60,
   "id": "b2e11d75",
   "metadata": {},
   "outputs": [
    {
     "data": {
      "text/html": [
       "<div>\n",
       "<style scoped>\n",
       "    .dataframe tbody tr th:only-of-type {\n",
       "        vertical-align: middle;\n",
       "    }\n",
       "\n",
       "    .dataframe tbody tr th {\n",
       "        vertical-align: top;\n",
       "    }\n",
       "\n",
       "    .dataframe thead th {\n",
       "        text-align: right;\n",
       "    }\n",
       "</style>\n",
       "<table border=\"1\" class=\"dataframe\">\n",
       "  <thead>\n",
       "    <tr style=\"text-align: right;\">\n",
       "      <th></th>\n",
       "      <th>purpose_category_id</th>\n",
       "      <th>in_time_payers_percentage</th>\n",
       "      <th>purpose_category</th>\n",
       "    </tr>\n",
       "  </thead>\n",
       "  <tbody>\n",
       "    <tr>\n",
       "      <th>0</th>\n",
       "      <td>1</td>\n",
       "      <td>92.7</td>\n",
       "      <td>операции с недвижимостью</td>\n",
       "    </tr>\n",
       "    <tr>\n",
       "      <th>1</th>\n",
       "      <td>2</td>\n",
       "      <td>90.7</td>\n",
       "      <td>операции с автомобилем</td>\n",
       "    </tr>\n",
       "    <tr>\n",
       "      <th>2</th>\n",
       "      <td>3</td>\n",
       "      <td>90.7</td>\n",
       "      <td>получение образования</td>\n",
       "    </tr>\n",
       "    <tr>\n",
       "      <th>3</th>\n",
       "      <td>4</td>\n",
       "      <td>92.1</td>\n",
       "      <td>проведение свадьбы</td>\n",
       "    </tr>\n",
       "  </tbody>\n",
       "</table>\n",
       "</div>"
      ],
      "text/plain": [
       "   purpose_category_id  in_time_payers_percentage          purpose_category\n",
       "0                    1                       92.7  операции с недвижимостью\n",
       "1                    2                       90.7    операции с автомобилем\n",
       "2                    3                       90.7     получение образования\n",
       "3                    4                       92.1        проведение свадьбы"
      ]
     },
     "execution_count": 60,
     "metadata": {},
     "output_type": "execute_result"
    }
   ],
   "source": [
    "new_columns_names = {'purpose_category_id':'purpose_category_id', 'debt':'in_time_payers_percentage', \\\n",
    "                     'purpose_category':'purpose_category'}\n",
    "purpose_in_time_share = purpose_in_time_share.rename(columns = new_columns_names)\n",
    "purpose_in_time_share"
   ]
  },
  {
   "cell_type": "markdown",
   "id": "cf05ed63",
   "metadata": {
    "deletable": false,
    "id": "cf05ed63"
   },
   "source": [
    "**Вывод.**\n",
    "Цель кредита оказывает влияние на вероятность того, что кредит будет возвращен в срок. Чаще других в срок возвращают кредиты, взятые для выполнения операций с недвижимостью (92.7 %) и проведения свадьбы (92.1 %). Кредиты, взятые для покупки авто и для получения образования возвращают вовремя несколько реже (в 90.7 % случаев)."
   ]
  },
  {
   "cell_type": "markdown",
   "id": "57bc304e",
   "metadata": {
    "deletable": true,
    "id": "57bc304e",
    "tags": []
   },
   "source": [
    "## Общий вывод."
   ]
  },
  {
   "cell_type": "markdown",
   "id": "1ab75d1c",
   "metadata": {
    "deletable": false,
    "id": "1ab75d1c"
   },
   "source": [
    "**`Целью`** настоящего исследования была оценка влияния ряда характеристик потенциальных заемщиков, а также цели, на которую берут кредит, на его погашение в срок. Полученные результаты предполагается использовать для построения модели кредитного скоринга, которая позволит оценить способность заёмщика вернуть кредит.\n",
    "\n",
    "- **В ходе проекта с привлечением данных о заемщиках, предостаставленной банком, были даны ответы на следующие вопросы:**\n",
    "\n",
    "1. Как влияет количество детей у заемщика на возврат кредита в срок?\n",
    "2. Существует ли зависимость между семейным положением заемщика и возвратом кредита в срок?\n",
    "3. Влияет ли уровень дохода заемщика на своевременный возврат кредита?\n",
    "4. Как разные кредитные цели влияют на возврат кредита в срок?\n",
    "\n",
    "- **Для ответа на эти вопросы, на первом этапе исследования была выполнена предобработка данных**:\n",
    "\n",
    "1. Недостающие данные о доходе и о трудовом стаже индивидуальных заемщиков были заполнены соответствующими медианными значениями для группы заемщиков с таким же типом занятости.\n",
    "2. Поскольку в данных о количестве детей заемщиков, были обнаружены аномальные значения (-1, 20), информация о таких заемщиках была полностью убрана из датасета.\n",
    "3. Данные о доходе представлены в виде целых чисел вместо чисел с целой и дробной частью.\n",
    "4. Добавлены столбцы с категорией дохода заемщика (A, B, C, D, E) и категорией кредита (операции с автомобилем, операции с недвижимостью, проведение свадьбы, получение образования).\n",
    "5. Унифицированы обозначения уровня образования заемщиков.\n",
    "\n",
    "_Примечание: В предоставленном банком датасете обнаружены аномальные данные о трудовом стаже для двух групп заемщиков - пенсионеров и студентов. Поскольку эти данные не использовались для выполнения настоящего исследования, с ними не выполняли никаких манипуляций_\n",
    "\n",
    "\n",
    "**Результаты исследования:**\n",
    "\n",
    "**`1. Количество детей у заемщика`**\n",
    "\n",
    "| Количество детей              | **1**     | **2** | **3** |**4** |**Нет детей**| \n",
    "| :-----------------------------|:---------:|:-----:|:-----:|:----:|:-----------:|\n",
    "| **Возврат кредита в срок, %** | 90.8      | 90.5  | 91.8  | 90.2 | **92.5**    |\n",
    "\n",
    "**Заемщики, у которых нет детей, более надежны, чем те, у кого есть дети. Общая тенденция такова, что с каждым ребенком вероятность возврата кредита снижается на 0.2 п.п.**\n",
    "\n",
    "\n",
    "**`2. Семейное положение заемщика`**\n",
    "\n",
    "|**Семейное положение**          |**гражданский брак**|**не женат/не замужем**|**женат/замужем**|**в разводе**|**вдовец/вдова**|\n",
    "| :------------------------------| :-----------------:|:---------------------:|:---------------:|:-----------:|:-----------:|\n",
    "| **Возврат кредита в срок, %**  | 90.7               | 90.2                  | **92.4**        | **92.9**    | **93.4**    |\n",
    "\n",
    "**Заемщики, которые ранее состояли или состоят в браке надежнее чем те, кто не женат/не замужем**\n",
    "\n",
    "\n",
    "**`3. Доход заемщика`**\n",
    "\n",
    "В предоставленных банком данных самыми многочисленными группами клиентов были те, чей доход составляет от 500001 до 200000 и от 200001 до 1000000 в месяц. Таких людей было 74 и 24 % от числа всех заемщиков - суммарно 98 %. Группы с доходом 500000 и ниже, и 1000001 и выше составляли только 2 % от общего числа заемщиков. Столь малые выборки не репрезентативны, поэтому обратим внимание только на самые широко представленные группы заемщиков по доходу:   \n",
    "\n",
    "| Ежемесячный доход             |**50001-200000** |**200001-1000000**| \n",
    "| :-----------------------------|:---------------:|:----------------:|\n",
    "| **Возврат кредита в срок, %** | 91.5            | **92.9**         |\n",
    "\n",
    "**Заемщики с высоким доходом склонны более добросовестно выполнять кредитные обязательства.**\n",
    "\n",
    "\n",
    "**`4. Цель кредита`**\n",
    "\n",
    "| Цель кредита                  | **образование** |**автомобиль** | **свадьба** | **недвижимость** |\n",
    "| :-----------------------------| :--------------:|:-------------:|:-----------:|:----------------:|\n",
    "| **Возврат кредита в срок, %** | 90.7            | 90.7          | 92.1        | **92.7**         |\n",
    "\n",
    "**Чаще других в срок отдают кредиты на недвижимость**\n",
    "\n",
    "<br>\n",
    "\n",
    "**Идеальным заемщиком по исследованным нами параметрам можно назвать человека, который состоит или ранее состоял в браке, берущего кредит на покупку недвижимости, с высоким уровнем дохода и без детей. Напротив, наименее надежным следует признать заемщика с несколькими детьми, который не состоит и ранее не состоял в браке, с низким уровнем дохода, берущего автокредит или кредиит на образование. Описанные типажи заемщиков займут крайние положения на шкале кредитного скоринга.**\n"
   ]
  }
 ],
 "metadata": {
  "ExecuteTimeLog": [
   {
    "duration": 577,
    "start_time": "2023-07-19T18:43:39.294Z"
   },
   {
    "duration": 25,
    "start_time": "2023-07-19T18:43:39.874Z"
   },
   {
    "duration": 19,
    "start_time": "2023-07-19T18:43:39.901Z"
   },
   {
    "duration": 12,
    "start_time": "2023-07-19T18:43:39.922Z"
   },
   {
    "duration": 67,
    "start_time": "2023-07-19T18:43:39.936Z"
   },
   {
    "duration": 5,
    "start_time": "2023-07-19T18:43:40.005Z"
   },
   {
    "duration": 19,
    "start_time": "2023-07-19T18:43:40.012Z"
   },
   {
    "duration": 16,
    "start_time": "2023-07-19T18:43:40.033Z"
   },
   {
    "duration": 39,
    "start_time": "2023-07-19T18:43:40.051Z"
   },
   {
    "duration": 19,
    "start_time": "2023-07-19T18:43:40.094Z"
   },
   {
    "duration": 57,
    "start_time": "2023-07-19T18:43:40.116Z"
   },
   {
    "duration": 13,
    "start_time": "2023-07-19T18:43:40.174Z"
   },
   {
    "duration": 13,
    "start_time": "2023-07-19T18:43:40.190Z"
   },
   {
    "duration": 16,
    "start_time": "2023-07-19T18:43:40.205Z"
   },
   {
    "duration": 26,
    "start_time": "2023-07-19T18:43:40.223Z"
   },
   {
    "duration": 26,
    "start_time": "2023-07-19T18:43:40.251Z"
   },
   {
    "duration": 4,
    "start_time": "2023-07-19T18:43:40.279Z"
   },
   {
    "duration": 36,
    "start_time": "2023-07-19T18:43:40.285Z"
   },
   {
    "duration": 18,
    "start_time": "2023-07-19T18:43:40.324Z"
   },
   {
    "duration": 21,
    "start_time": "2023-07-19T18:43:40.344Z"
   },
   {
    "duration": 39,
    "start_time": "2023-07-19T18:43:40.367Z"
   },
   {
    "duration": 10,
    "start_time": "2023-07-19T18:43:40.408Z"
   },
   {
    "duration": 16,
    "start_time": "2023-07-19T18:43:40.420Z"
   },
   {
    "duration": 13,
    "start_time": "2023-07-19T18:43:40.438Z"
   },
   {
    "duration": 11,
    "start_time": "2023-07-19T18:43:40.454Z"
   },
   {
    "duration": 20,
    "start_time": "2023-07-19T18:44:51.250Z"
   },
   {
    "duration": 15,
    "start_time": "2023-07-19T18:44:58.932Z"
   },
   {
    "duration": 5,
    "start_time": "2023-07-19T18:47:35.830Z"
   },
   {
    "duration": 7,
    "start_time": "2023-07-19T18:52:01.208Z"
   },
   {
    "duration": 6,
    "start_time": "2023-07-19T18:58:35.919Z"
   },
   {
    "duration": 6,
    "start_time": "2023-07-19T19:38:35.445Z"
   },
   {
    "duration": 115,
    "start_time": "2023-07-19T19:40:04.412Z"
   },
   {
    "duration": 8,
    "start_time": "2023-07-19T19:42:26.097Z"
   },
   {
    "duration": 6,
    "start_time": "2023-07-19T19:43:24.690Z"
   },
   {
    "duration": 67,
    "start_time": "2023-07-19T19:45:48.282Z"
   },
   {
    "duration": 17,
    "start_time": "2023-07-19T19:45:56.960Z"
   },
   {
    "duration": 7,
    "start_time": "2023-07-19T19:47:12.156Z"
   },
   {
    "duration": 8,
    "start_time": "2023-07-19T19:48:19.074Z"
   },
   {
    "duration": 11,
    "start_time": "2023-07-19T19:52:22.786Z"
   },
   {
    "duration": 9,
    "start_time": "2023-07-19T19:55:00.781Z"
   },
   {
    "duration": 9,
    "start_time": "2023-07-19T19:55:04.667Z"
   },
   {
    "duration": 11,
    "start_time": "2023-07-19T20:01:13.124Z"
   },
   {
    "duration": 10,
    "start_time": "2023-07-19T20:02:38.280Z"
   },
   {
    "duration": 11,
    "start_time": "2023-07-19T20:02:44.640Z"
   },
   {
    "duration": 12,
    "start_time": "2023-07-19T20:02:54.240Z"
   },
   {
    "duration": 10,
    "start_time": "2023-07-19T20:03:08.631Z"
   },
   {
    "duration": 10,
    "start_time": "2023-07-19T20:03:26.060Z"
   },
   {
    "duration": 16,
    "start_time": "2023-07-19T20:04:12.977Z"
   },
   {
    "duration": 7,
    "start_time": "2023-07-19T20:08:56.925Z"
   },
   {
    "duration": 8,
    "start_time": "2023-07-19T20:11:45.569Z"
   },
   {
    "duration": 11,
    "start_time": "2023-07-19T20:18:08.619Z"
   },
   {
    "duration": 10,
    "start_time": "2023-07-19T20:18:22.873Z"
   },
   {
    "duration": 9,
    "start_time": "2023-07-19T20:18:29.977Z"
   },
   {
    "duration": 6,
    "start_time": "2023-07-19T20:18:53.058Z"
   },
   {
    "duration": 9,
    "start_time": "2023-07-19T20:19:00.539Z"
   },
   {
    "duration": 12,
    "start_time": "2023-07-19T20:19:30.332Z"
   },
   {
    "duration": 8,
    "start_time": "2023-07-19T20:22:19.260Z"
   },
   {
    "duration": 7,
    "start_time": "2023-07-19T20:34:58.822Z"
   },
   {
    "duration": 1086,
    "start_time": "2023-07-19T20:38:08.356Z"
   },
   {
    "duration": 6,
    "start_time": "2023-07-19T20:39:07.778Z"
   },
   {
    "duration": 4,
    "start_time": "2023-07-19T20:42:06.709Z"
   },
   {
    "duration": 6,
    "start_time": "2023-07-19T20:42:21.684Z"
   },
   {
    "duration": 7,
    "start_time": "2023-07-19T20:44:56.965Z"
   },
   {
    "duration": 7,
    "start_time": "2023-07-19T20:53:54.057Z"
   },
   {
    "duration": 63,
    "start_time": "2023-07-19T20:55:03.452Z"
   },
   {
    "duration": 6,
    "start_time": "2023-07-19T20:55:07.823Z"
   },
   {
    "duration": 633,
    "start_time": "2023-07-20T06:59:42.741Z"
   },
   {
    "duration": 21,
    "start_time": "2023-07-20T06:59:43.375Z"
   },
   {
    "duration": 15,
    "start_time": "2023-07-20T06:59:43.397Z"
   },
   {
    "duration": 13,
    "start_time": "2023-07-20T06:59:43.413Z"
   },
   {
    "duration": 60,
    "start_time": "2023-07-20T06:59:43.428Z"
   },
   {
    "duration": 9,
    "start_time": "2023-07-20T06:59:43.489Z"
   },
   {
    "duration": 21,
    "start_time": "2023-07-20T06:59:43.499Z"
   },
   {
    "duration": 19,
    "start_time": "2023-07-20T06:59:43.521Z"
   },
   {
    "duration": 20,
    "start_time": "2023-07-20T06:59:43.542Z"
   },
   {
    "duration": 11,
    "start_time": "2023-07-20T06:59:43.565Z"
   },
   {
    "duration": 50,
    "start_time": "2023-07-20T06:59:43.577Z"
   },
   {
    "duration": 11,
    "start_time": "2023-07-20T06:59:43.629Z"
   },
   {
    "duration": 17,
    "start_time": "2023-07-20T06:59:43.641Z"
   },
   {
    "duration": 23,
    "start_time": "2023-07-20T06:59:43.660Z"
   },
   {
    "duration": 45,
    "start_time": "2023-07-20T06:59:43.684Z"
   },
   {
    "duration": 16,
    "start_time": "2023-07-20T06:59:43.730Z"
   },
   {
    "duration": 15,
    "start_time": "2023-07-20T06:59:43.747Z"
   },
   {
    "duration": 26,
    "start_time": "2023-07-20T06:59:43.763Z"
   },
   {
    "duration": 28,
    "start_time": "2023-07-20T06:59:43.791Z"
   },
   {
    "duration": 16,
    "start_time": "2023-07-20T06:59:43.820Z"
   },
   {
    "duration": 25,
    "start_time": "2023-07-20T06:59:43.837Z"
   },
   {
    "duration": 19,
    "start_time": "2023-07-20T06:59:43.863Z"
   },
   {
    "duration": 74,
    "start_time": "2023-07-20T06:59:43.884Z"
   },
   {
    "duration": 0,
    "start_time": "2023-07-20T06:59:43.960Z"
   },
   {
    "duration": 0,
    "start_time": "2023-07-20T06:59:43.961Z"
   },
   {
    "duration": 0,
    "start_time": "2023-07-20T06:59:43.962Z"
   },
   {
    "duration": 0,
    "start_time": "2023-07-20T06:59:43.963Z"
   },
   {
    "duration": 0,
    "start_time": "2023-07-20T06:59:43.963Z"
   },
   {
    "duration": 0,
    "start_time": "2023-07-20T06:59:43.964Z"
   },
   {
    "duration": 0,
    "start_time": "2023-07-20T06:59:43.965Z"
   },
   {
    "duration": 7,
    "start_time": "2023-07-20T07:00:54.909Z"
   },
   {
    "duration": 8,
    "start_time": "2023-07-20T07:01:04.608Z"
   },
   {
    "duration": 5,
    "start_time": "2023-07-20T07:01:08.467Z"
   },
   {
    "duration": 4,
    "start_time": "2023-07-20T07:01:14.668Z"
   },
   {
    "duration": 4,
    "start_time": "2023-07-20T07:01:19.507Z"
   },
   {
    "duration": 12,
    "start_time": "2023-07-20T07:01:38.845Z"
   },
   {
    "duration": 5,
    "start_time": "2023-07-20T07:04:12.408Z"
   },
   {
    "duration": 6,
    "start_time": "2023-07-20T07:06:05.511Z"
   },
   {
    "duration": 3080,
    "start_time": "2023-07-20T07:07:34.787Z"
   },
   {
    "duration": 7,
    "start_time": "2023-07-20T07:08:22.526Z"
   },
   {
    "duration": 0,
    "start_time": "2023-07-20T07:21:14.646Z"
   },
   {
    "duration": 4305,
    "start_time": "2023-07-20T07:21:30.780Z"
   },
   {
    "duration": 7,
    "start_time": "2023-07-20T07:22:25.661Z"
   },
   {
    "duration": 7,
    "start_time": "2023-07-20T07:24:14.132Z"
   },
   {
    "duration": 7,
    "start_time": "2023-07-20T07:25:56.533Z"
   },
   {
    "duration": 10,
    "start_time": "2023-07-20T07:27:14.969Z"
   },
   {
    "duration": 5,
    "start_time": "2023-07-20T07:35:55.688Z"
   },
   {
    "duration": 6,
    "start_time": "2023-07-20T07:37:11.529Z"
   },
   {
    "duration": 5,
    "start_time": "2023-07-20T07:43:10.393Z"
   },
   {
    "duration": 9,
    "start_time": "2023-07-20T07:44:17.902Z"
   },
   {
    "duration": 9,
    "start_time": "2023-07-20T07:46:24.439Z"
   },
   {
    "duration": 8,
    "start_time": "2023-07-20T07:48:35.037Z"
   },
   {
    "duration": 140,
    "start_time": "2023-07-20T07:52:16.132Z"
   },
   {
    "duration": 7,
    "start_time": "2023-07-20T07:55:08.568Z"
   },
   {
    "duration": 10,
    "start_time": "2023-07-20T07:58:33.216Z"
   },
   {
    "duration": 2,
    "start_time": "2023-07-20T08:05:10.701Z"
   },
   {
    "duration": 6,
    "start_time": "2023-07-20T08:05:19.746Z"
   },
   {
    "duration": 6,
    "start_time": "2023-07-20T08:05:38.901Z"
   },
   {
    "duration": 173,
    "start_time": "2023-07-20T08:06:40.627Z"
   },
   {
    "duration": 8,
    "start_time": "2023-07-20T08:06:46.149Z"
   },
   {
    "duration": 10,
    "start_time": "2023-07-20T08:13:08.955Z"
   },
   {
    "duration": 8,
    "start_time": "2023-07-20T08:19:25.323Z"
   },
   {
    "duration": 10,
    "start_time": "2023-07-20T08:19:35.718Z"
   },
   {
    "duration": 11,
    "start_time": "2023-07-20T08:19:47.065Z"
   },
   {
    "duration": 583,
    "start_time": "2023-07-20T08:20:44.617Z"
   },
   {
    "duration": 13,
    "start_time": "2023-07-20T08:21:04.822Z"
   },
   {
    "duration": 179,
    "start_time": "2023-07-20T08:23:36.836Z"
   },
   {
    "duration": 11,
    "start_time": "2023-07-20T08:23:45.617Z"
   },
   {
    "duration": 13,
    "start_time": "2023-07-20T08:25:55.804Z"
   },
   {
    "duration": 11,
    "start_time": "2023-07-20T08:26:06.432Z"
   },
   {
    "duration": 12,
    "start_time": "2023-07-20T08:27:58.037Z"
   },
   {
    "duration": 12,
    "start_time": "2023-07-20T08:45:09.080Z"
   },
   {
    "duration": 7,
    "start_time": "2023-07-20T08:52:12.050Z"
   },
   {
    "duration": 4,
    "start_time": "2023-07-20T08:54:04.540Z"
   },
   {
    "duration": 16,
    "start_time": "2023-07-20T08:55:40.556Z"
   },
   {
    "duration": 16,
    "start_time": "2023-07-20T08:55:52.680Z"
   },
   {
    "duration": 20,
    "start_time": "2023-07-20T08:56:16.048Z"
   },
   {
    "duration": 6,
    "start_time": "2023-07-20T09:00:02.342Z"
   },
   {
    "duration": 9,
    "start_time": "2023-07-20T09:00:09.255Z"
   },
   {
    "duration": 9,
    "start_time": "2023-07-20T09:08:59.033Z"
   },
   {
    "duration": 7,
    "start_time": "2023-07-20T09:12:21.625Z"
   },
   {
    "duration": 10,
    "start_time": "2023-07-20T09:21:16.169Z"
   },
   {
    "duration": 0,
    "start_time": "2023-07-20T09:29:27.806Z"
   },
   {
    "duration": 3024,
    "start_time": "2023-07-20T09:29:39.222Z"
   },
   {
    "duration": 3542,
    "start_time": "2023-07-20T09:30:27.568Z"
   },
   {
    "duration": 460,
    "start_time": "2023-07-20T09:31:12.369Z"
   },
   {
    "duration": 19,
    "start_time": "2023-07-20T09:31:12.830Z"
   },
   {
    "duration": 12,
    "start_time": "2023-07-20T09:31:12.851Z"
   },
   {
    "duration": 10,
    "start_time": "2023-07-20T09:31:12.865Z"
   },
   {
    "duration": 38,
    "start_time": "2023-07-20T09:31:12.876Z"
   },
   {
    "duration": 2,
    "start_time": "2023-07-20T09:31:12.916Z"
   },
   {
    "duration": 11,
    "start_time": "2023-07-20T09:31:12.920Z"
   },
   {
    "duration": 4,
    "start_time": "2023-07-20T09:31:12.932Z"
   },
   {
    "duration": 14,
    "start_time": "2023-07-20T09:31:12.937Z"
   },
   {
    "duration": 4,
    "start_time": "2023-07-20T09:31:12.954Z"
   },
   {
    "duration": 41,
    "start_time": "2023-07-20T09:31:12.959Z"
   },
   {
    "duration": 8,
    "start_time": "2023-07-20T09:31:13.002Z"
   },
   {
    "duration": 6,
    "start_time": "2023-07-20T09:31:13.011Z"
   },
   {
    "duration": 21,
    "start_time": "2023-07-20T09:31:13.018Z"
   },
   {
    "duration": 16,
    "start_time": "2023-07-20T09:31:13.041Z"
   },
   {
    "duration": 14,
    "start_time": "2023-07-20T09:31:13.059Z"
   },
   {
    "duration": 20,
    "start_time": "2023-07-20T09:31:13.075Z"
   },
   {
    "duration": 11,
    "start_time": "2023-07-20T09:31:13.096Z"
   },
   {
    "duration": 16,
    "start_time": "2023-07-20T09:31:13.108Z"
   },
   {
    "duration": 9,
    "start_time": "2023-07-20T09:31:13.125Z"
   },
   {
    "duration": 17,
    "start_time": "2023-07-20T09:31:13.135Z"
   },
   {
    "duration": 6,
    "start_time": "2023-07-20T09:31:13.153Z"
   },
   {
    "duration": 10,
    "start_time": "2023-07-20T09:31:13.160Z"
   },
   {
    "duration": 5,
    "start_time": "2023-07-20T09:31:13.171Z"
   },
   {
    "duration": 13,
    "start_time": "2023-07-20T09:31:13.177Z"
   },
   {
    "duration": 8,
    "start_time": "2023-07-20T09:31:13.192Z"
   },
   {
    "duration": 7,
    "start_time": "2023-07-20T09:31:13.202Z"
   },
   {
    "duration": 9,
    "start_time": "2023-07-20T09:31:13.212Z"
   },
   {
    "duration": 13,
    "start_time": "2023-07-20T09:31:13.223Z"
   },
   {
    "duration": 9,
    "start_time": "2023-07-20T09:31:13.237Z"
   },
   {
    "duration": 10,
    "start_time": "2023-07-20T09:31:13.248Z"
   },
   {
    "duration": 6,
    "start_time": "2023-07-20T09:31:13.260Z"
   },
   {
    "duration": 39,
    "start_time": "2023-07-20T09:31:13.268Z"
   },
   {
    "duration": 30,
    "start_time": "2023-07-20T09:31:13.309Z"
   },
   {
    "duration": 9,
    "start_time": "2023-07-20T09:31:13.340Z"
   },
   {
    "duration": 9,
    "start_time": "2023-07-20T09:31:13.350Z"
   },
   {
    "duration": 8,
    "start_time": "2023-07-20T09:31:13.360Z"
   },
   {
    "duration": 11,
    "start_time": "2023-07-20T09:31:13.370Z"
   },
   {
    "duration": 19,
    "start_time": "2023-07-20T09:31:13.382Z"
   },
   {
    "duration": 4210,
    "start_time": "2023-07-20T09:31:54.241Z"
   },
   {
    "duration": 497,
    "start_time": "2023-07-20T09:32:20.885Z"
   },
   {
    "duration": 22,
    "start_time": "2023-07-20T09:32:21.384Z"
   },
   {
    "duration": 18,
    "start_time": "2023-07-20T09:32:21.407Z"
   },
   {
    "duration": 20,
    "start_time": "2023-07-20T09:32:21.428Z"
   },
   {
    "duration": 32,
    "start_time": "2023-07-20T09:32:21.450Z"
   },
   {
    "duration": 4,
    "start_time": "2023-07-20T09:32:21.483Z"
   },
   {
    "duration": 17,
    "start_time": "2023-07-20T09:32:21.488Z"
   },
   {
    "duration": 4,
    "start_time": "2023-07-20T09:32:21.507Z"
   },
   {
    "duration": 19,
    "start_time": "2023-07-20T09:32:21.512Z"
   },
   {
    "duration": 19,
    "start_time": "2023-07-20T09:32:21.534Z"
   },
   {
    "duration": 48,
    "start_time": "2023-07-20T09:32:21.554Z"
   },
   {
    "duration": 9,
    "start_time": "2023-07-20T09:32:21.604Z"
   },
   {
    "duration": 27,
    "start_time": "2023-07-20T09:32:21.614Z"
   },
   {
    "duration": 34,
    "start_time": "2023-07-20T09:32:21.643Z"
   },
   {
    "duration": 28,
    "start_time": "2023-07-20T09:32:21.678Z"
   },
   {
    "duration": 16,
    "start_time": "2023-07-20T09:32:21.708Z"
   },
   {
    "duration": 4,
    "start_time": "2023-07-20T09:32:21.725Z"
   },
   {
    "duration": 19,
    "start_time": "2023-07-20T09:32:21.730Z"
   },
   {
    "duration": 12,
    "start_time": "2023-07-20T09:32:21.750Z"
   },
   {
    "duration": 10,
    "start_time": "2023-07-20T09:32:21.763Z"
   },
   {
    "duration": 17,
    "start_time": "2023-07-20T09:32:21.774Z"
   },
   {
    "duration": 24,
    "start_time": "2023-07-20T09:32:21.793Z"
   },
   {
    "duration": 31,
    "start_time": "2023-07-20T09:32:21.818Z"
   },
   {
    "duration": 13,
    "start_time": "2023-07-20T09:32:21.850Z"
   },
   {
    "duration": 24,
    "start_time": "2023-07-20T09:32:21.865Z"
   },
   {
    "duration": 22,
    "start_time": "2023-07-20T09:32:21.891Z"
   },
   {
    "duration": 13,
    "start_time": "2023-07-20T09:32:21.914Z"
   },
   {
    "duration": 11,
    "start_time": "2023-07-20T09:32:21.930Z"
   },
   {
    "duration": 14,
    "start_time": "2023-07-20T09:32:21.942Z"
   },
   {
    "duration": 8,
    "start_time": "2023-07-20T09:32:21.958Z"
   },
   {
    "duration": 21,
    "start_time": "2023-07-20T09:32:21.967Z"
   },
   {
    "duration": 8,
    "start_time": "2023-07-20T09:32:21.989Z"
   },
   {
    "duration": 48,
    "start_time": "2023-07-20T09:32:21.999Z"
   },
   {
    "duration": 42,
    "start_time": "2023-07-20T09:32:22.049Z"
   },
   {
    "duration": 8,
    "start_time": "2023-07-20T09:32:22.092Z"
   },
   {
    "duration": 19,
    "start_time": "2023-07-20T09:32:22.102Z"
   },
   {
    "duration": 37,
    "start_time": "2023-07-20T09:32:22.122Z"
   },
   {
    "duration": 24,
    "start_time": "2023-07-20T09:32:22.161Z"
   },
   {
    "duration": 5,
    "start_time": "2023-07-20T09:32:22.186Z"
   },
   {
    "duration": 3896,
    "start_time": "2023-07-20T09:34:06.398Z"
   },
   {
    "duration": 15,
    "start_time": "2023-07-20T09:34:20.978Z"
   },
   {
    "duration": 10,
    "start_time": "2023-07-20T09:34:23.702Z"
   },
   {
    "duration": 10,
    "start_time": "2023-07-20T09:34:24.332Z"
   },
   {
    "duration": 8,
    "start_time": "2023-07-20T09:34:26.184Z"
   },
   {
    "duration": 11,
    "start_time": "2023-07-20T09:34:32.824Z"
   },
   {
    "duration": 2,
    "start_time": "2023-07-20T09:56:14.555Z"
   },
   {
    "duration": 20,
    "start_time": "2023-07-20T09:59:48.153Z"
   },
   {
    "duration": 8,
    "start_time": "2023-07-20T10:01:35.177Z"
   },
   {
    "duration": 9,
    "start_time": "2023-07-20T10:01:43.883Z"
   },
   {
    "duration": 6,
    "start_time": "2023-07-20T10:04:12.249Z"
   },
   {
    "duration": 8,
    "start_time": "2023-07-20T10:04:30.526Z"
   },
   {
    "duration": 212,
    "start_time": "2023-07-20T10:11:39.086Z"
   },
   {
    "duration": 3,
    "start_time": "2023-07-20T10:11:47.943Z"
   },
   {
    "duration": 7,
    "start_time": "2023-07-20T10:14:55.176Z"
   },
   {
    "duration": 7,
    "start_time": "2023-07-20T10:19:44.330Z"
   },
   {
    "duration": 7,
    "start_time": "2023-07-20T10:22:44.026Z"
   },
   {
    "duration": 8,
    "start_time": "2023-07-20T10:22:50.825Z"
   },
   {
    "duration": 8,
    "start_time": "2023-07-20T10:23:40.556Z"
   },
   {
    "duration": 9,
    "start_time": "2023-07-20T10:24:33.810Z"
   },
   {
    "duration": 477,
    "start_time": "2023-07-20T10:25:08.585Z"
   },
   {
    "duration": 20,
    "start_time": "2023-07-20T10:25:09.064Z"
   },
   {
    "duration": 13,
    "start_time": "2023-07-20T10:25:09.085Z"
   },
   {
    "duration": 9,
    "start_time": "2023-07-20T10:25:09.100Z"
   },
   {
    "duration": 31,
    "start_time": "2023-07-20T10:25:09.110Z"
   },
   {
    "duration": 3,
    "start_time": "2023-07-20T10:25:09.143Z"
   },
   {
    "duration": 15,
    "start_time": "2023-07-20T10:25:09.147Z"
   },
   {
    "duration": 4,
    "start_time": "2023-07-20T10:25:09.163Z"
   },
   {
    "duration": 17,
    "start_time": "2023-07-20T10:25:09.168Z"
   },
   {
    "duration": 13,
    "start_time": "2023-07-20T10:25:09.187Z"
   },
   {
    "duration": 40,
    "start_time": "2023-07-20T10:25:09.201Z"
   },
   {
    "duration": 9,
    "start_time": "2023-07-20T10:25:09.242Z"
   },
   {
    "duration": 6,
    "start_time": "2023-07-20T10:25:09.252Z"
   },
   {
    "duration": 31,
    "start_time": "2023-07-20T10:25:09.259Z"
   },
   {
    "duration": 40,
    "start_time": "2023-07-20T10:25:09.292Z"
   },
   {
    "duration": 15,
    "start_time": "2023-07-20T10:25:09.334Z"
   },
   {
    "duration": 3,
    "start_time": "2023-07-20T10:25:09.350Z"
   },
   {
    "duration": 12,
    "start_time": "2023-07-20T10:25:09.355Z"
   },
   {
    "duration": 5,
    "start_time": "2023-07-20T10:25:09.369Z"
   },
   {
    "duration": 19,
    "start_time": "2023-07-20T10:25:09.375Z"
   },
   {
    "duration": 40,
    "start_time": "2023-07-20T10:25:09.395Z"
   },
   {
    "duration": 13,
    "start_time": "2023-07-20T10:25:09.436Z"
   },
   {
    "duration": 17,
    "start_time": "2023-07-20T10:25:09.450Z"
   },
   {
    "duration": 17,
    "start_time": "2023-07-20T10:25:09.469Z"
   },
   {
    "duration": 23,
    "start_time": "2023-07-20T10:25:09.487Z"
   },
   {
    "duration": 8,
    "start_time": "2023-07-20T10:25:09.512Z"
   },
   {
    "duration": 21,
    "start_time": "2023-07-20T10:25:09.522Z"
   },
   {
    "duration": 29,
    "start_time": "2023-07-20T10:25:09.546Z"
   },
   {
    "duration": 44,
    "start_time": "2023-07-20T10:25:09.576Z"
   },
   {
    "duration": 32,
    "start_time": "2023-07-20T10:25:09.621Z"
   },
   {
    "duration": 13,
    "start_time": "2023-07-20T10:25:09.654Z"
   },
   {
    "duration": 8,
    "start_time": "2023-07-20T10:25:09.668Z"
   },
   {
    "duration": 33,
    "start_time": "2023-07-20T10:25:09.678Z"
   },
   {
    "duration": 23,
    "start_time": "2023-07-20T10:25:09.713Z"
   },
   {
    "duration": 7,
    "start_time": "2023-07-20T10:25:09.738Z"
   },
   {
    "duration": 9,
    "start_time": "2023-07-20T10:25:09.747Z"
   },
   {
    "duration": 7,
    "start_time": "2023-07-20T10:25:09.758Z"
   },
   {
    "duration": 15,
    "start_time": "2023-07-20T10:25:09.766Z"
   },
   {
    "duration": 19,
    "start_time": "2023-07-20T10:25:09.782Z"
   },
   {
    "duration": 10,
    "start_time": "2023-07-20T10:25:09.802Z"
   },
   {
    "duration": 7,
    "start_time": "2023-07-20T10:25:09.813Z"
   },
   {
    "duration": 79,
    "start_time": "2023-07-20T10:25:09.821Z"
   },
   {
    "duration": 7,
    "start_time": "2023-07-20T10:26:34.858Z"
   },
   {
    "duration": 9,
    "start_time": "2023-07-20T10:27:46.030Z"
   },
   {
    "duration": 4,
    "start_time": "2023-07-20T10:30:26.611Z"
   },
   {
    "duration": 7,
    "start_time": "2023-07-20T10:30:28.186Z"
   },
   {
    "duration": 9,
    "start_time": "2023-07-20T10:31:07.439Z"
   },
   {
    "duration": 4,
    "start_time": "2023-07-20T10:31:20.342Z"
   },
   {
    "duration": 10,
    "start_time": "2023-07-20T10:31:21.889Z"
   },
   {
    "duration": 13,
    "start_time": "2023-07-20T10:31:55.951Z"
   },
   {
    "duration": 10,
    "start_time": "2023-07-20T10:32:05.877Z"
   },
   {
    "duration": 16,
    "start_time": "2023-07-20T10:32:13.308Z"
   },
   {
    "duration": 2480,
    "start_time": "2023-07-20T10:32:46.663Z"
   },
   {
    "duration": 16,
    "start_time": "2023-07-20T10:33:08.802Z"
   },
   {
    "duration": 20,
    "start_time": "2023-07-20T11:09:09.158Z"
   },
   {
    "duration": 9,
    "start_time": "2023-07-20T11:14:53.174Z"
   },
   {
    "duration": 8,
    "start_time": "2023-07-20T11:18:24.182Z"
   },
   {
    "duration": 11,
    "start_time": "2023-07-20T11:18:35.964Z"
   },
   {
    "duration": 3,
    "start_time": "2023-07-20T11:21:02.080Z"
   },
   {
    "duration": 9,
    "start_time": "2023-07-20T11:25:33.565Z"
   },
   {
    "duration": 6,
    "start_time": "2023-07-20T11:26:00.903Z"
   },
   {
    "duration": 12,
    "start_time": "2023-07-20T11:26:20.681Z"
   },
   {
    "duration": 8,
    "start_time": "2023-07-20T11:26:40.910Z"
   },
   {
    "duration": 13,
    "start_time": "2023-07-20T11:26:50.739Z"
   },
   {
    "duration": 10,
    "start_time": "2023-07-20T11:30:03.859Z"
   },
   {
    "duration": 6,
    "start_time": "2023-07-20T11:30:06.613Z"
   },
   {
    "duration": 15,
    "start_time": "2023-07-20T11:37:03.992Z"
   },
   {
    "duration": 12,
    "start_time": "2023-07-20T11:37:11.906Z"
   },
   {
    "duration": 8,
    "start_time": "2023-07-20T11:37:29.489Z"
   },
   {
    "duration": 11,
    "start_time": "2023-07-20T11:37:31.445Z"
   },
   {
    "duration": 3,
    "start_time": "2023-07-20T11:40:12.128Z"
   },
   {
    "duration": 12,
    "start_time": "2023-07-20T11:40:21.192Z"
   },
   {
    "duration": 7,
    "start_time": "2023-07-20T11:40:24.742Z"
   },
   {
    "duration": 11,
    "start_time": "2023-07-20T11:40:26.798Z"
   },
   {
    "duration": 4,
    "start_time": "2023-07-20T11:40:30.448Z"
   },
   {
    "duration": 8,
    "start_time": "2023-07-20T11:43:10.187Z"
   },
   {
    "duration": 9,
    "start_time": "2023-07-20T11:43:23.994Z"
   },
   {
    "duration": 7,
    "start_time": "2023-07-20T11:43:25.606Z"
   },
   {
    "duration": 13,
    "start_time": "2023-07-20T11:43:26.875Z"
   },
   {
    "duration": 9,
    "start_time": "2023-07-20T11:43:28.893Z"
   },
   {
    "duration": 14,
    "start_time": "2023-07-20T12:04:01.006Z"
   },
   {
    "duration": 5,
    "start_time": "2023-07-20T12:05:58.397Z"
   },
   {
    "duration": 10,
    "start_time": "2023-07-20T13:26:03.955Z"
   },
   {
    "duration": 9,
    "start_time": "2023-07-20T13:27:47.413Z"
   },
   {
    "duration": 10,
    "start_time": "2023-07-20T13:29:15.497Z"
   },
   {
    "duration": 8,
    "start_time": "2023-07-20T13:30:19.840Z"
   },
   {
    "duration": 6,
    "start_time": "2023-07-20T13:34:31.736Z"
   },
   {
    "duration": 16,
    "start_time": "2023-07-20T13:36:30.003Z"
   },
   {
    "duration": 12,
    "start_time": "2023-07-20T13:36:32.732Z"
   },
   {
    "duration": 14,
    "start_time": "2023-07-20T13:36:42.297Z"
   },
   {
    "duration": 9,
    "start_time": "2023-07-20T13:36:45.383Z"
   },
   {
    "duration": 3,
    "start_time": "2023-07-20T13:36:49.780Z"
   },
   {
    "duration": 7,
    "start_time": "2023-07-20T13:37:05.176Z"
   },
   {
    "duration": 7,
    "start_time": "2023-07-20T13:37:18.019Z"
   },
   {
    "duration": 7,
    "start_time": "2023-07-20T13:37:20.697Z"
   },
   {
    "duration": 7,
    "start_time": "2023-07-20T13:37:29.388Z"
   },
   {
    "duration": 7,
    "start_time": "2023-07-20T13:40:02.131Z"
   },
   {
    "duration": 3,
    "start_time": "2023-07-20T13:41:42.093Z"
   },
   {
    "duration": 24,
    "start_time": "2023-07-20T13:42:46.215Z"
   },
   {
    "duration": 8,
    "start_time": "2023-07-20T13:45:40.500Z"
   },
   {
    "duration": 11,
    "start_time": "2023-07-20T13:45:49.874Z"
   },
   {
    "duration": 9,
    "start_time": "2023-07-20T13:45:52.360Z"
   },
   {
    "duration": 7,
    "start_time": "2023-07-20T13:45:54.910Z"
   },
   {
    "duration": 9,
    "start_time": "2023-07-20T13:46:51.359Z"
   },
   {
    "duration": 7,
    "start_time": "2023-07-20T13:49:27.670Z"
   },
   {
    "duration": 7,
    "start_time": "2023-07-20T13:49:35.409Z"
   },
   {
    "duration": 9,
    "start_time": "2023-07-20T13:50:47.025Z"
   },
   {
    "duration": 3,
    "start_time": "2023-07-20T13:52:13.819Z"
   },
   {
    "duration": 4,
    "start_time": "2023-07-20T13:52:19.731Z"
   },
   {
    "duration": 8,
    "start_time": "2023-07-20T13:52:30.795Z"
   },
   {
    "duration": 10,
    "start_time": "2023-07-20T13:52:37.419Z"
   },
   {
    "duration": 6,
    "start_time": "2023-07-20T13:52:43.251Z"
   },
   {
    "duration": 16,
    "start_time": "2023-07-20T13:52:54.651Z"
   },
   {
    "duration": 471,
    "start_time": "2023-07-20T13:53:12.171Z"
   },
   {
    "duration": 19,
    "start_time": "2023-07-20T13:53:12.643Z"
   },
   {
    "duration": 13,
    "start_time": "2023-07-20T13:53:12.664Z"
   },
   {
    "duration": 22,
    "start_time": "2023-07-20T13:53:12.679Z"
   },
   {
    "duration": 27,
    "start_time": "2023-07-20T13:53:12.702Z"
   },
   {
    "duration": 2,
    "start_time": "2023-07-20T13:53:12.731Z"
   },
   {
    "duration": 11,
    "start_time": "2023-07-20T13:53:12.735Z"
   },
   {
    "duration": 4,
    "start_time": "2023-07-20T13:53:12.747Z"
   },
   {
    "duration": 12,
    "start_time": "2023-07-20T13:53:12.752Z"
   },
   {
    "duration": 4,
    "start_time": "2023-07-20T13:53:12.767Z"
   },
   {
    "duration": 39,
    "start_time": "2023-07-20T13:53:12.799Z"
   },
   {
    "duration": 9,
    "start_time": "2023-07-20T13:53:12.840Z"
   },
   {
    "duration": 4,
    "start_time": "2023-07-20T13:53:12.850Z"
   },
   {
    "duration": 16,
    "start_time": "2023-07-20T13:53:12.855Z"
   },
   {
    "duration": 40,
    "start_time": "2023-07-20T13:53:12.873Z"
   },
   {
    "duration": 16,
    "start_time": "2023-07-20T13:53:12.914Z"
   },
   {
    "duration": 3,
    "start_time": "2023-07-20T13:53:12.932Z"
   },
   {
    "duration": 27,
    "start_time": "2023-07-20T13:53:12.936Z"
   },
   {
    "duration": 6,
    "start_time": "2023-07-20T13:53:12.964Z"
   },
   {
    "duration": 3,
    "start_time": "2023-07-20T13:53:12.972Z"
   },
   {
    "duration": 25,
    "start_time": "2023-07-20T13:53:12.977Z"
   },
   {
    "duration": 5,
    "start_time": "2023-07-20T13:53:13.003Z"
   },
   {
    "duration": 21,
    "start_time": "2023-07-20T13:53:13.009Z"
   },
   {
    "duration": 11,
    "start_time": "2023-07-20T13:53:13.032Z"
   },
   {
    "duration": 17,
    "start_time": "2023-07-20T13:53:13.044Z"
   },
   {
    "duration": 35,
    "start_time": "2023-07-20T13:53:13.063Z"
   },
   {
    "duration": 9,
    "start_time": "2023-07-20T13:53:13.100Z"
   },
   {
    "duration": 18,
    "start_time": "2023-07-20T13:53:13.112Z"
   },
   {
    "duration": 27,
    "start_time": "2023-07-20T13:53:13.132Z"
   },
   {
    "duration": 27,
    "start_time": "2023-07-20T13:53:13.161Z"
   },
   {
    "duration": 28,
    "start_time": "2023-07-20T13:53:13.190Z"
   },
   {
    "duration": 19,
    "start_time": "2023-07-20T13:53:13.219Z"
   },
   {
    "duration": 22,
    "start_time": "2023-07-20T13:53:13.239Z"
   },
   {
    "duration": 18,
    "start_time": "2023-07-20T13:53:13.263Z"
   },
   {
    "duration": 23,
    "start_time": "2023-07-20T13:53:13.282Z"
   },
   {
    "duration": 25,
    "start_time": "2023-07-20T13:53:13.306Z"
   },
   {
    "duration": 27,
    "start_time": "2023-07-20T13:53:13.332Z"
   },
   {
    "duration": 10,
    "start_time": "2023-07-20T13:53:13.360Z"
   },
   {
    "duration": 22,
    "start_time": "2023-07-20T13:53:13.372Z"
   },
   {
    "duration": 11,
    "start_time": "2023-07-20T13:53:13.395Z"
   },
   {
    "duration": 19,
    "start_time": "2023-07-20T13:53:13.407Z"
   },
   {
    "duration": 22,
    "start_time": "2023-07-20T13:53:13.428Z"
   },
   {
    "duration": 24,
    "start_time": "2023-07-20T13:53:13.452Z"
   },
   {
    "duration": 28,
    "start_time": "2023-07-20T13:53:13.478Z"
   },
   {
    "duration": 24,
    "start_time": "2023-07-20T13:53:13.508Z"
   },
   {
    "duration": 12,
    "start_time": "2023-07-20T13:53:13.534Z"
   },
   {
    "duration": 35,
    "start_time": "2023-07-20T13:53:13.547Z"
   },
   {
    "duration": 12,
    "start_time": "2023-07-20T13:53:13.584Z"
   },
   {
    "duration": 9,
    "start_time": "2023-07-20T13:53:13.600Z"
   },
   {
    "duration": 15,
    "start_time": "2023-07-20T13:53:13.610Z"
   },
   {
    "duration": 44,
    "start_time": "2023-07-20T13:53:13.627Z"
   },
   {
    "duration": 25,
    "start_time": "2023-07-20T13:53:13.672Z"
   },
   {
    "duration": 15,
    "start_time": "2023-07-20T13:53:13.698Z"
   },
   {
    "duration": 20,
    "start_time": "2023-07-20T13:53:13.715Z"
   },
   {
    "duration": 15,
    "start_time": "2023-07-20T13:53:13.736Z"
   },
   {
    "duration": 22,
    "start_time": "2023-07-20T13:53:13.753Z"
   },
   {
    "duration": 8,
    "start_time": "2023-07-20T13:55:59.982Z"
   },
   {
    "duration": 498,
    "start_time": "2023-07-20T14:02:13.406Z"
   },
   {
    "duration": 21,
    "start_time": "2023-07-20T14:02:13.906Z"
   },
   {
    "duration": 16,
    "start_time": "2023-07-20T14:02:13.928Z"
   },
   {
    "duration": 9,
    "start_time": "2023-07-20T14:02:13.946Z"
   },
   {
    "duration": 57,
    "start_time": "2023-07-20T14:02:13.957Z"
   },
   {
    "duration": 4,
    "start_time": "2023-07-20T14:02:14.016Z"
   },
   {
    "duration": 12,
    "start_time": "2023-07-20T14:02:14.022Z"
   },
   {
    "duration": 7,
    "start_time": "2023-07-20T14:02:14.035Z"
   },
   {
    "duration": 15,
    "start_time": "2023-07-20T14:02:14.044Z"
   },
   {
    "duration": 11,
    "start_time": "2023-07-20T14:02:14.061Z"
   },
   {
    "duration": 47,
    "start_time": "2023-07-20T14:02:14.073Z"
   },
   {
    "duration": 9,
    "start_time": "2023-07-20T14:02:14.121Z"
   },
   {
    "duration": 20,
    "start_time": "2023-07-20T14:02:14.132Z"
   },
   {
    "duration": 17,
    "start_time": "2023-07-20T14:02:14.156Z"
   },
   {
    "duration": 33,
    "start_time": "2023-07-20T14:02:14.174Z"
   },
   {
    "duration": 17,
    "start_time": "2023-07-20T14:02:14.208Z"
   },
   {
    "duration": 3,
    "start_time": "2023-07-20T14:02:14.227Z"
   },
   {
    "duration": 18,
    "start_time": "2023-07-20T14:02:14.232Z"
   },
   {
    "duration": 11,
    "start_time": "2023-07-20T14:02:14.251Z"
   },
   {
    "duration": 4,
    "start_time": "2023-07-20T14:02:14.263Z"
   },
   {
    "duration": 30,
    "start_time": "2023-07-20T14:02:14.269Z"
   },
   {
    "duration": 6,
    "start_time": "2023-07-20T14:02:14.301Z"
   },
   {
    "duration": 18,
    "start_time": "2023-07-20T14:02:14.308Z"
   },
   {
    "duration": 6,
    "start_time": "2023-07-20T14:02:14.328Z"
   },
   {
    "duration": 28,
    "start_time": "2023-07-20T14:02:14.336Z"
   },
   {
    "duration": 14,
    "start_time": "2023-07-20T14:02:14.366Z"
   },
   {
    "duration": 10,
    "start_time": "2023-07-20T14:02:14.382Z"
   },
   {
    "duration": 16,
    "start_time": "2023-07-20T14:02:14.393Z"
   },
   {
    "duration": 19,
    "start_time": "2023-07-20T14:02:14.411Z"
   },
   {
    "duration": 19,
    "start_time": "2023-07-20T14:02:14.432Z"
   },
   {
    "duration": 23,
    "start_time": "2023-07-20T14:02:14.452Z"
   },
   {
    "duration": 24,
    "start_time": "2023-07-20T14:02:14.476Z"
   },
   {
    "duration": 27,
    "start_time": "2023-07-20T14:02:14.502Z"
   },
   {
    "duration": 26,
    "start_time": "2023-07-20T14:02:14.531Z"
   },
   {
    "duration": 17,
    "start_time": "2023-07-20T14:02:14.559Z"
   },
   {
    "duration": 33,
    "start_time": "2023-07-20T14:02:14.578Z"
   },
   {
    "duration": 38,
    "start_time": "2023-07-20T14:02:14.614Z"
   },
   {
    "duration": 17,
    "start_time": "2023-07-20T14:02:14.653Z"
   },
   {
    "duration": 12,
    "start_time": "2023-07-20T14:02:14.672Z"
   },
   {
    "duration": 7,
    "start_time": "2023-07-20T14:02:14.685Z"
   },
   {
    "duration": 7,
    "start_time": "2023-07-20T14:02:14.702Z"
   },
   {
    "duration": 36,
    "start_time": "2023-07-20T14:02:14.711Z"
   },
   {
    "duration": 42,
    "start_time": "2023-07-20T14:02:14.748Z"
   },
   {
    "duration": 44,
    "start_time": "2023-07-20T14:02:14.792Z"
   },
   {
    "duration": 55,
    "start_time": "2023-07-20T14:02:14.838Z"
   },
   {
    "duration": 30,
    "start_time": "2023-07-20T14:02:14.895Z"
   },
   {
    "duration": 30,
    "start_time": "2023-07-20T14:02:14.927Z"
   },
   {
    "duration": 28,
    "start_time": "2023-07-20T14:02:14.959Z"
   },
   {
    "duration": 15,
    "start_time": "2023-07-20T14:02:14.988Z"
   },
   {
    "duration": 37,
    "start_time": "2023-07-20T14:02:15.004Z"
   },
   {
    "duration": 41,
    "start_time": "2023-07-20T14:02:15.042Z"
   },
   {
    "duration": 34,
    "start_time": "2023-07-20T14:02:15.085Z"
   },
   {
    "duration": 24,
    "start_time": "2023-07-20T14:02:15.121Z"
   },
   {
    "duration": 26,
    "start_time": "2023-07-20T14:02:15.148Z"
   },
   {
    "duration": 20,
    "start_time": "2023-07-20T14:02:15.177Z"
   },
   {
    "duration": 31,
    "start_time": "2023-07-20T14:02:15.199Z"
   },
   {
    "duration": 516,
    "start_time": "2023-07-20T16:23:26.837Z"
   },
   {
    "duration": 25,
    "start_time": "2023-07-20T16:23:27.355Z"
   },
   {
    "duration": 19,
    "start_time": "2023-07-20T16:23:27.382Z"
   },
   {
    "duration": 10,
    "start_time": "2023-07-20T16:23:27.403Z"
   },
   {
    "duration": 55,
    "start_time": "2023-07-20T16:23:27.415Z"
   },
   {
    "duration": 4,
    "start_time": "2023-07-20T16:23:27.472Z"
   },
   {
    "duration": 19,
    "start_time": "2023-07-20T16:23:27.479Z"
   },
   {
    "duration": 4,
    "start_time": "2023-07-20T16:23:27.500Z"
   },
   {
    "duration": 11,
    "start_time": "2023-07-20T16:23:27.506Z"
   },
   {
    "duration": 4,
    "start_time": "2023-07-20T16:23:27.521Z"
   },
   {
    "duration": 59,
    "start_time": "2023-07-20T16:23:27.527Z"
   },
   {
    "duration": 10,
    "start_time": "2023-07-20T16:23:27.588Z"
   },
   {
    "duration": 6,
    "start_time": "2023-07-20T16:23:27.600Z"
   },
   {
    "duration": 22,
    "start_time": "2023-07-20T16:23:27.608Z"
   },
   {
    "duration": 31,
    "start_time": "2023-07-20T16:23:27.632Z"
   },
   {
    "duration": 20,
    "start_time": "2023-07-20T16:23:27.665Z"
   },
   {
    "duration": 4,
    "start_time": "2023-07-20T16:23:27.687Z"
   },
   {
    "duration": 26,
    "start_time": "2023-07-20T16:23:27.692Z"
   },
   {
    "duration": 7,
    "start_time": "2023-07-20T16:23:27.720Z"
   },
   {
    "duration": 13,
    "start_time": "2023-07-20T16:23:27.729Z"
   },
   {
    "duration": 19,
    "start_time": "2023-07-20T16:23:27.744Z"
   },
   {
    "duration": 13,
    "start_time": "2023-07-20T16:23:27.764Z"
   },
   {
    "duration": 15,
    "start_time": "2023-07-20T16:23:27.779Z"
   },
   {
    "duration": 7,
    "start_time": "2023-07-20T16:23:27.795Z"
   },
   {
    "duration": 7,
    "start_time": "2023-07-20T16:23:27.804Z"
   },
   {
    "duration": 6,
    "start_time": "2023-07-20T16:23:27.812Z"
   },
   {
    "duration": 8,
    "start_time": "2023-07-20T16:23:27.820Z"
   },
   {
    "duration": 30,
    "start_time": "2023-07-20T16:23:27.831Z"
   },
   {
    "duration": 20,
    "start_time": "2023-07-20T16:23:27.863Z"
   },
   {
    "duration": 11,
    "start_time": "2023-07-20T16:23:27.885Z"
   },
   {
    "duration": 9,
    "start_time": "2023-07-20T16:23:27.897Z"
   },
   {
    "duration": 6,
    "start_time": "2023-07-20T16:23:27.908Z"
   },
   {
    "duration": 12,
    "start_time": "2023-07-20T16:23:27.915Z"
   },
   {
    "duration": 9,
    "start_time": "2023-07-20T16:23:27.960Z"
   },
   {
    "duration": 11,
    "start_time": "2023-07-20T16:23:27.970Z"
   },
   {
    "duration": 19,
    "start_time": "2023-07-20T16:23:27.983Z"
   },
   {
    "duration": 17,
    "start_time": "2023-07-20T16:23:28.004Z"
   },
   {
    "duration": 9,
    "start_time": "2023-07-20T16:23:28.023Z"
   },
   {
    "duration": 34,
    "start_time": "2023-07-20T16:23:28.034Z"
   },
   {
    "duration": 8,
    "start_time": "2023-07-20T16:23:28.069Z"
   },
   {
    "duration": 17,
    "start_time": "2023-07-20T16:23:28.079Z"
   },
   {
    "duration": 9,
    "start_time": "2023-07-20T16:23:28.098Z"
   },
   {
    "duration": 10,
    "start_time": "2023-07-20T16:23:28.109Z"
   },
   {
    "duration": 13,
    "start_time": "2023-07-20T16:23:28.121Z"
   },
   {
    "duration": 25,
    "start_time": "2023-07-20T16:23:28.136Z"
   },
   {
    "duration": 13,
    "start_time": "2023-07-20T16:23:28.162Z"
   },
   {
    "duration": 28,
    "start_time": "2023-07-20T16:23:28.177Z"
   },
   {
    "duration": 13,
    "start_time": "2023-07-20T16:23:28.207Z"
   },
   {
    "duration": 10,
    "start_time": "2023-07-20T16:23:28.221Z"
   },
   {
    "duration": 32,
    "start_time": "2023-07-20T16:23:28.232Z"
   },
   {
    "duration": 11,
    "start_time": "2023-07-20T16:23:28.266Z"
   },
   {
    "duration": 20,
    "start_time": "2023-07-20T16:23:28.279Z"
   },
   {
    "duration": 29,
    "start_time": "2023-07-20T16:23:28.301Z"
   },
   {
    "duration": 19,
    "start_time": "2023-07-20T16:23:28.332Z"
   },
   {
    "duration": 16,
    "start_time": "2023-07-20T16:23:28.352Z"
   },
   {
    "duration": 8,
    "start_time": "2023-07-20T16:23:28.370Z"
   },
   {
    "duration": 715,
    "start_time": "2023-07-21T07:22:45.098Z"
   },
   {
    "duration": 20,
    "start_time": "2023-07-21T07:22:45.815Z"
   },
   {
    "duration": 14,
    "start_time": "2023-07-21T07:22:45.836Z"
   },
   {
    "duration": 9,
    "start_time": "2023-07-21T07:22:45.852Z"
   },
   {
    "duration": 41,
    "start_time": "2023-07-21T07:22:45.862Z"
   },
   {
    "duration": 3,
    "start_time": "2023-07-21T07:22:45.904Z"
   },
   {
    "duration": 9,
    "start_time": "2023-07-21T07:22:45.909Z"
   },
   {
    "duration": 14,
    "start_time": "2023-07-21T07:22:45.920Z"
   },
   {
    "duration": 12,
    "start_time": "2023-07-21T07:22:45.935Z"
   },
   {
    "duration": 5,
    "start_time": "2023-07-21T07:22:45.949Z"
   },
   {
    "duration": 59,
    "start_time": "2023-07-21T07:22:45.956Z"
   },
   {
    "duration": 11,
    "start_time": "2023-07-21T07:22:46.017Z"
   },
   {
    "duration": 11,
    "start_time": "2023-07-21T07:22:46.030Z"
   },
   {
    "duration": 27,
    "start_time": "2023-07-21T07:22:46.042Z"
   },
   {
    "duration": 32,
    "start_time": "2023-07-21T07:22:46.071Z"
   },
   {
    "duration": 22,
    "start_time": "2023-07-21T07:22:46.105Z"
   },
   {
    "duration": 5,
    "start_time": "2023-07-21T07:22:46.129Z"
   },
   {
    "duration": 14,
    "start_time": "2023-07-21T07:22:46.136Z"
   },
   {
    "duration": 19,
    "start_time": "2023-07-21T07:22:46.152Z"
   },
   {
    "duration": 6,
    "start_time": "2023-07-21T07:22:46.173Z"
   },
   {
    "duration": 23,
    "start_time": "2023-07-21T07:22:46.181Z"
   },
   {
    "duration": 7,
    "start_time": "2023-07-21T07:22:46.205Z"
   },
   {
    "duration": 10,
    "start_time": "2023-07-21T07:22:46.214Z"
   },
   {
    "duration": 5,
    "start_time": "2023-07-21T07:22:46.226Z"
   },
   {
    "duration": 7,
    "start_time": "2023-07-21T07:22:46.232Z"
   },
   {
    "duration": 7,
    "start_time": "2023-07-21T07:22:46.240Z"
   },
   {
    "duration": 12,
    "start_time": "2023-07-21T07:22:46.248Z"
   },
   {
    "duration": 7,
    "start_time": "2023-07-21T07:22:46.264Z"
   },
   {
    "duration": 31,
    "start_time": "2023-07-21T07:22:46.273Z"
   },
   {
    "duration": 8,
    "start_time": "2023-07-21T07:22:46.306Z"
   },
   {
    "duration": 9,
    "start_time": "2023-07-21T07:22:46.315Z"
   },
   {
    "duration": 5,
    "start_time": "2023-07-21T07:22:46.326Z"
   },
   {
    "duration": 11,
    "start_time": "2023-07-21T07:22:46.332Z"
   },
   {
    "duration": 11,
    "start_time": "2023-07-21T07:22:46.345Z"
   },
   {
    "duration": 47,
    "start_time": "2023-07-21T07:22:46.358Z"
   },
   {
    "duration": 7,
    "start_time": "2023-07-21T07:22:46.406Z"
   },
   {
    "duration": 19,
    "start_time": "2023-07-21T07:22:46.414Z"
   },
   {
    "duration": 11,
    "start_time": "2023-07-21T07:22:46.434Z"
   },
   {
    "duration": 21,
    "start_time": "2023-07-21T07:22:46.446Z"
   },
   {
    "duration": 7,
    "start_time": "2023-07-21T07:22:46.469Z"
   },
   {
    "duration": 42,
    "start_time": "2023-07-21T07:22:46.478Z"
   },
   {
    "duration": 24,
    "start_time": "2023-07-21T07:22:46.522Z"
   },
   {
    "duration": 13,
    "start_time": "2023-07-21T07:22:46.547Z"
   },
   {
    "duration": 12,
    "start_time": "2023-07-21T07:22:46.562Z"
   },
   {
    "duration": 8,
    "start_time": "2023-07-21T07:22:46.576Z"
   },
   {
    "duration": 3,
    "start_time": "2023-07-21T07:22:46.586Z"
   },
   {
    "duration": 22,
    "start_time": "2023-07-21T07:22:46.591Z"
   },
   {
    "duration": 13,
    "start_time": "2023-07-21T07:22:46.615Z"
   },
   {
    "duration": 8,
    "start_time": "2023-07-21T07:22:46.629Z"
   },
   {
    "duration": 8,
    "start_time": "2023-07-21T07:22:46.639Z"
   },
   {
    "duration": 23,
    "start_time": "2023-07-21T07:22:46.649Z"
   },
   {
    "duration": 34,
    "start_time": "2023-07-21T07:22:46.673Z"
   },
   {
    "duration": 11,
    "start_time": "2023-07-21T07:22:46.709Z"
   },
   {
    "duration": 19,
    "start_time": "2023-07-21T07:22:46.722Z"
   },
   {
    "duration": 24,
    "start_time": "2023-07-21T07:22:46.743Z"
   },
   {
    "duration": 48,
    "start_time": "2023-07-21T07:22:46.768Z"
   },
   {
    "duration": 654,
    "start_time": "2023-07-21T08:15:04.607Z"
   },
   {
    "duration": 22,
    "start_time": "2023-07-21T08:15:05.263Z"
   },
   {
    "duration": 31,
    "start_time": "2023-07-21T08:15:05.287Z"
   },
   {
    "duration": 21,
    "start_time": "2023-07-21T08:15:05.321Z"
   },
   {
    "duration": 67,
    "start_time": "2023-07-21T08:15:05.344Z"
   },
   {
    "duration": 3,
    "start_time": "2023-07-21T08:15:05.414Z"
   },
   {
    "duration": 16,
    "start_time": "2023-07-21T08:15:05.419Z"
   },
   {
    "duration": 12,
    "start_time": "2023-07-21T08:15:05.437Z"
   },
   {
    "duration": 12,
    "start_time": "2023-07-21T08:15:05.450Z"
   },
   {
    "duration": 5,
    "start_time": "2023-07-21T08:15:05.467Z"
   },
   {
    "duration": 52,
    "start_time": "2023-07-21T08:15:05.474Z"
   },
   {
    "duration": 25,
    "start_time": "2023-07-21T08:15:05.528Z"
   },
   {
    "duration": 11,
    "start_time": "2023-07-21T08:15:05.555Z"
   },
   {
    "duration": 26,
    "start_time": "2023-07-21T08:15:05.568Z"
   },
   {
    "duration": 52,
    "start_time": "2023-07-21T08:15:05.596Z"
   },
   {
    "duration": 17,
    "start_time": "2023-07-21T08:15:05.650Z"
   },
   {
    "duration": 4,
    "start_time": "2023-07-21T08:15:05.669Z"
   },
   {
    "duration": 31,
    "start_time": "2023-07-21T08:15:05.674Z"
   },
   {
    "duration": 26,
    "start_time": "2023-07-21T08:15:05.707Z"
   },
   {
    "duration": 10,
    "start_time": "2023-07-21T08:15:05.734Z"
   },
   {
    "duration": 31,
    "start_time": "2023-07-21T08:15:05.745Z"
   },
   {
    "duration": 23,
    "start_time": "2023-07-21T08:15:05.777Z"
   },
   {
    "duration": 22,
    "start_time": "2023-07-21T08:15:05.802Z"
   },
   {
    "duration": 8,
    "start_time": "2023-07-21T08:15:05.826Z"
   },
   {
    "duration": 24,
    "start_time": "2023-07-21T08:15:05.836Z"
   },
   {
    "duration": 21,
    "start_time": "2023-07-21T08:15:05.862Z"
   },
   {
    "duration": 22,
    "start_time": "2023-07-21T08:15:05.885Z"
   },
   {
    "duration": 25,
    "start_time": "2023-07-21T08:15:05.912Z"
   },
   {
    "duration": 26,
    "start_time": "2023-07-21T08:15:05.938Z"
   },
   {
    "duration": 26,
    "start_time": "2023-07-21T08:15:05.966Z"
   },
   {
    "duration": 36,
    "start_time": "2023-07-21T08:15:05.993Z"
   },
   {
    "duration": 11,
    "start_time": "2023-07-21T08:15:06.031Z"
   },
   {
    "duration": 22,
    "start_time": "2023-07-21T08:15:06.044Z"
   },
   {
    "duration": 20,
    "start_time": "2023-07-21T08:15:06.068Z"
   },
   {
    "duration": 27,
    "start_time": "2023-07-21T08:15:06.090Z"
   },
   {
    "duration": 13,
    "start_time": "2023-07-21T08:15:06.119Z"
   },
   {
    "duration": 26,
    "start_time": "2023-07-21T08:15:06.134Z"
   },
   {
    "duration": 10,
    "start_time": "2023-07-21T08:15:06.163Z"
   },
   {
    "duration": 13,
    "start_time": "2023-07-21T08:15:06.175Z"
   },
   {
    "duration": 13,
    "start_time": "2023-07-21T08:15:06.190Z"
   },
   {
    "duration": 25,
    "start_time": "2023-07-21T08:15:06.205Z"
   },
   {
    "duration": 14,
    "start_time": "2023-07-21T08:15:06.232Z"
   },
   {
    "duration": 14,
    "start_time": "2023-07-21T08:15:06.247Z"
   },
   {
    "duration": 19,
    "start_time": "2023-07-21T08:15:06.263Z"
   },
   {
    "duration": 23,
    "start_time": "2023-07-21T08:15:06.284Z"
   },
   {
    "duration": 6,
    "start_time": "2023-07-21T08:15:06.309Z"
   },
   {
    "duration": 29,
    "start_time": "2023-07-21T08:15:06.317Z"
   },
   {
    "duration": 13,
    "start_time": "2023-07-21T08:15:06.347Z"
   },
   {
    "duration": 11,
    "start_time": "2023-07-21T08:15:06.362Z"
   },
   {
    "duration": 42,
    "start_time": "2023-07-21T08:15:06.375Z"
   },
   {
    "duration": 20,
    "start_time": "2023-07-21T08:15:06.418Z"
   },
   {
    "duration": 12,
    "start_time": "2023-07-21T08:15:06.440Z"
   },
   {
    "duration": 11,
    "start_time": "2023-07-21T08:15:06.453Z"
   },
   {
    "duration": 19,
    "start_time": "2023-07-21T08:15:06.465Z"
   },
   {
    "duration": 13,
    "start_time": "2023-07-21T08:15:06.486Z"
   },
   {
    "duration": 12,
    "start_time": "2023-07-21T08:15:06.500Z"
   }
  ],
  "colab": {
   "provenance": []
  },
  "kernelspec": {
   "display_name": "Python 3 (ipykernel)",
   "language": "python",
   "name": "python3"
  },
  "language_info": {
   "codemirror_mode": {
    "name": "ipython",
    "version": 3
   },
   "file_extension": ".py",
   "mimetype": "text/x-python",
   "name": "python",
   "nbconvert_exporter": "python",
   "pygments_lexer": "ipython3",
   "version": "3.9.5"
  },
  "toc": {
   "base_numbering": 0,
   "nav_menu": {},
   "number_sections": false,
   "sideBar": true,
   "skip_h1_title": true,
   "title_cell": "Table of Contents",
   "title_sidebar": "Contents",
   "toc_cell": false,
   "toc_position": {
    "height": "calc(100% - 180px)",
    "left": "10px",
    "top": "150px",
    "width": "165px"
   },
   "toc_section_display": true,
   "toc_window_display": true
  },
  "toc-autonumbering": true,
  "toc-showcode": false,
  "toc-showmarkdowntxt": false,
  "toc-showtags": false
 },
 "nbformat": 4,
 "nbformat_minor": 5
}
